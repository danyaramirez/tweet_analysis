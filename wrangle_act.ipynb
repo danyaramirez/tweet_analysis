{
 "cells": [
  {
   "cell_type": "markdown",
   "metadata": {},
   "source": [
    "# Project 4: Data Wrangling"
   ]
  },
  {
   "cell_type": "markdown",
   "metadata": {},
   "source": [
    "### Overview:\n",
    "\n",
    "The objective of this project is to gather, assess and clean a dataset that involves the tweet archive of Twitter user @dog_rates, also known as WeRateDogs.\n",
    "\n",
    "### Table of contents:\n",
    "<ul>\n",
    "<li><a href=\"#gather\">Gathering the data</a></li>\n",
    "<li><a href=\"#assess\">Assessing the data</a></li>\n",
    "<li><a href=\"#clean\">Cleaning the data</a></li>\n",
    "    <a href=\"#miss\">>Missing data</a>\n",
    "    <a href=\"#tidy\">>Data Tidiness Issues</a>\n",
    "    <a href=\"#dirty\">>Data Quality Issues</a>\n",
    "<li><a href=\"#store\">Storing the data</a></li>\n",
    "<li><a href=\"#analysis\">Analyzing and visualizing the data</a></li>   \n",
    "</ul>"
   ]
  },
  {
   "cell_type": "markdown",
   "metadata": {},
   "source": [
    "<a id='gather'></a>\n",
    "## Gathering the data"
   ]
  },
  {
   "cell_type": "code",
   "execution_count": 284,
   "metadata": {},
   "outputs": [],
   "source": [
    "# Import necessary packages for this section\n",
    "import pandas as pd\n",
    "import requests\n",
    "import tweepy\n",
    "from tweepy import OAuthHandler\n",
    "import json\n",
    "from timeit import default_timer as timer\n",
    "import re as re\n",
    "import numpy as np\n",
    "import matplotlib.pyplot as plt\n",
    "%matplotlib inline"
   ]
  },
  {
   "cell_type": "markdown",
   "metadata": {},
   "source": [
    "### Tweet archive file"
   ]
  },
  {
   "cell_type": "code",
   "execution_count": 285,
   "metadata": {},
   "outputs": [],
   "source": [
    "# Load csv file with tweet archive\n",
    "archive = pd.read_csv(\"twitter-archive-enhanced.csv\")"
   ]
  },
  {
   "cell_type": "markdown",
   "metadata": {},
   "source": [
    "### Image Predictions file"
   ]
  },
  {
   "cell_type": "code",
   "execution_count": 286,
   "metadata": {},
   "outputs": [],
   "source": [
    "# Download tweet image predictions tsv file from Udacity's servers\n",
    "url = \"https://d17h27t6h515a5.cloudfront.net/topher/2017/August/599fd2ad_image-predictions/image-predictions.tsv\"\n",
    "result = requests.get(url)\n",
    "\n",
    "with open(\"image_predictions.tsv\", mode = 'wb') as f:\n",
    "    f.write(result.content)"
   ]
  },
  {
   "cell_type": "code",
   "execution_count": 287,
   "metadata": {},
   "outputs": [],
   "source": [
    "# Load tsv file with image predictions\n",
    "predictions = pd.read_csv(\"image_predictions.tsv\", sep=\"\\t\")"
   ]
  },
  {
   "cell_type": "markdown",
   "metadata": {},
   "source": [
    "### Tweet's likes and retweets dataset"
   ]
  },
  {
   "cell_type": "code",
   "execution_count": 288,
   "metadata": {},
   "outputs": [],
   "source": [
    "# Access Twitter's API\n",
    "consumer_key = 'HIDDEN'\n",
    "consumer_secret = 'HIDDEN'\n",
    "access_token = 'HIDDEN'\n",
    "access_secret = 'HIDDEN'\n",
    "\n",
    "auth = tweepy.OAuthHandler(consumer_key, consumer_secret)\n",
    "auth.set_access_token(access_token, access_secret)\n",
    "\n",
    "api = tweepy.API(auth)"
   ]
  },
  {
   "cell_type": "code",
   "execution_count": 289,
   "metadata": {},
   "outputs": [
    {
     "data": {
      "text/html": [
       "<div>\n",
       "<style scoped>\n",
       "    .dataframe tbody tr th:only-of-type {\n",
       "        vertical-align: middle;\n",
       "    }\n",
       "\n",
       "    .dataframe tbody tr th {\n",
       "        vertical-align: top;\n",
       "    }\n",
       "\n",
       "    .dataframe thead th {\n",
       "        text-align: right;\n",
       "    }\n",
       "</style>\n",
       "<table border=\"1\" class=\"dataframe\">\n",
       "  <thead>\n",
       "    <tr style=\"text-align: right;\">\n",
       "      <th></th>\n",
       "      <th>tweet_id</th>\n",
       "      <th>in_reply_to_status_id</th>\n",
       "      <th>in_reply_to_user_id</th>\n",
       "      <th>timestamp</th>\n",
       "      <th>source</th>\n",
       "      <th>text</th>\n",
       "      <th>retweeted_status_id</th>\n",
       "      <th>retweeted_status_user_id</th>\n",
       "      <th>retweeted_status_timestamp</th>\n",
       "      <th>expanded_urls</th>\n",
       "      <th>rating_numerator</th>\n",
       "      <th>rating_denominator</th>\n",
       "      <th>name</th>\n",
       "      <th>doggo</th>\n",
       "      <th>floofer</th>\n",
       "      <th>pupper</th>\n",
       "      <th>puppo</th>\n",
       "    </tr>\n",
       "  </thead>\n",
       "  <tbody>\n",
       "    <tr>\n",
       "      <th>0</th>\n",
       "      <td>892420643555336193</td>\n",
       "      <td>NaN</td>\n",
       "      <td>NaN</td>\n",
       "      <td>2017-08-01 16:23:56 +0000</td>\n",
       "      <td>&lt;a href=\"http://twitter.com/download/iphone\" r...</td>\n",
       "      <td>This is Phineas. He's a mystical boy. Only eve...</td>\n",
       "      <td>NaN</td>\n",
       "      <td>NaN</td>\n",
       "      <td>NaN</td>\n",
       "      <td>https://twitter.com/dog_rates/status/892420643...</td>\n",
       "      <td>13</td>\n",
       "      <td>10</td>\n",
       "      <td>Phineas</td>\n",
       "      <td>None</td>\n",
       "      <td>None</td>\n",
       "      <td>None</td>\n",
       "      <td>None</td>\n",
       "    </tr>\n",
       "  </tbody>\n",
       "</table>\n",
       "</div>"
      ],
      "text/plain": [
       "             tweet_id  in_reply_to_status_id  in_reply_to_user_id  \\\n",
       "0  892420643555336193                    NaN                  NaN   \n",
       "\n",
       "                   timestamp  \\\n",
       "0  2017-08-01 16:23:56 +0000   \n",
       "\n",
       "                                              source  \\\n",
       "0  <a href=\"http://twitter.com/download/iphone\" r...   \n",
       "\n",
       "                                                text  retweeted_status_id  \\\n",
       "0  This is Phineas. He's a mystical boy. Only eve...                  NaN   \n",
       "\n",
       "   retweeted_status_user_id retweeted_status_timestamp  \\\n",
       "0                       NaN                        NaN   \n",
       "\n",
       "                                       expanded_urls  rating_numerator  \\\n",
       "0  https://twitter.com/dog_rates/status/892420643...                13   \n",
       "\n",
       "   rating_denominator     name doggo floofer pupper puppo  \n",
       "0                  10  Phineas  None    None   None  None  "
      ]
     },
     "execution_count": 289,
     "metadata": {},
     "output_type": "execute_result"
    }
   ],
   "source": [
    "\n",
    "archive.head(1)"
   ]
  },
  {
   "cell_type": "code",
   "execution_count": 290,
   "metadata": {},
   "outputs": [],
   "source": [
    "# Create a list with tweet's ID's from the archive file\n",
    "twid = archive[\"tweet_id\"].values"
   ]
  },
  {
   "cell_type": "code",
   "execution_count": 291,
   "metadata": {},
   "outputs": [],
   "source": [
    "# Query Twitter API to get information for each tweet ID, and save each tweet info as a new line in a txt file \n",
    "#(\"tweet_json.text\").\n",
    "#count = 0\n",
    "#fails_dict = {}\n",
    "#start = timer()\n",
    "#with open('tweet_json.txt', 'w') as outfile:\n",
    "    #for i in twid:\n",
    "        #count += 1\n",
    "        #print(str(count) + \": \" + str(i))\n",
    "        #try:\n",
    "            #tweet = api.get_status(i, tweet_mode='extended')\n",
    "            #print(\"Success\")\n",
    "            #json.dump(tweet._json, outfile)\n",
    "            #outfile.write('\\n')\n",
    "        #except tweepy.TweepError as e:\n",
    "            #print(\"Fail\")\n",
    "            #fails_dict[i] = e\n",
    "            #pass\n",
    "#end = timer()\n",
    "#print(end - start)\n",
    "#print(fails_dict)"
   ]
  },
  {
   "cell_type": "markdown",
   "metadata": {},
   "source": [
    ">This code yielded numerous 'Fail' instances, so I commented the code and, following the advice in the forum\n",
    "(https://knowledge.udacity.com/questions/228949), I downloaded the txt file provided in the instructions \n",
    "of the project."
   ]
  },
  {
   "cell_type": "code",
   "execution_count": 292,
   "metadata": {},
   "outputs": [],
   "source": [
    "# Create a Python dictionary (allJson) from the txt file (tweet-json.txt)\n",
    "alljson = []\n",
    "with open('tweet-json.txt') as json_file:\n",
    "    for line in json_file:\n",
    "        data = json.loads(line)\n",
    "        alljson.append({'tweet_id': data['id'], 'retweets': data['retweet_count'], 'likes_count': data['favorite_count']})\n",
    "        \n",
    "# Create Pandas dataframe from dictionary\n",
    "add_info = pd.DataFrame(alljson, columns=['tweet_id','retweets','likes_count'])"
   ]
  },
  {
   "cell_type": "markdown",
   "metadata": {},
   "source": [
    "<a id='assess'></a>\n",
    "## Assessing the Data"
   ]
  },
  {
   "cell_type": "markdown",
   "metadata": {},
   "source": [
    "### Data Quality Issues"
   ]
  },
  {
   "cell_type": "markdown",
   "metadata": {},
   "source": [
    "#### *archive* table - after creating archive_comb, below, changes will be done in the latter\n",
    "\n",
    "- timestamp column has object as datatype instead of datetime (DONE)\n",
    "- According to project instructions, not all rating denominators are 10. However, there is one that has 0, which is a mistake\n",
    "- Columns doggo, floffer, pupper, puppo show no missing values, although they include value \"None\". Should be empty. (DONE)\n",
    "- Missing: Some name values are empty, when the name of the dog is indeed in the text (SKIPPED)"
   ]
  },
  {
   "cell_type": "markdown",
   "metadata": {},
   "source": [
    "#### *predictions* table\n",
    "- Column names are unclear for whom has not gotten a previous explanation (DONE)\n",
    "- Some predictions are capitalized and some are not (DONE)\n",
    "- Missing: 281 image predictions are missing (DONE)"
   ]
  },
  {
   "cell_type": "markdown",
   "metadata": {},
   "source": [
    "#### *add_info* table\n",
    "- Missing: Number of rows in add_info and archive are not the same (DONE)"
   ]
  },
  {
   "cell_type": "markdown",
   "metadata": {},
   "source": [
    "#### ***archive_comb\n",
    "This table will result from the merging of archive and add_info, which is noted as an issue below. "
   ]
  },
  {
   "cell_type": "markdown",
   "metadata": {},
   "source": [
    "- A few tweets dog_stages column have two dog stages. (DONE)\n",
    "- Missing values are not considered empty, but as blank values in the dog_stages column.(DONE)"
   ]
  },
  {
   "cell_type": "markdown",
   "metadata": {},
   "source": [
    "### Data Tidiness Issues"
   ]
  },
  {
   "cell_type": "markdown",
   "metadata": {},
   "source": [
    "#### *archive* table\n",
    "- Columns doggo, floffer, pupper, puppo should be together in one dog_type column (category datatype) (DONE)\n",
    "- Columns in_reply_to_status_id and in_reply_to_user_id are virtually empty. (DONE)"
   ]
  },
  {
   "cell_type": "markdown",
   "metadata": {},
   "source": [
    "#### *add_info* table\n",
    "- This table should be merged with archive. Both are talking about the tweet entity. (DONE)"
   ]
  },
  {
   "cell_type": "markdown",
   "metadata": {},
   "source": [
    "#### ***archive_comb\n",
    "- Retweets are present (we do not need them) (DONE)\n",
    "- predictions table and archive table need to have the same number of rows (same tweet_id) (DONE)\n",
    "- archive_comb does not need either retweeted_status_id, retweeted_status_user_id, or retweeted_status_timestamp columns (DONE)"
   ]
  },
  {
   "cell_type": "markdown",
   "metadata": {},
   "source": [
    ">　The issues above was determined based on the exploration below."
   ]
  },
  {
   "cell_type": "code",
   "execution_count": 293,
   "metadata": {},
   "outputs": [
    {
     "data": {
      "text/html": [
       "<div>\n",
       "<style scoped>\n",
       "    .dataframe tbody tr th:only-of-type {\n",
       "        vertical-align: middle;\n",
       "    }\n",
       "\n",
       "    .dataframe tbody tr th {\n",
       "        vertical-align: top;\n",
       "    }\n",
       "\n",
       "    .dataframe thead th {\n",
       "        text-align: right;\n",
       "    }\n",
       "</style>\n",
       "<table border=\"1\" class=\"dataframe\">\n",
       "  <thead>\n",
       "    <tr style=\"text-align: right;\">\n",
       "      <th></th>\n",
       "      <th>tweet_id</th>\n",
       "      <th>in_reply_to_status_id</th>\n",
       "      <th>in_reply_to_user_id</th>\n",
       "      <th>timestamp</th>\n",
       "      <th>source</th>\n",
       "      <th>text</th>\n",
       "      <th>retweeted_status_id</th>\n",
       "      <th>retweeted_status_user_id</th>\n",
       "      <th>retweeted_status_timestamp</th>\n",
       "      <th>expanded_urls</th>\n",
       "      <th>rating_numerator</th>\n",
       "      <th>rating_denominator</th>\n",
       "      <th>name</th>\n",
       "      <th>doggo</th>\n",
       "      <th>floofer</th>\n",
       "      <th>pupper</th>\n",
       "      <th>puppo</th>\n",
       "    </tr>\n",
       "  </thead>\n",
       "  <tbody>\n",
       "    <tr>\n",
       "      <th>345</th>\n",
       "      <td>831939777352105988</td>\n",
       "      <td>NaN</td>\n",
       "      <td>NaN</td>\n",
       "      <td>2017-02-15 18:54:34 +0000</td>\n",
       "      <td>&lt;a href=\"http://twitter.com/download/iphone\" r...</td>\n",
       "      <td>This is Emanuel. He's a h*ckin rare doggo. Dwe...</td>\n",
       "      <td>NaN</td>\n",
       "      <td>NaN</td>\n",
       "      <td>NaN</td>\n",
       "      <td>https://twitter.com/dog_rates/status/831939777...</td>\n",
       "      <td>12</td>\n",
       "      <td>10</td>\n",
       "      <td>Emanuel</td>\n",
       "      <td>doggo</td>\n",
       "      <td>None</td>\n",
       "      <td>None</td>\n",
       "      <td>None</td>\n",
       "    </tr>\n",
       "    <tr>\n",
       "      <th>223</th>\n",
       "      <td>849412302885593088</td>\n",
       "      <td>NaN</td>\n",
       "      <td>NaN</td>\n",
       "      <td>2017-04-05 00:04:08 +0000</td>\n",
       "      <td>&lt;a href=\"http://twitter.com/download/iphone\" r...</td>\n",
       "      <td>This is Noosh. He noticed you were in the show...</td>\n",
       "      <td>NaN</td>\n",
       "      <td>NaN</td>\n",
       "      <td>NaN</td>\n",
       "      <td>https://twitter.com/dog_rates/status/849412302...</td>\n",
       "      <td>12</td>\n",
       "      <td>10</td>\n",
       "      <td>Noosh</td>\n",
       "      <td>None</td>\n",
       "      <td>None</td>\n",
       "      <td>None</td>\n",
       "      <td>None</td>\n",
       "    </tr>\n",
       "    <tr>\n",
       "      <th>679</th>\n",
       "      <td>789137962068021249</td>\n",
       "      <td>NaN</td>\n",
       "      <td>NaN</td>\n",
       "      <td>2016-10-20 16:15:26 +0000</td>\n",
       "      <td>&lt;a href=\"http://twitter.com/download/iphone\" r...</td>\n",
       "      <td>This is Bo. He's a West Congolese Bugaboop Snu...</td>\n",
       "      <td>NaN</td>\n",
       "      <td>NaN</td>\n",
       "      <td>NaN</td>\n",
       "      <td>https://twitter.com/dog_rates/status/789137962...</td>\n",
       "      <td>12</td>\n",
       "      <td>10</td>\n",
       "      <td>Bo</td>\n",
       "      <td>None</td>\n",
       "      <td>None</td>\n",
       "      <td>None</td>\n",
       "      <td>None</td>\n",
       "    </tr>\n",
       "    <tr>\n",
       "      <th>1788</th>\n",
       "      <td>677557565589463040</td>\n",
       "      <td>NaN</td>\n",
       "      <td>NaN</td>\n",
       "      <td>2015-12-17 18:34:46 +0000</td>\n",
       "      <td>&lt;a href=\"http://twitter.com/download/iphone\" r...</td>\n",
       "      <td>Reckless pupper here. Not even looking at road...</td>\n",
       "      <td>NaN</td>\n",
       "      <td>NaN</td>\n",
       "      <td>NaN</td>\n",
       "      <td>https://twitter.com/dog_rates/status/677557565...</td>\n",
       "      <td>10</td>\n",
       "      <td>10</td>\n",
       "      <td>None</td>\n",
       "      <td>None</td>\n",
       "      <td>None</td>\n",
       "      <td>pupper</td>\n",
       "      <td>None</td>\n",
       "    </tr>\n",
       "    <tr>\n",
       "      <th>1840</th>\n",
       "      <td>675888385639251968</td>\n",
       "      <td>NaN</td>\n",
       "      <td>NaN</td>\n",
       "      <td>2015-12-13 04:02:03 +0000</td>\n",
       "      <td>&lt;a href=\"http://twitter.com/download/iphone\" r...</td>\n",
       "      <td>Breathtaking scene. A father taking care of hi...</td>\n",
       "      <td>NaN</td>\n",
       "      <td>NaN</td>\n",
       "      <td>NaN</td>\n",
       "      <td>https://twitter.com/dog_rates/status/675888385...</td>\n",
       "      <td>10</td>\n",
       "      <td>10</td>\n",
       "      <td>None</td>\n",
       "      <td>None</td>\n",
       "      <td>None</td>\n",
       "      <td>None</td>\n",
       "      <td>None</td>\n",
       "    </tr>\n",
       "  </tbody>\n",
       "</table>\n",
       "</div>"
      ],
      "text/plain": [
       "                tweet_id  in_reply_to_status_id  in_reply_to_user_id  \\\n",
       "345   831939777352105988                    NaN                  NaN   \n",
       "223   849412302885593088                    NaN                  NaN   \n",
       "679   789137962068021249                    NaN                  NaN   \n",
       "1788  677557565589463040                    NaN                  NaN   \n",
       "1840  675888385639251968                    NaN                  NaN   \n",
       "\n",
       "                      timestamp  \\\n",
       "345   2017-02-15 18:54:34 +0000   \n",
       "223   2017-04-05 00:04:08 +0000   \n",
       "679   2016-10-20 16:15:26 +0000   \n",
       "1788  2015-12-17 18:34:46 +0000   \n",
       "1840  2015-12-13 04:02:03 +0000   \n",
       "\n",
       "                                                 source  \\\n",
       "345   <a href=\"http://twitter.com/download/iphone\" r...   \n",
       "223   <a href=\"http://twitter.com/download/iphone\" r...   \n",
       "679   <a href=\"http://twitter.com/download/iphone\" r...   \n",
       "1788  <a href=\"http://twitter.com/download/iphone\" r...   \n",
       "1840  <a href=\"http://twitter.com/download/iphone\" r...   \n",
       "\n",
       "                                                   text  retweeted_status_id  \\\n",
       "345   This is Emanuel. He's a h*ckin rare doggo. Dwe...                  NaN   \n",
       "223   This is Noosh. He noticed you were in the show...                  NaN   \n",
       "679   This is Bo. He's a West Congolese Bugaboop Snu...                  NaN   \n",
       "1788  Reckless pupper here. Not even looking at road...                  NaN   \n",
       "1840  Breathtaking scene. A father taking care of hi...                  NaN   \n",
       "\n",
       "      retweeted_status_user_id retweeted_status_timestamp  \\\n",
       "345                        NaN                        NaN   \n",
       "223                        NaN                        NaN   \n",
       "679                        NaN                        NaN   \n",
       "1788                       NaN                        NaN   \n",
       "1840                       NaN                        NaN   \n",
       "\n",
       "                                          expanded_urls  rating_numerator  \\\n",
       "345   https://twitter.com/dog_rates/status/831939777...                12   \n",
       "223   https://twitter.com/dog_rates/status/849412302...                12   \n",
       "679   https://twitter.com/dog_rates/status/789137962...                12   \n",
       "1788  https://twitter.com/dog_rates/status/677557565...                10   \n",
       "1840  https://twitter.com/dog_rates/status/675888385...                10   \n",
       "\n",
       "      rating_denominator     name  doggo floofer  pupper puppo  \n",
       "345                   10  Emanuel  doggo    None    None  None  \n",
       "223                   10    Noosh   None    None    None  None  \n",
       "679                   10       Bo   None    None    None  None  \n",
       "1788                  10     None   None    None  pupper  None  \n",
       "1840                  10     None   None    None    None  None  "
      ]
     },
     "execution_count": 293,
     "metadata": {},
     "output_type": "execute_result"
    }
   ],
   "source": [
    "archive.sample(5)"
   ]
  },
  {
   "cell_type": "code",
   "execution_count": 294,
   "metadata": {},
   "outputs": [
    {
     "data": {
      "text/plain": [
       "(2356, 17)"
      ]
     },
     "execution_count": 294,
     "metadata": {},
     "output_type": "execute_result"
    }
   ],
   "source": [
    "archive.shape"
   ]
  },
  {
   "cell_type": "code",
   "execution_count": 295,
   "metadata": {
    "scrolled": true
   },
   "outputs": [
    {
     "name": "stdout",
     "output_type": "stream",
     "text": [
      "<class 'pandas.core.frame.DataFrame'>\n",
      "RangeIndex: 2356 entries, 0 to 2355\n",
      "Data columns (total 17 columns):\n",
      " #   Column                      Non-Null Count  Dtype  \n",
      "---  ------                      --------------  -----  \n",
      " 0   tweet_id                    2356 non-null   int64  \n",
      " 1   in_reply_to_status_id       78 non-null     float64\n",
      " 2   in_reply_to_user_id         78 non-null     float64\n",
      " 3   timestamp                   2356 non-null   object \n",
      " 4   source                      2356 non-null   object \n",
      " 5   text                        2356 non-null   object \n",
      " 6   retweeted_status_id         181 non-null    float64\n",
      " 7   retweeted_status_user_id    181 non-null    float64\n",
      " 8   retweeted_status_timestamp  181 non-null    object \n",
      " 9   expanded_urls               2297 non-null   object \n",
      " 10  rating_numerator            2356 non-null   int64  \n",
      " 11  rating_denominator          2356 non-null   int64  \n",
      " 12  name                        2356 non-null   object \n",
      " 13  doggo                       2356 non-null   object \n",
      " 14  floofer                     2356 non-null   object \n",
      " 15  pupper                      2356 non-null   object \n",
      " 16  puppo                       2356 non-null   object \n",
      "dtypes: float64(4), int64(3), object(10)\n",
      "memory usage: 313.0+ KB\n"
     ]
    }
   ],
   "source": [
    "archive.info()"
   ]
  },
  {
   "cell_type": "code",
   "execution_count": 296,
   "metadata": {},
   "outputs": [
    {
     "data": {
      "text/html": [
       "<div>\n",
       "<style scoped>\n",
       "    .dataframe tbody tr th:only-of-type {\n",
       "        vertical-align: middle;\n",
       "    }\n",
       "\n",
       "    .dataframe tbody tr th {\n",
       "        vertical-align: top;\n",
       "    }\n",
       "\n",
       "    .dataframe thead th {\n",
       "        text-align: right;\n",
       "    }\n",
       "</style>\n",
       "<table border=\"1\" class=\"dataframe\">\n",
       "  <thead>\n",
       "    <tr style=\"text-align: right;\">\n",
       "      <th></th>\n",
       "      <th>tweet_id</th>\n",
       "      <th>in_reply_to_status_id</th>\n",
       "      <th>in_reply_to_user_id</th>\n",
       "      <th>retweeted_status_id</th>\n",
       "      <th>retweeted_status_user_id</th>\n",
       "      <th>rating_numerator</th>\n",
       "      <th>rating_denominator</th>\n",
       "    </tr>\n",
       "  </thead>\n",
       "  <tbody>\n",
       "    <tr>\n",
       "      <th>count</th>\n",
       "      <td>2.356000e+03</td>\n",
       "      <td>7.800000e+01</td>\n",
       "      <td>7.800000e+01</td>\n",
       "      <td>1.810000e+02</td>\n",
       "      <td>1.810000e+02</td>\n",
       "      <td>2356.000000</td>\n",
       "      <td>2356.000000</td>\n",
       "    </tr>\n",
       "    <tr>\n",
       "      <th>mean</th>\n",
       "      <td>7.427716e+17</td>\n",
       "      <td>7.455079e+17</td>\n",
       "      <td>2.014171e+16</td>\n",
       "      <td>7.720400e+17</td>\n",
       "      <td>1.241698e+16</td>\n",
       "      <td>13.126486</td>\n",
       "      <td>10.455433</td>\n",
       "    </tr>\n",
       "    <tr>\n",
       "      <th>std</th>\n",
       "      <td>6.856705e+16</td>\n",
       "      <td>7.582492e+16</td>\n",
       "      <td>1.252797e+17</td>\n",
       "      <td>6.236928e+16</td>\n",
       "      <td>9.599254e+16</td>\n",
       "      <td>45.876648</td>\n",
       "      <td>6.745237</td>\n",
       "    </tr>\n",
       "    <tr>\n",
       "      <th>min</th>\n",
       "      <td>6.660209e+17</td>\n",
       "      <td>6.658147e+17</td>\n",
       "      <td>1.185634e+07</td>\n",
       "      <td>6.661041e+17</td>\n",
       "      <td>7.832140e+05</td>\n",
       "      <td>0.000000</td>\n",
       "      <td>0.000000</td>\n",
       "    </tr>\n",
       "    <tr>\n",
       "      <th>25%</th>\n",
       "      <td>6.783989e+17</td>\n",
       "      <td>6.757419e+17</td>\n",
       "      <td>3.086374e+08</td>\n",
       "      <td>7.186315e+17</td>\n",
       "      <td>4.196984e+09</td>\n",
       "      <td>10.000000</td>\n",
       "      <td>10.000000</td>\n",
       "    </tr>\n",
       "    <tr>\n",
       "      <th>50%</th>\n",
       "      <td>7.196279e+17</td>\n",
       "      <td>7.038708e+17</td>\n",
       "      <td>4.196984e+09</td>\n",
       "      <td>7.804657e+17</td>\n",
       "      <td>4.196984e+09</td>\n",
       "      <td>11.000000</td>\n",
       "      <td>10.000000</td>\n",
       "    </tr>\n",
       "    <tr>\n",
       "      <th>75%</th>\n",
       "      <td>7.993373e+17</td>\n",
       "      <td>8.257804e+17</td>\n",
       "      <td>4.196984e+09</td>\n",
       "      <td>8.203146e+17</td>\n",
       "      <td>4.196984e+09</td>\n",
       "      <td>12.000000</td>\n",
       "      <td>10.000000</td>\n",
       "    </tr>\n",
       "    <tr>\n",
       "      <th>max</th>\n",
       "      <td>8.924206e+17</td>\n",
       "      <td>8.862664e+17</td>\n",
       "      <td>8.405479e+17</td>\n",
       "      <td>8.874740e+17</td>\n",
       "      <td>7.874618e+17</td>\n",
       "      <td>1776.000000</td>\n",
       "      <td>170.000000</td>\n",
       "    </tr>\n",
       "  </tbody>\n",
       "</table>\n",
       "</div>"
      ],
      "text/plain": [
       "           tweet_id  in_reply_to_status_id  in_reply_to_user_id  \\\n",
       "count  2.356000e+03           7.800000e+01         7.800000e+01   \n",
       "mean   7.427716e+17           7.455079e+17         2.014171e+16   \n",
       "std    6.856705e+16           7.582492e+16         1.252797e+17   \n",
       "min    6.660209e+17           6.658147e+17         1.185634e+07   \n",
       "25%    6.783989e+17           6.757419e+17         3.086374e+08   \n",
       "50%    7.196279e+17           7.038708e+17         4.196984e+09   \n",
       "75%    7.993373e+17           8.257804e+17         4.196984e+09   \n",
       "max    8.924206e+17           8.862664e+17         8.405479e+17   \n",
       "\n",
       "       retweeted_status_id  retweeted_status_user_id  rating_numerator  \\\n",
       "count         1.810000e+02              1.810000e+02       2356.000000   \n",
       "mean          7.720400e+17              1.241698e+16         13.126486   \n",
       "std           6.236928e+16              9.599254e+16         45.876648   \n",
       "min           6.661041e+17              7.832140e+05          0.000000   \n",
       "25%           7.186315e+17              4.196984e+09         10.000000   \n",
       "50%           7.804657e+17              4.196984e+09         11.000000   \n",
       "75%           8.203146e+17              4.196984e+09         12.000000   \n",
       "max           8.874740e+17              7.874618e+17       1776.000000   \n",
       "\n",
       "       rating_denominator  \n",
       "count         2356.000000  \n",
       "mean            10.455433  \n",
       "std              6.745237  \n",
       "min              0.000000  \n",
       "25%             10.000000  \n",
       "50%             10.000000  \n",
       "75%             10.000000  \n",
       "max            170.000000  "
      ]
     },
     "execution_count": 296,
     "metadata": {},
     "output_type": "execute_result"
    }
   ],
   "source": [
    "archive.describe()"
   ]
  },
  {
   "cell_type": "code",
   "execution_count": 297,
   "metadata": {},
   "outputs": [
    {
     "data": {
      "text/plain": [
       "23"
      ]
     },
     "execution_count": 297,
     "metadata": {},
     "output_type": "execute_result"
    }
   ],
   "source": [
    "(archive[\"rating_denominator\"] != 10).sum()"
   ]
  },
  {
   "cell_type": "code",
   "execution_count": 298,
   "metadata": {
    "scrolled": true
   },
   "outputs": [
    {
     "data": {
      "text/plain": [
       "1"
      ]
     },
     "execution_count": 298,
     "metadata": {},
     "output_type": "execute_result"
    }
   ],
   "source": [
    "(archive[\"rating_denominator\"] == 0).sum()"
   ]
  },
  {
   "cell_type": "code",
   "execution_count": 299,
   "metadata": {
    "scrolled": true
   },
   "outputs": [
    {
     "data": {
      "text/html": [
       "<div>\n",
       "<style scoped>\n",
       "    .dataframe tbody tr th:only-of-type {\n",
       "        vertical-align: middle;\n",
       "    }\n",
       "\n",
       "    .dataframe tbody tr th {\n",
       "        vertical-align: top;\n",
       "    }\n",
       "\n",
       "    .dataframe thead th {\n",
       "        text-align: right;\n",
       "    }\n",
       "</style>\n",
       "<table border=\"1\" class=\"dataframe\">\n",
       "  <thead>\n",
       "    <tr style=\"text-align: right;\">\n",
       "      <th></th>\n",
       "      <th>tweet_id</th>\n",
       "      <th>in_reply_to_status_id</th>\n",
       "      <th>in_reply_to_user_id</th>\n",
       "      <th>timestamp</th>\n",
       "      <th>source</th>\n",
       "      <th>text</th>\n",
       "      <th>retweeted_status_id</th>\n",
       "      <th>retweeted_status_user_id</th>\n",
       "      <th>retweeted_status_timestamp</th>\n",
       "      <th>expanded_urls</th>\n",
       "      <th>rating_numerator</th>\n",
       "      <th>rating_denominator</th>\n",
       "      <th>name</th>\n",
       "      <th>doggo</th>\n",
       "      <th>floofer</th>\n",
       "      <th>pupper</th>\n",
       "      <th>puppo</th>\n",
       "    </tr>\n",
       "  </thead>\n",
       "  <tbody>\n",
       "    <tr>\n",
       "      <th>313</th>\n",
       "      <td>835246439529840640</td>\n",
       "      <td>8.352460e+17</td>\n",
       "      <td>2.625958e+07</td>\n",
       "      <td>2017-02-24 21:54:03 +0000</td>\n",
       "      <td>&lt;a href=\"http://twitter.com/download/iphone\" r...</td>\n",
       "      <td>@jonnysun @Lin_Manuel ok jomny I know you're e...</td>\n",
       "      <td>NaN</td>\n",
       "      <td>NaN</td>\n",
       "      <td>NaN</td>\n",
       "      <td>NaN</td>\n",
       "      <td>960</td>\n",
       "      <td>0</td>\n",
       "      <td>None</td>\n",
       "      <td>None</td>\n",
       "      <td>None</td>\n",
       "      <td>None</td>\n",
       "      <td>None</td>\n",
       "    </tr>\n",
       "    <tr>\n",
       "      <th>342</th>\n",
       "      <td>832088576586297345</td>\n",
       "      <td>8.320875e+17</td>\n",
       "      <td>3.058208e+07</td>\n",
       "      <td>2017-02-16 04:45:50 +0000</td>\n",
       "      <td>&lt;a href=\"http://twitter.com/download/iphone\" r...</td>\n",
       "      <td>@docmisterio account started on 11/15/15</td>\n",
       "      <td>NaN</td>\n",
       "      <td>NaN</td>\n",
       "      <td>NaN</td>\n",
       "      <td>NaN</td>\n",
       "      <td>11</td>\n",
       "      <td>15</td>\n",
       "      <td>None</td>\n",
       "      <td>None</td>\n",
       "      <td>None</td>\n",
       "      <td>None</td>\n",
       "      <td>None</td>\n",
       "    </tr>\n",
       "    <tr>\n",
       "      <th>433</th>\n",
       "      <td>820690176645140481</td>\n",
       "      <td>NaN</td>\n",
       "      <td>NaN</td>\n",
       "      <td>2017-01-15 17:52:40 +0000</td>\n",
       "      <td>&lt;a href=\"http://twitter.com/download/iphone\" r...</td>\n",
       "      <td>The floofs have been released I repeat the flo...</td>\n",
       "      <td>NaN</td>\n",
       "      <td>NaN</td>\n",
       "      <td>NaN</td>\n",
       "      <td>https://twitter.com/dog_rates/status/820690176...</td>\n",
       "      <td>84</td>\n",
       "      <td>70</td>\n",
       "      <td>None</td>\n",
       "      <td>None</td>\n",
       "      <td>None</td>\n",
       "      <td>None</td>\n",
       "      <td>None</td>\n",
       "    </tr>\n",
       "    <tr>\n",
       "      <th>516</th>\n",
       "      <td>810984652412424192</td>\n",
       "      <td>NaN</td>\n",
       "      <td>NaN</td>\n",
       "      <td>2016-12-19 23:06:23 +0000</td>\n",
       "      <td>&lt;a href=\"http://twitter.com/download/iphone\" r...</td>\n",
       "      <td>Meet Sam. She smiles 24/7 &amp;amp; secretly aspir...</td>\n",
       "      <td>NaN</td>\n",
       "      <td>NaN</td>\n",
       "      <td>NaN</td>\n",
       "      <td>https://www.gofundme.com/sams-smile,https://tw...</td>\n",
       "      <td>24</td>\n",
       "      <td>7</td>\n",
       "      <td>Sam</td>\n",
       "      <td>None</td>\n",
       "      <td>None</td>\n",
       "      <td>None</td>\n",
       "      <td>None</td>\n",
       "    </tr>\n",
       "    <tr>\n",
       "      <th>784</th>\n",
       "      <td>775096608509886464</td>\n",
       "      <td>NaN</td>\n",
       "      <td>NaN</td>\n",
       "      <td>2016-09-11 22:20:06 +0000</td>\n",
       "      <td>&lt;a href=\"http://twitter.com/download/iphone\" r...</td>\n",
       "      <td>RT @dog_rates: After so many requests, this is...</td>\n",
       "      <td>7.403732e+17</td>\n",
       "      <td>4.196984e+09</td>\n",
       "      <td>2016-06-08 02:41:38 +0000</td>\n",
       "      <td>https://twitter.com/dog_rates/status/740373189...</td>\n",
       "      <td>9</td>\n",
       "      <td>11</td>\n",
       "      <td>None</td>\n",
       "      <td>None</td>\n",
       "      <td>None</td>\n",
       "      <td>None</td>\n",
       "      <td>None</td>\n",
       "    </tr>\n",
       "    <tr>\n",
       "      <th>902</th>\n",
       "      <td>758467244762497024</td>\n",
       "      <td>NaN</td>\n",
       "      <td>NaN</td>\n",
       "      <td>2016-07-28 01:00:57 +0000</td>\n",
       "      <td>&lt;a href=\"http://twitter.com/download/iphone\" r...</td>\n",
       "      <td>Why does this never happen at my front door......</td>\n",
       "      <td>NaN</td>\n",
       "      <td>NaN</td>\n",
       "      <td>NaN</td>\n",
       "      <td>https://twitter.com/dog_rates/status/758467244...</td>\n",
       "      <td>165</td>\n",
       "      <td>150</td>\n",
       "      <td>None</td>\n",
       "      <td>None</td>\n",
       "      <td>None</td>\n",
       "      <td>None</td>\n",
       "      <td>None</td>\n",
       "    </tr>\n",
       "    <tr>\n",
       "      <th>1068</th>\n",
       "      <td>740373189193256964</td>\n",
       "      <td>NaN</td>\n",
       "      <td>NaN</td>\n",
       "      <td>2016-06-08 02:41:38 +0000</td>\n",
       "      <td>&lt;a href=\"http://twitter.com/download/iphone\" r...</td>\n",
       "      <td>After so many requests, this is Bretagne. She ...</td>\n",
       "      <td>NaN</td>\n",
       "      <td>NaN</td>\n",
       "      <td>NaN</td>\n",
       "      <td>https://twitter.com/dog_rates/status/740373189...</td>\n",
       "      <td>9</td>\n",
       "      <td>11</td>\n",
       "      <td>None</td>\n",
       "      <td>None</td>\n",
       "      <td>None</td>\n",
       "      <td>None</td>\n",
       "      <td>None</td>\n",
       "    </tr>\n",
       "    <tr>\n",
       "      <th>1120</th>\n",
       "      <td>731156023742988288</td>\n",
       "      <td>NaN</td>\n",
       "      <td>NaN</td>\n",
       "      <td>2016-05-13 16:15:54 +0000</td>\n",
       "      <td>&lt;a href=\"http://twitter.com/download/iphone\" r...</td>\n",
       "      <td>Say hello to this unbelievably well behaved sq...</td>\n",
       "      <td>NaN</td>\n",
       "      <td>NaN</td>\n",
       "      <td>NaN</td>\n",
       "      <td>https://twitter.com/dog_rates/status/731156023...</td>\n",
       "      <td>204</td>\n",
       "      <td>170</td>\n",
       "      <td>this</td>\n",
       "      <td>None</td>\n",
       "      <td>None</td>\n",
       "      <td>None</td>\n",
       "      <td>None</td>\n",
       "    </tr>\n",
       "    <tr>\n",
       "      <th>1165</th>\n",
       "      <td>722974582966214656</td>\n",
       "      <td>NaN</td>\n",
       "      <td>NaN</td>\n",
       "      <td>2016-04-21 02:25:47 +0000</td>\n",
       "      <td>&lt;a href=\"http://twitter.com/download/iphone\" r...</td>\n",
       "      <td>Happy 4/20 from the squad! 13/10 for all https...</td>\n",
       "      <td>NaN</td>\n",
       "      <td>NaN</td>\n",
       "      <td>NaN</td>\n",
       "      <td>https://twitter.com/dog_rates/status/722974582...</td>\n",
       "      <td>4</td>\n",
       "      <td>20</td>\n",
       "      <td>None</td>\n",
       "      <td>None</td>\n",
       "      <td>None</td>\n",
       "      <td>None</td>\n",
       "      <td>None</td>\n",
       "    </tr>\n",
       "    <tr>\n",
       "      <th>1202</th>\n",
       "      <td>716439118184652801</td>\n",
       "      <td>NaN</td>\n",
       "      <td>NaN</td>\n",
       "      <td>2016-04-03 01:36:11 +0000</td>\n",
       "      <td>&lt;a href=\"http://twitter.com/download/iphone\" r...</td>\n",
       "      <td>This is Bluebert. He just saw that both #Final...</td>\n",
       "      <td>NaN</td>\n",
       "      <td>NaN</td>\n",
       "      <td>NaN</td>\n",
       "      <td>https://twitter.com/dog_rates/status/716439118...</td>\n",
       "      <td>50</td>\n",
       "      <td>50</td>\n",
       "      <td>Bluebert</td>\n",
       "      <td>None</td>\n",
       "      <td>None</td>\n",
       "      <td>None</td>\n",
       "      <td>None</td>\n",
       "    </tr>\n",
       "    <tr>\n",
       "      <th>1228</th>\n",
       "      <td>713900603437621249</td>\n",
       "      <td>NaN</td>\n",
       "      <td>NaN</td>\n",
       "      <td>2016-03-27 01:29:02 +0000</td>\n",
       "      <td>&lt;a href=\"http://twitter.com/download/iphone\" r...</td>\n",
       "      <td>Happy Saturday here's 9 puppers on a bench. 99...</td>\n",
       "      <td>NaN</td>\n",
       "      <td>NaN</td>\n",
       "      <td>NaN</td>\n",
       "      <td>https://twitter.com/dog_rates/status/713900603...</td>\n",
       "      <td>99</td>\n",
       "      <td>90</td>\n",
       "      <td>None</td>\n",
       "      <td>None</td>\n",
       "      <td>None</td>\n",
       "      <td>None</td>\n",
       "      <td>None</td>\n",
       "    </tr>\n",
       "    <tr>\n",
       "      <th>1254</th>\n",
       "      <td>710658690886586372</td>\n",
       "      <td>NaN</td>\n",
       "      <td>NaN</td>\n",
       "      <td>2016-03-18 02:46:49 +0000</td>\n",
       "      <td>&lt;a href=\"http://twitter.com/download/iphone\" r...</td>\n",
       "      <td>Here's a brigade of puppers. All look very pre...</td>\n",
       "      <td>NaN</td>\n",
       "      <td>NaN</td>\n",
       "      <td>NaN</td>\n",
       "      <td>https://twitter.com/dog_rates/status/710658690...</td>\n",
       "      <td>80</td>\n",
       "      <td>80</td>\n",
       "      <td>None</td>\n",
       "      <td>None</td>\n",
       "      <td>None</td>\n",
       "      <td>None</td>\n",
       "      <td>None</td>\n",
       "    </tr>\n",
       "    <tr>\n",
       "      <th>1274</th>\n",
       "      <td>709198395643068416</td>\n",
       "      <td>NaN</td>\n",
       "      <td>NaN</td>\n",
       "      <td>2016-03-14 02:04:08 +0000</td>\n",
       "      <td>&lt;a href=\"http://twitter.com/download/iphone\" r...</td>\n",
       "      <td>From left to right:\\nCletus, Jerome, Alejandro...</td>\n",
       "      <td>NaN</td>\n",
       "      <td>NaN</td>\n",
       "      <td>NaN</td>\n",
       "      <td>https://twitter.com/dog_rates/status/709198395...</td>\n",
       "      <td>45</td>\n",
       "      <td>50</td>\n",
       "      <td>None</td>\n",
       "      <td>None</td>\n",
       "      <td>None</td>\n",
       "      <td>None</td>\n",
       "      <td>None</td>\n",
       "    </tr>\n",
       "    <tr>\n",
       "      <th>1351</th>\n",
       "      <td>704054845121142784</td>\n",
       "      <td>NaN</td>\n",
       "      <td>NaN</td>\n",
       "      <td>2016-02-28 21:25:30 +0000</td>\n",
       "      <td>&lt;a href=\"http://twitter.com/download/iphone\" r...</td>\n",
       "      <td>Here is a whole flock of puppers.  60/50 I'll ...</td>\n",
       "      <td>NaN</td>\n",
       "      <td>NaN</td>\n",
       "      <td>NaN</td>\n",
       "      <td>https://twitter.com/dog_rates/status/704054845...</td>\n",
       "      <td>60</td>\n",
       "      <td>50</td>\n",
       "      <td>a</td>\n",
       "      <td>None</td>\n",
       "      <td>None</td>\n",
       "      <td>None</td>\n",
       "      <td>None</td>\n",
       "    </tr>\n",
       "    <tr>\n",
       "      <th>1433</th>\n",
       "      <td>697463031882764288</td>\n",
       "      <td>NaN</td>\n",
       "      <td>NaN</td>\n",
       "      <td>2016-02-10 16:51:59 +0000</td>\n",
       "      <td>&lt;a href=\"http://twitter.com/download/iphone\" r...</td>\n",
       "      <td>Happy Wednesday here's a bucket of pups. 44/40...</td>\n",
       "      <td>NaN</td>\n",
       "      <td>NaN</td>\n",
       "      <td>NaN</td>\n",
       "      <td>https://twitter.com/dog_rates/status/697463031...</td>\n",
       "      <td>44</td>\n",
       "      <td>40</td>\n",
       "      <td>None</td>\n",
       "      <td>None</td>\n",
       "      <td>None</td>\n",
       "      <td>None</td>\n",
       "      <td>None</td>\n",
       "    </tr>\n",
       "    <tr>\n",
       "      <th>1598</th>\n",
       "      <td>686035780142297088</td>\n",
       "      <td>6.860340e+17</td>\n",
       "      <td>4.196984e+09</td>\n",
       "      <td>2016-01-10 04:04:10 +0000</td>\n",
       "      <td>&lt;a href=\"http://twitter.com/download/iphone\" r...</td>\n",
       "      <td>Yes I do realize a rating of 4/20 would've bee...</td>\n",
       "      <td>NaN</td>\n",
       "      <td>NaN</td>\n",
       "      <td>NaN</td>\n",
       "      <td>NaN</td>\n",
       "      <td>4</td>\n",
       "      <td>20</td>\n",
       "      <td>None</td>\n",
       "      <td>None</td>\n",
       "      <td>None</td>\n",
       "      <td>None</td>\n",
       "      <td>None</td>\n",
       "    </tr>\n",
       "    <tr>\n",
       "      <th>1634</th>\n",
       "      <td>684225744407494656</td>\n",
       "      <td>6.842229e+17</td>\n",
       "      <td>4.196984e+09</td>\n",
       "      <td>2016-01-05 04:11:44 +0000</td>\n",
       "      <td>&lt;a href=\"http://twitter.com/download/iphone\" r...</td>\n",
       "      <td>Two sneaky puppers were not initially seen, mo...</td>\n",
       "      <td>NaN</td>\n",
       "      <td>NaN</td>\n",
       "      <td>NaN</td>\n",
       "      <td>https://twitter.com/dog_rates/status/684225744...</td>\n",
       "      <td>143</td>\n",
       "      <td>130</td>\n",
       "      <td>None</td>\n",
       "      <td>None</td>\n",
       "      <td>None</td>\n",
       "      <td>None</td>\n",
       "      <td>None</td>\n",
       "    </tr>\n",
       "    <tr>\n",
       "      <th>1635</th>\n",
       "      <td>684222868335505415</td>\n",
       "      <td>NaN</td>\n",
       "      <td>NaN</td>\n",
       "      <td>2016-01-05 04:00:18 +0000</td>\n",
       "      <td>&lt;a href=\"http://twitter.com/download/iphone\" r...</td>\n",
       "      <td>Someone help the girl is being mugged. Several...</td>\n",
       "      <td>NaN</td>\n",
       "      <td>NaN</td>\n",
       "      <td>NaN</td>\n",
       "      <td>https://twitter.com/dog_rates/status/684222868...</td>\n",
       "      <td>121</td>\n",
       "      <td>110</td>\n",
       "      <td>None</td>\n",
       "      <td>None</td>\n",
       "      <td>None</td>\n",
       "      <td>None</td>\n",
       "      <td>None</td>\n",
       "    </tr>\n",
       "    <tr>\n",
       "      <th>1662</th>\n",
       "      <td>682962037429899265</td>\n",
       "      <td>NaN</td>\n",
       "      <td>NaN</td>\n",
       "      <td>2016-01-01 16:30:13 +0000</td>\n",
       "      <td>&lt;a href=\"http://twitter.com/download/iphone\" r...</td>\n",
       "      <td>This is Darrel. He just robbed a 7/11 and is i...</td>\n",
       "      <td>NaN</td>\n",
       "      <td>NaN</td>\n",
       "      <td>NaN</td>\n",
       "      <td>https://twitter.com/dog_rates/status/682962037...</td>\n",
       "      <td>7</td>\n",
       "      <td>11</td>\n",
       "      <td>Darrel</td>\n",
       "      <td>None</td>\n",
       "      <td>None</td>\n",
       "      <td>None</td>\n",
       "      <td>None</td>\n",
       "    </tr>\n",
       "    <tr>\n",
       "      <th>1663</th>\n",
       "      <td>682808988178739200</td>\n",
       "      <td>6.827884e+17</td>\n",
       "      <td>4.196984e+09</td>\n",
       "      <td>2016-01-01 06:22:03 +0000</td>\n",
       "      <td>&lt;a href=\"http://twitter.com/download/iphone\" r...</td>\n",
       "      <td>I'm aware that I could've said 20/16, but here...</td>\n",
       "      <td>NaN</td>\n",
       "      <td>NaN</td>\n",
       "      <td>NaN</td>\n",
       "      <td>NaN</td>\n",
       "      <td>20</td>\n",
       "      <td>16</td>\n",
       "      <td>None</td>\n",
       "      <td>None</td>\n",
       "      <td>None</td>\n",
       "      <td>None</td>\n",
       "      <td>None</td>\n",
       "    </tr>\n",
       "    <tr>\n",
       "      <th>1779</th>\n",
       "      <td>677716515794329600</td>\n",
       "      <td>NaN</td>\n",
       "      <td>NaN</td>\n",
       "      <td>2015-12-18 05:06:23 +0000</td>\n",
       "      <td>&lt;a href=\"http://twitter.com/download/iphone\" r...</td>\n",
       "      <td>IT'S PUPPERGEDDON. Total of 144/120 ...I think...</td>\n",
       "      <td>NaN</td>\n",
       "      <td>NaN</td>\n",
       "      <td>NaN</td>\n",
       "      <td>https://twitter.com/dog_rates/status/677716515...</td>\n",
       "      <td>144</td>\n",
       "      <td>120</td>\n",
       "      <td>None</td>\n",
       "      <td>None</td>\n",
       "      <td>None</td>\n",
       "      <td>None</td>\n",
       "      <td>None</td>\n",
       "    </tr>\n",
       "    <tr>\n",
       "      <th>1843</th>\n",
       "      <td>675853064436391936</td>\n",
       "      <td>NaN</td>\n",
       "      <td>NaN</td>\n",
       "      <td>2015-12-13 01:41:41 +0000</td>\n",
       "      <td>&lt;a href=\"http://twitter.com/download/iphone\" r...</td>\n",
       "      <td>Here we have an entire platoon of puppers. Tot...</td>\n",
       "      <td>NaN</td>\n",
       "      <td>NaN</td>\n",
       "      <td>NaN</td>\n",
       "      <td>https://twitter.com/dog_rates/status/675853064...</td>\n",
       "      <td>88</td>\n",
       "      <td>80</td>\n",
       "      <td>None</td>\n",
       "      <td>None</td>\n",
       "      <td>None</td>\n",
       "      <td>None</td>\n",
       "      <td>None</td>\n",
       "    </tr>\n",
       "    <tr>\n",
       "      <th>2335</th>\n",
       "      <td>666287406224695296</td>\n",
       "      <td>NaN</td>\n",
       "      <td>NaN</td>\n",
       "      <td>2015-11-16 16:11:11 +0000</td>\n",
       "      <td>&lt;a href=\"http://twitter.com/download/iphone\" r...</td>\n",
       "      <td>This is an Albanian 3 1/2 legged  Episcopalian...</td>\n",
       "      <td>NaN</td>\n",
       "      <td>NaN</td>\n",
       "      <td>NaN</td>\n",
       "      <td>https://twitter.com/dog_rates/status/666287406...</td>\n",
       "      <td>1</td>\n",
       "      <td>2</td>\n",
       "      <td>an</td>\n",
       "      <td>None</td>\n",
       "      <td>None</td>\n",
       "      <td>None</td>\n",
       "      <td>None</td>\n",
       "    </tr>\n",
       "  </tbody>\n",
       "</table>\n",
       "</div>"
      ],
      "text/plain": [
       "                tweet_id  in_reply_to_status_id  in_reply_to_user_id  \\\n",
       "313   835246439529840640           8.352460e+17         2.625958e+07   \n",
       "342   832088576586297345           8.320875e+17         3.058208e+07   \n",
       "433   820690176645140481                    NaN                  NaN   \n",
       "516   810984652412424192                    NaN                  NaN   \n",
       "784   775096608509886464                    NaN                  NaN   \n",
       "902   758467244762497024                    NaN                  NaN   \n",
       "1068  740373189193256964                    NaN                  NaN   \n",
       "1120  731156023742988288                    NaN                  NaN   \n",
       "1165  722974582966214656                    NaN                  NaN   \n",
       "1202  716439118184652801                    NaN                  NaN   \n",
       "1228  713900603437621249                    NaN                  NaN   \n",
       "1254  710658690886586372                    NaN                  NaN   \n",
       "1274  709198395643068416                    NaN                  NaN   \n",
       "1351  704054845121142784                    NaN                  NaN   \n",
       "1433  697463031882764288                    NaN                  NaN   \n",
       "1598  686035780142297088           6.860340e+17         4.196984e+09   \n",
       "1634  684225744407494656           6.842229e+17         4.196984e+09   \n",
       "1635  684222868335505415                    NaN                  NaN   \n",
       "1662  682962037429899265                    NaN                  NaN   \n",
       "1663  682808988178739200           6.827884e+17         4.196984e+09   \n",
       "1779  677716515794329600                    NaN                  NaN   \n",
       "1843  675853064436391936                    NaN                  NaN   \n",
       "2335  666287406224695296                    NaN                  NaN   \n",
       "\n",
       "                      timestamp  \\\n",
       "313   2017-02-24 21:54:03 +0000   \n",
       "342   2017-02-16 04:45:50 +0000   \n",
       "433   2017-01-15 17:52:40 +0000   \n",
       "516   2016-12-19 23:06:23 +0000   \n",
       "784   2016-09-11 22:20:06 +0000   \n",
       "902   2016-07-28 01:00:57 +0000   \n",
       "1068  2016-06-08 02:41:38 +0000   \n",
       "1120  2016-05-13 16:15:54 +0000   \n",
       "1165  2016-04-21 02:25:47 +0000   \n",
       "1202  2016-04-03 01:36:11 +0000   \n",
       "1228  2016-03-27 01:29:02 +0000   \n",
       "1254  2016-03-18 02:46:49 +0000   \n",
       "1274  2016-03-14 02:04:08 +0000   \n",
       "1351  2016-02-28 21:25:30 +0000   \n",
       "1433  2016-02-10 16:51:59 +0000   \n",
       "1598  2016-01-10 04:04:10 +0000   \n",
       "1634  2016-01-05 04:11:44 +0000   \n",
       "1635  2016-01-05 04:00:18 +0000   \n",
       "1662  2016-01-01 16:30:13 +0000   \n",
       "1663  2016-01-01 06:22:03 +0000   \n",
       "1779  2015-12-18 05:06:23 +0000   \n",
       "1843  2015-12-13 01:41:41 +0000   \n",
       "2335  2015-11-16 16:11:11 +0000   \n",
       "\n",
       "                                                 source  \\\n",
       "313   <a href=\"http://twitter.com/download/iphone\" r...   \n",
       "342   <a href=\"http://twitter.com/download/iphone\" r...   \n",
       "433   <a href=\"http://twitter.com/download/iphone\" r...   \n",
       "516   <a href=\"http://twitter.com/download/iphone\" r...   \n",
       "784   <a href=\"http://twitter.com/download/iphone\" r...   \n",
       "902   <a href=\"http://twitter.com/download/iphone\" r...   \n",
       "1068  <a href=\"http://twitter.com/download/iphone\" r...   \n",
       "1120  <a href=\"http://twitter.com/download/iphone\" r...   \n",
       "1165  <a href=\"http://twitter.com/download/iphone\" r...   \n",
       "1202  <a href=\"http://twitter.com/download/iphone\" r...   \n",
       "1228  <a href=\"http://twitter.com/download/iphone\" r...   \n",
       "1254  <a href=\"http://twitter.com/download/iphone\" r...   \n",
       "1274  <a href=\"http://twitter.com/download/iphone\" r...   \n",
       "1351  <a href=\"http://twitter.com/download/iphone\" r...   \n",
       "1433  <a href=\"http://twitter.com/download/iphone\" r...   \n",
       "1598  <a href=\"http://twitter.com/download/iphone\" r...   \n",
       "1634  <a href=\"http://twitter.com/download/iphone\" r...   \n",
       "1635  <a href=\"http://twitter.com/download/iphone\" r...   \n",
       "1662  <a href=\"http://twitter.com/download/iphone\" r...   \n",
       "1663  <a href=\"http://twitter.com/download/iphone\" r...   \n",
       "1779  <a href=\"http://twitter.com/download/iphone\" r...   \n",
       "1843  <a href=\"http://twitter.com/download/iphone\" r...   \n",
       "2335  <a href=\"http://twitter.com/download/iphone\" r...   \n",
       "\n",
       "                                                   text  retweeted_status_id  \\\n",
       "313   @jonnysun @Lin_Manuel ok jomny I know you're e...                  NaN   \n",
       "342            @docmisterio account started on 11/15/15                  NaN   \n",
       "433   The floofs have been released I repeat the flo...                  NaN   \n",
       "516   Meet Sam. She smiles 24/7 &amp; secretly aspir...                  NaN   \n",
       "784   RT @dog_rates: After so many requests, this is...         7.403732e+17   \n",
       "902   Why does this never happen at my front door......                  NaN   \n",
       "1068  After so many requests, this is Bretagne. She ...                  NaN   \n",
       "1120  Say hello to this unbelievably well behaved sq...                  NaN   \n",
       "1165  Happy 4/20 from the squad! 13/10 for all https...                  NaN   \n",
       "1202  This is Bluebert. He just saw that both #Final...                  NaN   \n",
       "1228  Happy Saturday here's 9 puppers on a bench. 99...                  NaN   \n",
       "1254  Here's a brigade of puppers. All look very pre...                  NaN   \n",
       "1274  From left to right:\\nCletus, Jerome, Alejandro...                  NaN   \n",
       "1351  Here is a whole flock of puppers.  60/50 I'll ...                  NaN   \n",
       "1433  Happy Wednesday here's a bucket of pups. 44/40...                  NaN   \n",
       "1598  Yes I do realize a rating of 4/20 would've bee...                  NaN   \n",
       "1634  Two sneaky puppers were not initially seen, mo...                  NaN   \n",
       "1635  Someone help the girl is being mugged. Several...                  NaN   \n",
       "1662  This is Darrel. He just robbed a 7/11 and is i...                  NaN   \n",
       "1663  I'm aware that I could've said 20/16, but here...                  NaN   \n",
       "1779  IT'S PUPPERGEDDON. Total of 144/120 ...I think...                  NaN   \n",
       "1843  Here we have an entire platoon of puppers. Tot...                  NaN   \n",
       "2335  This is an Albanian 3 1/2 legged  Episcopalian...                  NaN   \n",
       "\n",
       "      retweeted_status_user_id retweeted_status_timestamp  \\\n",
       "313                        NaN                        NaN   \n",
       "342                        NaN                        NaN   \n",
       "433                        NaN                        NaN   \n",
       "516                        NaN                        NaN   \n",
       "784               4.196984e+09  2016-06-08 02:41:38 +0000   \n",
       "902                        NaN                        NaN   \n",
       "1068                       NaN                        NaN   \n",
       "1120                       NaN                        NaN   \n",
       "1165                       NaN                        NaN   \n",
       "1202                       NaN                        NaN   \n",
       "1228                       NaN                        NaN   \n",
       "1254                       NaN                        NaN   \n",
       "1274                       NaN                        NaN   \n",
       "1351                       NaN                        NaN   \n",
       "1433                       NaN                        NaN   \n",
       "1598                       NaN                        NaN   \n",
       "1634                       NaN                        NaN   \n",
       "1635                       NaN                        NaN   \n",
       "1662                       NaN                        NaN   \n",
       "1663                       NaN                        NaN   \n",
       "1779                       NaN                        NaN   \n",
       "1843                       NaN                        NaN   \n",
       "2335                       NaN                        NaN   \n",
       "\n",
       "                                          expanded_urls  rating_numerator  \\\n",
       "313                                                 NaN               960   \n",
       "342                                                 NaN                11   \n",
       "433   https://twitter.com/dog_rates/status/820690176...                84   \n",
       "516   https://www.gofundme.com/sams-smile,https://tw...                24   \n",
       "784   https://twitter.com/dog_rates/status/740373189...                 9   \n",
       "902   https://twitter.com/dog_rates/status/758467244...               165   \n",
       "1068  https://twitter.com/dog_rates/status/740373189...                 9   \n",
       "1120  https://twitter.com/dog_rates/status/731156023...               204   \n",
       "1165  https://twitter.com/dog_rates/status/722974582...                 4   \n",
       "1202  https://twitter.com/dog_rates/status/716439118...                50   \n",
       "1228  https://twitter.com/dog_rates/status/713900603...                99   \n",
       "1254  https://twitter.com/dog_rates/status/710658690...                80   \n",
       "1274  https://twitter.com/dog_rates/status/709198395...                45   \n",
       "1351  https://twitter.com/dog_rates/status/704054845...                60   \n",
       "1433  https://twitter.com/dog_rates/status/697463031...                44   \n",
       "1598                                                NaN                 4   \n",
       "1634  https://twitter.com/dog_rates/status/684225744...               143   \n",
       "1635  https://twitter.com/dog_rates/status/684222868...               121   \n",
       "1662  https://twitter.com/dog_rates/status/682962037...                 7   \n",
       "1663                                                NaN                20   \n",
       "1779  https://twitter.com/dog_rates/status/677716515...               144   \n",
       "1843  https://twitter.com/dog_rates/status/675853064...                88   \n",
       "2335  https://twitter.com/dog_rates/status/666287406...                 1   \n",
       "\n",
       "      rating_denominator      name doggo floofer pupper puppo  \n",
       "313                    0      None  None    None   None  None  \n",
       "342                   15      None  None    None   None  None  \n",
       "433                   70      None  None    None   None  None  \n",
       "516                    7       Sam  None    None   None  None  \n",
       "784                   11      None  None    None   None  None  \n",
       "902                  150      None  None    None   None  None  \n",
       "1068                  11      None  None    None   None  None  \n",
       "1120                 170      this  None    None   None  None  \n",
       "1165                  20      None  None    None   None  None  \n",
       "1202                  50  Bluebert  None    None   None  None  \n",
       "1228                  90      None  None    None   None  None  \n",
       "1254                  80      None  None    None   None  None  \n",
       "1274                  50      None  None    None   None  None  \n",
       "1351                  50         a  None    None   None  None  \n",
       "1433                  40      None  None    None   None  None  \n",
       "1598                  20      None  None    None   None  None  \n",
       "1634                 130      None  None    None   None  None  \n",
       "1635                 110      None  None    None   None  None  \n",
       "1662                  11    Darrel  None    None   None  None  \n",
       "1663                  16      None  None    None   None  None  \n",
       "1779                 120      None  None    None   None  None  \n",
       "1843                  80      None  None    None   None  None  \n",
       "2335                   2        an  None    None   None  None  "
      ]
     },
     "execution_count": 299,
     "metadata": {},
     "output_type": "execute_result"
    }
   ],
   "source": [
    "archive.query(\"rating_denominator != 10\")"
   ]
  },
  {
   "cell_type": "code",
   "execution_count": 300,
   "metadata": {},
   "outputs": [
    {
     "data": {
      "text/plain": [
       "313     @jonnysun @Lin_Manuel ok jomny I know you're e...\n",
       "342              @docmisterio account started on 11/15/15\n",
       "433     The floofs have been released I repeat the flo...\n",
       "516     Meet Sam. She smiles 24/7 &amp; secretly aspir...\n",
       "784     RT @dog_rates: After so many requests, this is...\n",
       "902     Why does this never happen at my front door......\n",
       "1068    After so many requests, this is Bretagne. She ...\n",
       "1120    Say hello to this unbelievably well behaved sq...\n",
       "1165    Happy 4/20 from the squad! 13/10 for all https...\n",
       "1202    This is Bluebert. He just saw that both #Final...\n",
       "1228    Happy Saturday here's 9 puppers on a bench. 99...\n",
       "1254    Here's a brigade of puppers. All look very pre...\n",
       "1274    From left to right:\\nCletus, Jerome, Alejandro...\n",
       "1351    Here is a whole flock of puppers.  60/50 I'll ...\n",
       "1433    Happy Wednesday here's a bucket of pups. 44/40...\n",
       "1598    Yes I do realize a rating of 4/20 would've bee...\n",
       "1634    Two sneaky puppers were not initially seen, mo...\n",
       "1635    Someone help the girl is being mugged. Several...\n",
       "1662    This is Darrel. He just robbed a 7/11 and is i...\n",
       "1663    I'm aware that I could've said 20/16, but here...\n",
       "1779    IT'S PUPPERGEDDON. Total of 144/120 ...I think...\n",
       "1843    Here we have an entire platoon of puppers. Tot...\n",
       "2335    This is an Albanian 3 1/2 legged  Episcopalian...\n",
       "Name: text, dtype: object"
      ]
     },
     "execution_count": 300,
     "metadata": {},
     "output_type": "execute_result"
    }
   ],
   "source": [
    "archive.query(\"rating_denominator != 10\").text"
   ]
  },
  {
   "cell_type": "code",
   "execution_count": 301,
   "metadata": {},
   "outputs": [
    {
     "data": {
      "text/plain": [
       "0"
      ]
     },
     "execution_count": 301,
     "metadata": {},
     "output_type": "execute_result"
    }
   ],
   "source": [
    "archive.duplicated().sum()"
   ]
  },
  {
   "cell_type": "code",
   "execution_count": 302,
   "metadata": {},
   "outputs": [
    {
     "data": {
      "text/plain": [
       "tweet_id                         0\n",
       "in_reply_to_status_id         2278\n",
       "in_reply_to_user_id           2278\n",
       "timestamp                        0\n",
       "source                           0\n",
       "text                             0\n",
       "retweeted_status_id           2175\n",
       "retweeted_status_user_id      2175\n",
       "retweeted_status_timestamp    2175\n",
       "expanded_urls                   59\n",
       "rating_numerator                 0\n",
       "rating_denominator               0\n",
       "name                             0\n",
       "doggo                            0\n",
       "floofer                          0\n",
       "pupper                           0\n",
       "puppo                            0\n",
       "dtype: int64"
      ]
     },
     "execution_count": 302,
     "metadata": {},
     "output_type": "execute_result"
    }
   ],
   "source": [
    "archive.isnull().sum()"
   ]
  },
  {
   "cell_type": "code",
   "execution_count": 303,
   "metadata": {},
   "outputs": [
    {
     "data": {
      "text/html": [
       "<div>\n",
       "<style scoped>\n",
       "    .dataframe tbody tr th:only-of-type {\n",
       "        vertical-align: middle;\n",
       "    }\n",
       "\n",
       "    .dataframe tbody tr th {\n",
       "        vertical-align: top;\n",
       "    }\n",
       "\n",
       "    .dataframe thead th {\n",
       "        text-align: right;\n",
       "    }\n",
       "</style>\n",
       "<table border=\"1\" class=\"dataframe\">\n",
       "  <thead>\n",
       "    <tr style=\"text-align: right;\">\n",
       "      <th></th>\n",
       "      <th>tweet_id</th>\n",
       "      <th>jpg_url</th>\n",
       "      <th>img_num</th>\n",
       "      <th>p1</th>\n",
       "      <th>p1_conf</th>\n",
       "      <th>p1_dog</th>\n",
       "      <th>p2</th>\n",
       "      <th>p2_conf</th>\n",
       "      <th>p2_dog</th>\n",
       "      <th>p3</th>\n",
       "      <th>p3_conf</th>\n",
       "      <th>p3_dog</th>\n",
       "    </tr>\n",
       "  </thead>\n",
       "  <tbody>\n",
       "    <tr>\n",
       "      <th>0</th>\n",
       "      <td>666020888022790149</td>\n",
       "      <td>https://pbs.twimg.com/media/CT4udn0WwAA0aMy.jpg</td>\n",
       "      <td>1</td>\n",
       "      <td>Welsh_springer_spaniel</td>\n",
       "      <td>0.465074</td>\n",
       "      <td>True</td>\n",
       "      <td>collie</td>\n",
       "      <td>0.156665</td>\n",
       "      <td>True</td>\n",
       "      <td>Shetland_sheepdog</td>\n",
       "      <td>0.061428</td>\n",
       "      <td>True</td>\n",
       "    </tr>\n",
       "    <tr>\n",
       "      <th>1</th>\n",
       "      <td>666029285002620928</td>\n",
       "      <td>https://pbs.twimg.com/media/CT42GRgUYAA5iDo.jpg</td>\n",
       "      <td>1</td>\n",
       "      <td>redbone</td>\n",
       "      <td>0.506826</td>\n",
       "      <td>True</td>\n",
       "      <td>miniature_pinscher</td>\n",
       "      <td>0.074192</td>\n",
       "      <td>True</td>\n",
       "      <td>Rhodesian_ridgeback</td>\n",
       "      <td>0.072010</td>\n",
       "      <td>True</td>\n",
       "    </tr>\n",
       "    <tr>\n",
       "      <th>2</th>\n",
       "      <td>666033412701032449</td>\n",
       "      <td>https://pbs.twimg.com/media/CT4521TWwAEvMyu.jpg</td>\n",
       "      <td>1</td>\n",
       "      <td>German_shepherd</td>\n",
       "      <td>0.596461</td>\n",
       "      <td>True</td>\n",
       "      <td>malinois</td>\n",
       "      <td>0.138584</td>\n",
       "      <td>True</td>\n",
       "      <td>bloodhound</td>\n",
       "      <td>0.116197</td>\n",
       "      <td>True</td>\n",
       "    </tr>\n",
       "    <tr>\n",
       "      <th>3</th>\n",
       "      <td>666044226329800704</td>\n",
       "      <td>https://pbs.twimg.com/media/CT5Dr8HUEAA-lEu.jpg</td>\n",
       "      <td>1</td>\n",
       "      <td>Rhodesian_ridgeback</td>\n",
       "      <td>0.408143</td>\n",
       "      <td>True</td>\n",
       "      <td>redbone</td>\n",
       "      <td>0.360687</td>\n",
       "      <td>True</td>\n",
       "      <td>miniature_pinscher</td>\n",
       "      <td>0.222752</td>\n",
       "      <td>True</td>\n",
       "    </tr>\n",
       "    <tr>\n",
       "      <th>4</th>\n",
       "      <td>666049248165822465</td>\n",
       "      <td>https://pbs.twimg.com/media/CT5IQmsXIAAKY4A.jpg</td>\n",
       "      <td>1</td>\n",
       "      <td>miniature_pinscher</td>\n",
       "      <td>0.560311</td>\n",
       "      <td>True</td>\n",
       "      <td>Rottweiler</td>\n",
       "      <td>0.243682</td>\n",
       "      <td>True</td>\n",
       "      <td>Doberman</td>\n",
       "      <td>0.154629</td>\n",
       "      <td>True</td>\n",
       "    </tr>\n",
       "  </tbody>\n",
       "</table>\n",
       "</div>"
      ],
      "text/plain": [
       "             tweet_id                                          jpg_url  \\\n",
       "0  666020888022790149  https://pbs.twimg.com/media/CT4udn0WwAA0aMy.jpg   \n",
       "1  666029285002620928  https://pbs.twimg.com/media/CT42GRgUYAA5iDo.jpg   \n",
       "2  666033412701032449  https://pbs.twimg.com/media/CT4521TWwAEvMyu.jpg   \n",
       "3  666044226329800704  https://pbs.twimg.com/media/CT5Dr8HUEAA-lEu.jpg   \n",
       "4  666049248165822465  https://pbs.twimg.com/media/CT5IQmsXIAAKY4A.jpg   \n",
       "\n",
       "   img_num                      p1   p1_conf  p1_dog                  p2  \\\n",
       "0        1  Welsh_springer_spaniel  0.465074    True              collie   \n",
       "1        1                 redbone  0.506826    True  miniature_pinscher   \n",
       "2        1         German_shepherd  0.596461    True            malinois   \n",
       "3        1     Rhodesian_ridgeback  0.408143    True             redbone   \n",
       "4        1      miniature_pinscher  0.560311    True          Rottweiler   \n",
       "\n",
       "    p2_conf  p2_dog                   p3   p3_conf  p3_dog  \n",
       "0  0.156665    True    Shetland_sheepdog  0.061428    True  \n",
       "1  0.074192    True  Rhodesian_ridgeback  0.072010    True  \n",
       "2  0.138584    True           bloodhound  0.116197    True  \n",
       "3  0.360687    True   miniature_pinscher  0.222752    True  \n",
       "4  0.243682    True             Doberman  0.154629    True  "
      ]
     },
     "execution_count": 303,
     "metadata": {},
     "output_type": "execute_result"
    }
   ],
   "source": [
    "predictions.head()"
   ]
  },
  {
   "cell_type": "code",
   "execution_count": 304,
   "metadata": {},
   "outputs": [
    {
     "data": {
      "text/plain": [
       "(2075, 12)"
      ]
     },
     "execution_count": 304,
     "metadata": {},
     "output_type": "execute_result"
    }
   ],
   "source": [
    "predictions.shape"
   ]
  },
  {
   "cell_type": "code",
   "execution_count": 305,
   "metadata": {},
   "outputs": [
    {
     "name": "stdout",
     "output_type": "stream",
     "text": [
      "<class 'pandas.core.frame.DataFrame'>\n",
      "RangeIndex: 2075 entries, 0 to 2074\n",
      "Data columns (total 12 columns):\n",
      " #   Column    Non-Null Count  Dtype  \n",
      "---  ------    --------------  -----  \n",
      " 0   tweet_id  2075 non-null   int64  \n",
      " 1   jpg_url   2075 non-null   object \n",
      " 2   img_num   2075 non-null   int64  \n",
      " 3   p1        2075 non-null   object \n",
      " 4   p1_conf   2075 non-null   float64\n",
      " 5   p1_dog    2075 non-null   bool   \n",
      " 6   p2        2075 non-null   object \n",
      " 7   p2_conf   2075 non-null   float64\n",
      " 8   p2_dog    2075 non-null   bool   \n",
      " 9   p3        2075 non-null   object \n",
      " 10  p3_conf   2075 non-null   float64\n",
      " 11  p3_dog    2075 non-null   bool   \n",
      "dtypes: bool(3), float64(3), int64(2), object(4)\n",
      "memory usage: 152.1+ KB\n"
     ]
    }
   ],
   "source": [
    "predictions.info()"
   ]
  },
  {
   "cell_type": "code",
   "execution_count": 306,
   "metadata": {},
   "outputs": [
    {
     "data": {
      "text/html": [
       "<div>\n",
       "<style scoped>\n",
       "    .dataframe tbody tr th:only-of-type {\n",
       "        vertical-align: middle;\n",
       "    }\n",
       "\n",
       "    .dataframe tbody tr th {\n",
       "        vertical-align: top;\n",
       "    }\n",
       "\n",
       "    .dataframe thead th {\n",
       "        text-align: right;\n",
       "    }\n",
       "</style>\n",
       "<table border=\"1\" class=\"dataframe\">\n",
       "  <thead>\n",
       "    <tr style=\"text-align: right;\">\n",
       "      <th></th>\n",
       "      <th>tweet_id</th>\n",
       "      <th>img_num</th>\n",
       "      <th>p1_conf</th>\n",
       "      <th>p2_conf</th>\n",
       "      <th>p3_conf</th>\n",
       "    </tr>\n",
       "  </thead>\n",
       "  <tbody>\n",
       "    <tr>\n",
       "      <th>count</th>\n",
       "      <td>2.075000e+03</td>\n",
       "      <td>2075.000000</td>\n",
       "      <td>2075.000000</td>\n",
       "      <td>2.075000e+03</td>\n",
       "      <td>2.075000e+03</td>\n",
       "    </tr>\n",
       "    <tr>\n",
       "      <th>mean</th>\n",
       "      <td>7.384514e+17</td>\n",
       "      <td>1.203855</td>\n",
       "      <td>0.594548</td>\n",
       "      <td>1.345886e-01</td>\n",
       "      <td>6.032417e-02</td>\n",
       "    </tr>\n",
       "    <tr>\n",
       "      <th>std</th>\n",
       "      <td>6.785203e+16</td>\n",
       "      <td>0.561875</td>\n",
       "      <td>0.271174</td>\n",
       "      <td>1.006657e-01</td>\n",
       "      <td>5.090593e-02</td>\n",
       "    </tr>\n",
       "    <tr>\n",
       "      <th>min</th>\n",
       "      <td>6.660209e+17</td>\n",
       "      <td>1.000000</td>\n",
       "      <td>0.044333</td>\n",
       "      <td>1.011300e-08</td>\n",
       "      <td>1.740170e-10</td>\n",
       "    </tr>\n",
       "    <tr>\n",
       "      <th>25%</th>\n",
       "      <td>6.764835e+17</td>\n",
       "      <td>1.000000</td>\n",
       "      <td>0.364412</td>\n",
       "      <td>5.388625e-02</td>\n",
       "      <td>1.622240e-02</td>\n",
       "    </tr>\n",
       "    <tr>\n",
       "      <th>50%</th>\n",
       "      <td>7.119988e+17</td>\n",
       "      <td>1.000000</td>\n",
       "      <td>0.588230</td>\n",
       "      <td>1.181810e-01</td>\n",
       "      <td>4.944380e-02</td>\n",
       "    </tr>\n",
       "    <tr>\n",
       "      <th>75%</th>\n",
       "      <td>7.932034e+17</td>\n",
       "      <td>1.000000</td>\n",
       "      <td>0.843855</td>\n",
       "      <td>1.955655e-01</td>\n",
       "      <td>9.180755e-02</td>\n",
       "    </tr>\n",
       "    <tr>\n",
       "      <th>max</th>\n",
       "      <td>8.924206e+17</td>\n",
       "      <td>4.000000</td>\n",
       "      <td>1.000000</td>\n",
       "      <td>4.880140e-01</td>\n",
       "      <td>2.734190e-01</td>\n",
       "    </tr>\n",
       "  </tbody>\n",
       "</table>\n",
       "</div>"
      ],
      "text/plain": [
       "           tweet_id      img_num      p1_conf       p2_conf       p3_conf\n",
       "count  2.075000e+03  2075.000000  2075.000000  2.075000e+03  2.075000e+03\n",
       "mean   7.384514e+17     1.203855     0.594548  1.345886e-01  6.032417e-02\n",
       "std    6.785203e+16     0.561875     0.271174  1.006657e-01  5.090593e-02\n",
       "min    6.660209e+17     1.000000     0.044333  1.011300e-08  1.740170e-10\n",
       "25%    6.764835e+17     1.000000     0.364412  5.388625e-02  1.622240e-02\n",
       "50%    7.119988e+17     1.000000     0.588230  1.181810e-01  4.944380e-02\n",
       "75%    7.932034e+17     1.000000     0.843855  1.955655e-01  9.180755e-02\n",
       "max    8.924206e+17     4.000000     1.000000  4.880140e-01  2.734190e-01"
      ]
     },
     "execution_count": 306,
     "metadata": {},
     "output_type": "execute_result"
    }
   ],
   "source": [
    "predictions.describe()"
   ]
  },
  {
   "cell_type": "code",
   "execution_count": 307,
   "metadata": {},
   "outputs": [
    {
     "data": {
      "text/plain": [
       "0"
      ]
     },
     "execution_count": 307,
     "metadata": {},
     "output_type": "execute_result"
    }
   ],
   "source": [
    "predictions.duplicated().sum()"
   ]
  },
  {
   "cell_type": "code",
   "execution_count": 308,
   "metadata": {},
   "outputs": [
    {
     "data": {
      "text/plain": [
       "tweet_id    0\n",
       "jpg_url     0\n",
       "img_num     0\n",
       "p1          0\n",
       "p1_conf     0\n",
       "p1_dog      0\n",
       "p2          0\n",
       "p2_conf     0\n",
       "p2_dog      0\n",
       "p3          0\n",
       "p3_conf     0\n",
       "p3_dog      0\n",
       "dtype: int64"
      ]
     },
     "execution_count": 308,
     "metadata": {},
     "output_type": "execute_result"
    }
   ],
   "source": [
    "predictions.isnull().sum()"
   ]
  },
  {
   "cell_type": "code",
   "execution_count": 309,
   "metadata": {},
   "outputs": [
    {
     "data": {
      "text/html": [
       "<div>\n",
       "<style scoped>\n",
       "    .dataframe tbody tr th:only-of-type {\n",
       "        vertical-align: middle;\n",
       "    }\n",
       "\n",
       "    .dataframe tbody tr th {\n",
       "        vertical-align: top;\n",
       "    }\n",
       "\n",
       "    .dataframe thead th {\n",
       "        text-align: right;\n",
       "    }\n",
       "</style>\n",
       "<table border=\"1\" class=\"dataframe\">\n",
       "  <thead>\n",
       "    <tr style=\"text-align: right;\">\n",
       "      <th></th>\n",
       "      <th>tweet_id</th>\n",
       "      <th>retweets</th>\n",
       "      <th>likes_count</th>\n",
       "    </tr>\n",
       "  </thead>\n",
       "  <tbody>\n",
       "    <tr>\n",
       "      <th>0</th>\n",
       "      <td>892420643555336193</td>\n",
       "      <td>8853</td>\n",
       "      <td>39467</td>\n",
       "    </tr>\n",
       "    <tr>\n",
       "      <th>1</th>\n",
       "      <td>892177421306343426</td>\n",
       "      <td>6514</td>\n",
       "      <td>33819</td>\n",
       "    </tr>\n",
       "    <tr>\n",
       "      <th>2</th>\n",
       "      <td>891815181378084864</td>\n",
       "      <td>4328</td>\n",
       "      <td>25461</td>\n",
       "    </tr>\n",
       "    <tr>\n",
       "      <th>3</th>\n",
       "      <td>891689557279858688</td>\n",
       "      <td>8964</td>\n",
       "      <td>42908</td>\n",
       "    </tr>\n",
       "    <tr>\n",
       "      <th>4</th>\n",
       "      <td>891327558926688256</td>\n",
       "      <td>9774</td>\n",
       "      <td>41048</td>\n",
       "    </tr>\n",
       "  </tbody>\n",
       "</table>\n",
       "</div>"
      ],
      "text/plain": [
       "             tweet_id  retweets  likes_count\n",
       "0  892420643555336193      8853        39467\n",
       "1  892177421306343426      6514        33819\n",
       "2  891815181378084864      4328        25461\n",
       "3  891689557279858688      8964        42908\n",
       "4  891327558926688256      9774        41048"
      ]
     },
     "execution_count": 309,
     "metadata": {},
     "output_type": "execute_result"
    }
   ],
   "source": [
    "add_info.head()"
   ]
  },
  {
   "cell_type": "code",
   "execution_count": 310,
   "metadata": {},
   "outputs": [
    {
     "data": {
      "text/plain": [
       "(2354, 3)"
      ]
     },
     "execution_count": 310,
     "metadata": {},
     "output_type": "execute_result"
    }
   ],
   "source": [
    "add_info.shape"
   ]
  },
  {
   "cell_type": "code",
   "execution_count": 311,
   "metadata": {},
   "outputs": [
    {
     "name": "stdout",
     "output_type": "stream",
     "text": [
      "<class 'pandas.core.frame.DataFrame'>\n",
      "RangeIndex: 2354 entries, 0 to 2353\n",
      "Data columns (total 3 columns):\n",
      " #   Column       Non-Null Count  Dtype\n",
      "---  ------       --------------  -----\n",
      " 0   tweet_id     2354 non-null   int64\n",
      " 1   retweets     2354 non-null   int64\n",
      " 2   likes_count  2354 non-null   int64\n",
      "dtypes: int64(3)\n",
      "memory usage: 55.3 KB\n"
     ]
    }
   ],
   "source": [
    "add_info.info()"
   ]
  },
  {
   "cell_type": "code",
   "execution_count": 312,
   "metadata": {},
   "outputs": [
    {
     "data": {
      "text/html": [
       "<div>\n",
       "<style scoped>\n",
       "    .dataframe tbody tr th:only-of-type {\n",
       "        vertical-align: middle;\n",
       "    }\n",
       "\n",
       "    .dataframe tbody tr th {\n",
       "        vertical-align: top;\n",
       "    }\n",
       "\n",
       "    .dataframe thead th {\n",
       "        text-align: right;\n",
       "    }\n",
       "</style>\n",
       "<table border=\"1\" class=\"dataframe\">\n",
       "  <thead>\n",
       "    <tr style=\"text-align: right;\">\n",
       "      <th></th>\n",
       "      <th>tweet_id</th>\n",
       "      <th>retweets</th>\n",
       "      <th>likes_count</th>\n",
       "    </tr>\n",
       "  </thead>\n",
       "  <tbody>\n",
       "    <tr>\n",
       "      <th>count</th>\n",
       "      <td>2.354000e+03</td>\n",
       "      <td>2354.000000</td>\n",
       "      <td>2354.000000</td>\n",
       "    </tr>\n",
       "    <tr>\n",
       "      <th>mean</th>\n",
       "      <td>7.426978e+17</td>\n",
       "      <td>3164.797366</td>\n",
       "      <td>8080.968564</td>\n",
       "    </tr>\n",
       "    <tr>\n",
       "      <th>std</th>\n",
       "      <td>6.852812e+16</td>\n",
       "      <td>5284.770364</td>\n",
       "      <td>11814.771334</td>\n",
       "    </tr>\n",
       "    <tr>\n",
       "      <th>min</th>\n",
       "      <td>6.660209e+17</td>\n",
       "      <td>0.000000</td>\n",
       "      <td>0.000000</td>\n",
       "    </tr>\n",
       "    <tr>\n",
       "      <th>25%</th>\n",
       "      <td>6.783975e+17</td>\n",
       "      <td>624.500000</td>\n",
       "      <td>1415.000000</td>\n",
       "    </tr>\n",
       "    <tr>\n",
       "      <th>50%</th>\n",
       "      <td>7.194596e+17</td>\n",
       "      <td>1473.500000</td>\n",
       "      <td>3603.500000</td>\n",
       "    </tr>\n",
       "    <tr>\n",
       "      <th>75%</th>\n",
       "      <td>7.993058e+17</td>\n",
       "      <td>3652.000000</td>\n",
       "      <td>10122.250000</td>\n",
       "    </tr>\n",
       "    <tr>\n",
       "      <th>max</th>\n",
       "      <td>8.924206e+17</td>\n",
       "      <td>79515.000000</td>\n",
       "      <td>132810.000000</td>\n",
       "    </tr>\n",
       "  </tbody>\n",
       "</table>\n",
       "</div>"
      ],
      "text/plain": [
       "           tweet_id      retweets    likes_count\n",
       "count  2.354000e+03   2354.000000    2354.000000\n",
       "mean   7.426978e+17   3164.797366    8080.968564\n",
       "std    6.852812e+16   5284.770364   11814.771334\n",
       "min    6.660209e+17      0.000000       0.000000\n",
       "25%    6.783975e+17    624.500000    1415.000000\n",
       "50%    7.194596e+17   1473.500000    3603.500000\n",
       "75%    7.993058e+17   3652.000000   10122.250000\n",
       "max    8.924206e+17  79515.000000  132810.000000"
      ]
     },
     "execution_count": 312,
     "metadata": {},
     "output_type": "execute_result"
    }
   ],
   "source": [
    "add_info.describe()"
   ]
  },
  {
   "cell_type": "code",
   "execution_count": 313,
   "metadata": {},
   "outputs": [
    {
     "data": {
      "text/plain": [
       "0"
      ]
     },
     "execution_count": 313,
     "metadata": {},
     "output_type": "execute_result"
    }
   ],
   "source": [
    "add_info.duplicated().sum()"
   ]
  },
  {
   "cell_type": "code",
   "execution_count": 314,
   "metadata": {},
   "outputs": [
    {
     "data": {
      "text/plain": [
       "tweet_id       0\n",
       "retweets       0\n",
       "likes_count    0\n",
       "dtype: int64"
      ]
     },
     "execution_count": 314,
     "metadata": {},
     "output_type": "execute_result"
    }
   ],
   "source": [
    "add_info.isnull().sum()"
   ]
  },
  {
   "cell_type": "markdown",
   "metadata": {},
   "source": [
    "<a id='clean'></a>\n",
    "## Cleaning the Data"
   ]
  },
  {
   "cell_type": "code",
   "execution_count": 315,
   "metadata": {},
   "outputs": [],
   "source": [
    "# Create copies of each dataframe (_original). The copies will be kept as is, and I will work on the other version.\n",
    "archive_original = archive.copy()\n",
    "predictions_original = predictions.copy()\n",
    "add_info_original = add_info.copy()"
   ]
  },
  {
   "cell_type": "markdown",
   "metadata": {},
   "source": [
    "<a id='miss'></a>\n",
    "### Missing Data"
   ]
  },
  {
   "cell_type": "markdown",
   "metadata": {},
   "source": [
    "#### In archive table, some name values are empty, when the name of the dog is indeed in the text.\n",
    "#### Define\n",
    "\n",
    "Extract dog name from text. \n",
    ">I was having trouble with this. A mentor suggested that this was too complicated because there is no clear pattern that the texts follow to include names. They suggested to skip it this issue: https://knowledge.udacity.com/questions/281689"
   ]
  },
  {
   "cell_type": "markdown",
   "metadata": {},
   "source": [
    "#### Quality Issue 1: In predictions table, 281 image predictions are missing\n",
    "#### Define\n",
    "Determine the tweet_id values in the archive dataframe that are not in the predictions dataframe, and drop them."
   ]
  },
  {
   "cell_type": "markdown",
   "metadata": {},
   "source": [
    "#### Code"
   ]
  },
  {
   "cell_type": "code",
   "execution_count": 316,
   "metadata": {
    "scrolled": true
   },
   "outputs": [],
   "source": [
    "# Create a dataframe only with tweet_ids from prediction table, and change name of column to tweet_id1\n",
    "p_twid = pd.DataFrame(predictions[\"tweet_id\"])\n",
    "p_twid = p_twid.rename(columns={\"tweet_id\": \"tweet_id1\"})"
   ]
  },
  {
   "cell_type": "code",
   "execution_count": 317,
   "metadata": {},
   "outputs": [],
   "source": [
    "# Concatenate p_twid and the archive with an inner join.\n",
    "archive = pd.concat([archive, p_twid], axis=1, join=\"inner\")"
   ]
  },
  {
   "cell_type": "code",
   "execution_count": 318,
   "metadata": {},
   "outputs": [],
   "source": [
    "# Drop p_twid (tweet_id2) data from archive\n",
    "archive.drop(\"tweet_id1\", axis=1, inplace=True)"
   ]
  },
  {
   "cell_type": "markdown",
   "metadata": {},
   "source": [
    "#### Test"
   ]
  },
  {
   "cell_type": "code",
   "execution_count": 319,
   "metadata": {},
   "outputs": [
    {
     "data": {
      "text/plain": [
       "((2075, 17), (2075, 12), (2354, 3))"
      ]
     },
     "execution_count": 319,
     "metadata": {},
     "output_type": "execute_result"
    }
   ],
   "source": [
    "archive.shape, predictions.shape, add_info.shape"
   ]
  },
  {
   "cell_type": "markdown",
   "metadata": {},
   "source": [
    "#### Quality Issue 2: Number of rows in add_info and archive are not the same (missing values)\n",
    "#### Define\n",
    "Determine the tweet_id values in the add_info dataframe that are not in the archive dataframe, and drop them."
   ]
  },
  {
   "cell_type": "markdown",
   "metadata": {},
   "source": [
    "#### Code"
   ]
  },
  {
   "cell_type": "code",
   "execution_count": 320,
   "metadata": {},
   "outputs": [],
   "source": [
    "# Create a dataframe only with tweet_ids from add_info table, and change name of column to tweet_id1\n",
    "a_twid = pd.DataFrame(archive[\"tweet_id\"])\n",
    "a_twid = a_twid.rename(columns={\"tweet_id\": \"tweet_id2\"})"
   ]
  },
  {
   "cell_type": "code",
   "execution_count": 321,
   "metadata": {},
   "outputs": [],
   "source": [
    "# Concatenate a_twid and the add_info with an inner join.\n",
    "add_info = pd.concat([add_info, a_twid], axis=1, join=\"inner\")"
   ]
  },
  {
   "cell_type": "code",
   "execution_count": 322,
   "metadata": {},
   "outputs": [],
   "source": [
    "# Drop a_twid (tweet_id1) data from archive\n",
    "add_info.drop(\"tweet_id2\", axis=1, inplace=True)"
   ]
  },
  {
   "cell_type": "markdown",
   "metadata": {},
   "source": [
    "#### Test"
   ]
  },
  {
   "cell_type": "code",
   "execution_count": 323,
   "metadata": {},
   "outputs": [
    {
     "data": {
      "text/plain": [
       "((2075, 17), (2075, 12), (2075, 3))"
      ]
     },
     "execution_count": 323,
     "metadata": {},
     "output_type": "execute_result"
    }
   ],
   "source": [
    "archive.shape, predictions.shape, add_info.shape"
   ]
  },
  {
   "cell_type": "markdown",
   "metadata": {},
   "source": [
    "> All tables have information for the same tweet_ids"
   ]
  },
  {
   "cell_type": "markdown",
   "metadata": {},
   "source": [
    "<a id='tidy'></a>\n",
    "### Data Tidiness Issues"
   ]
  },
  {
   "cell_type": "markdown",
   "metadata": {},
   "source": [
    "#### Tidiness Issue 1: In the archive dataframe, columns in_reply_to_status_id and in_reply_to_user_id are virtually empty.\n",
    "#### Define\n",
    "Drop the columns."
   ]
  },
  {
   "cell_type": "markdown",
   "metadata": {},
   "source": [
    "#### Code"
   ]
  },
  {
   "cell_type": "code",
   "execution_count": 324,
   "metadata": {},
   "outputs": [],
   "source": [
    "# Delete columns\n",
    "archive.drop([\"in_reply_to_status_id\"], axis=1, inplace=True)\n",
    "archive.drop([\"in_reply_to_user_id\"], axis=1, inplace=True)"
   ]
  },
  {
   "cell_type": "markdown",
   "metadata": {},
   "source": [
    "#### Test"
   ]
  },
  {
   "cell_type": "code",
   "execution_count": 325,
   "metadata": {},
   "outputs": [
    {
     "data": {
      "text/plain": [
       "(2075, 15)"
      ]
     },
     "execution_count": 325,
     "metadata": {},
     "output_type": "execute_result"
    }
   ],
   "source": [
    "# Previously, table had 17 columns)\n",
    "archive.shape"
   ]
  },
  {
   "cell_type": "markdown",
   "metadata": {},
   "source": [
    "#### Tidiness Issue 2: In the archive dataframe, columns doggo, floofer, pupper, puppo should be together in one dog_type column (category datatype)\n",
    "#### Define\n",
    "To take care of this tidiness issue, I need to take care, first, of a quality issue (**Quality Issue 3**), which involves setting \"None\" values in the dog stage columns into missing values (np.nan). \n",
    "\n",
    "After that, we can join columns doggo, floffer, pupper and puppo into one column dog_stage (https://stackoverflow.com/questions/45787782/combine-multiple-columns-in-pandas-excluding-nans)."
   ]
  },
  {
   "cell_type": "markdown",
   "metadata": {},
   "source": [
    "#### Code"
   ]
  },
  {
   "cell_type": "code",
   "execution_count": 326,
   "metadata": {
    "scrolled": false
   },
   "outputs": [],
   "source": [
    "# Change \"None\" values into missing values (np.nan) for columns doggo, floffer, pupper and puppo\n",
    "archive[\"doggo\"] = archive[\"doggo\"].replace(\"None\", np.nan)\n",
    "archive[\"floofer\"] = archive[\"floofer\"].replace(\"None\", np.nan)\n",
    "archive[\"pupper\"] = archive[\"pupper\"].replace(\"None\", np.nan)\n",
    "archive[\"puppo\"] = archive[\"puppo\"].replace(\"None\", np.nan)"
   ]
  },
  {
   "cell_type": "code",
   "execution_count": 327,
   "metadata": {},
   "outputs": [],
   "source": [
    "# Join columns doggo, floffer, pupper and puppo into one column dog_stage, with a comma (\", \") \n",
    "# as separation for rows with more than one dog stage.\n",
    "cols = ['doggo', 'floofer', 'pupper', 'puppo']\n",
    "archive[\"dog_stages\"] = archive[cols].apply(lambda x: ','.join(x.dropna()), axis=1)"
   ]
  },
  {
   "cell_type": "code",
   "execution_count": 328,
   "metadata": {},
   "outputs": [],
   "source": [
    "# Drop unnecessary columns\n",
    "archive.drop([\"doggo\"], axis=1, inplace=True)\n",
    "archive.drop([\"floofer\"], axis=1, inplace=True)\n",
    "archive.drop([\"pupper\"], axis=1, inplace=True)\n",
    "archive.drop([\"puppo\"], axis=1, inplace=True)"
   ]
  },
  {
   "cell_type": "markdown",
   "metadata": {},
   "source": [
    "#### Test"
   ]
  },
  {
   "cell_type": "code",
   "execution_count": 329,
   "metadata": {
    "scrolled": true
   },
   "outputs": [
    {
     "data": {
      "text/plain": [
       "                 1695\n",
       "pupper            245\n",
       "doggo              83\n",
       "puppo              29\n",
       "doggo,pupper       12\n",
       "floofer             9\n",
       "doggo,floofer       1\n",
       "doggo,puppo         1\n",
       "Name: dog_stages, dtype: int64"
      ]
     },
     "execution_count": 329,
     "metadata": {},
     "output_type": "execute_result"
    }
   ],
   "source": [
    "archive[\"dog_stages\"].value_counts()"
   ]
  },
  {
   "cell_type": "markdown",
   "metadata": {},
   "source": [
    "> There are 1695 values assigned to a blank value. I will address this below, in Data Quality Issues, along with the double-stage values."
   ]
  },
  {
   "cell_type": "code",
   "execution_count": 330,
   "metadata": {},
   "outputs": [
    {
     "data": {
      "text/html": [
       "<div>\n",
       "<style scoped>\n",
       "    .dataframe tbody tr th:only-of-type {\n",
       "        vertical-align: middle;\n",
       "    }\n",
       "\n",
       "    .dataframe tbody tr th {\n",
       "        vertical-align: top;\n",
       "    }\n",
       "\n",
       "    .dataframe thead th {\n",
       "        text-align: right;\n",
       "    }\n",
       "</style>\n",
       "<table border=\"1\" class=\"dataframe\">\n",
       "  <thead>\n",
       "    <tr style=\"text-align: right;\">\n",
       "      <th></th>\n",
       "      <th>tweet_id</th>\n",
       "      <th>timestamp</th>\n",
       "      <th>source</th>\n",
       "      <th>text</th>\n",
       "      <th>retweeted_status_id</th>\n",
       "      <th>retweeted_status_user_id</th>\n",
       "      <th>retweeted_status_timestamp</th>\n",
       "      <th>expanded_urls</th>\n",
       "      <th>rating_numerator</th>\n",
       "      <th>rating_denominator</th>\n",
       "      <th>name</th>\n",
       "      <th>dog_stages</th>\n",
       "    </tr>\n",
       "  </thead>\n",
       "  <tbody>\n",
       "    <tr>\n",
       "      <th>0</th>\n",
       "      <td>892420643555336193</td>\n",
       "      <td>2017-08-01 16:23:56 +0000</td>\n",
       "      <td>&lt;a href=\"http://twitter.com/download/iphone\" r...</td>\n",
       "      <td>This is Phineas. He's a mystical boy. Only eve...</td>\n",
       "      <td>NaN</td>\n",
       "      <td>NaN</td>\n",
       "      <td>NaN</td>\n",
       "      <td>https://twitter.com/dog_rates/status/892420643...</td>\n",
       "      <td>13</td>\n",
       "      <td>10</td>\n",
       "      <td>Phineas</td>\n",
       "      <td></td>\n",
       "    </tr>\n",
       "    <tr>\n",
       "      <th>1</th>\n",
       "      <td>892177421306343426</td>\n",
       "      <td>2017-08-01 00:17:27 +0000</td>\n",
       "      <td>&lt;a href=\"http://twitter.com/download/iphone\" r...</td>\n",
       "      <td>This is Tilly. She's just checking pup on you....</td>\n",
       "      <td>NaN</td>\n",
       "      <td>NaN</td>\n",
       "      <td>NaN</td>\n",
       "      <td>https://twitter.com/dog_rates/status/892177421...</td>\n",
       "      <td>13</td>\n",
       "      <td>10</td>\n",
       "      <td>Tilly</td>\n",
       "      <td></td>\n",
       "    </tr>\n",
       "    <tr>\n",
       "      <th>2</th>\n",
       "      <td>891815181378084864</td>\n",
       "      <td>2017-07-31 00:18:03 +0000</td>\n",
       "      <td>&lt;a href=\"http://twitter.com/download/iphone\" r...</td>\n",
       "      <td>This is Archie. He is a rare Norwegian Pouncin...</td>\n",
       "      <td>NaN</td>\n",
       "      <td>NaN</td>\n",
       "      <td>NaN</td>\n",
       "      <td>https://twitter.com/dog_rates/status/891815181...</td>\n",
       "      <td>12</td>\n",
       "      <td>10</td>\n",
       "      <td>Archie</td>\n",
       "      <td></td>\n",
       "    </tr>\n",
       "    <tr>\n",
       "      <th>3</th>\n",
       "      <td>891689557279858688</td>\n",
       "      <td>2017-07-30 15:58:51 +0000</td>\n",
       "      <td>&lt;a href=\"http://twitter.com/download/iphone\" r...</td>\n",
       "      <td>This is Darla. She commenced a snooze mid meal...</td>\n",
       "      <td>NaN</td>\n",
       "      <td>NaN</td>\n",
       "      <td>NaN</td>\n",
       "      <td>https://twitter.com/dog_rates/status/891689557...</td>\n",
       "      <td>13</td>\n",
       "      <td>10</td>\n",
       "      <td>Darla</td>\n",
       "      <td></td>\n",
       "    </tr>\n",
       "    <tr>\n",
       "      <th>4</th>\n",
       "      <td>891327558926688256</td>\n",
       "      <td>2017-07-29 16:00:24 +0000</td>\n",
       "      <td>&lt;a href=\"http://twitter.com/download/iphone\" r...</td>\n",
       "      <td>This is Franklin. He would like you to stop ca...</td>\n",
       "      <td>NaN</td>\n",
       "      <td>NaN</td>\n",
       "      <td>NaN</td>\n",
       "      <td>https://twitter.com/dog_rates/status/891327558...</td>\n",
       "      <td>12</td>\n",
       "      <td>10</td>\n",
       "      <td>Franklin</td>\n",
       "      <td></td>\n",
       "    </tr>\n",
       "  </tbody>\n",
       "</table>\n",
       "</div>"
      ],
      "text/plain": [
       "             tweet_id                  timestamp  \\\n",
       "0  892420643555336193  2017-08-01 16:23:56 +0000   \n",
       "1  892177421306343426  2017-08-01 00:17:27 +0000   \n",
       "2  891815181378084864  2017-07-31 00:18:03 +0000   \n",
       "3  891689557279858688  2017-07-30 15:58:51 +0000   \n",
       "4  891327558926688256  2017-07-29 16:00:24 +0000   \n",
       "\n",
       "                                              source  \\\n",
       "0  <a href=\"http://twitter.com/download/iphone\" r...   \n",
       "1  <a href=\"http://twitter.com/download/iphone\" r...   \n",
       "2  <a href=\"http://twitter.com/download/iphone\" r...   \n",
       "3  <a href=\"http://twitter.com/download/iphone\" r...   \n",
       "4  <a href=\"http://twitter.com/download/iphone\" r...   \n",
       "\n",
       "                                                text  retweeted_status_id  \\\n",
       "0  This is Phineas. He's a mystical boy. Only eve...                  NaN   \n",
       "1  This is Tilly. She's just checking pup on you....                  NaN   \n",
       "2  This is Archie. He is a rare Norwegian Pouncin...                  NaN   \n",
       "3  This is Darla. She commenced a snooze mid meal...                  NaN   \n",
       "4  This is Franklin. He would like you to stop ca...                  NaN   \n",
       "\n",
       "   retweeted_status_user_id retweeted_status_timestamp  \\\n",
       "0                       NaN                        NaN   \n",
       "1                       NaN                        NaN   \n",
       "2                       NaN                        NaN   \n",
       "3                       NaN                        NaN   \n",
       "4                       NaN                        NaN   \n",
       "\n",
       "                                       expanded_urls  rating_numerator  \\\n",
       "0  https://twitter.com/dog_rates/status/892420643...                13   \n",
       "1  https://twitter.com/dog_rates/status/892177421...                13   \n",
       "2  https://twitter.com/dog_rates/status/891815181...                12   \n",
       "3  https://twitter.com/dog_rates/status/891689557...                13   \n",
       "4  https://twitter.com/dog_rates/status/891327558...                12   \n",
       "\n",
       "   rating_denominator      name dog_stages  \n",
       "0                  10   Phineas             \n",
       "1                  10     Tilly             \n",
       "2                  10    Archie             \n",
       "3                  10     Darla             \n",
       "4                  10  Franklin             "
      ]
     },
     "execution_count": 330,
     "metadata": {},
     "output_type": "execute_result"
    }
   ],
   "source": [
    "archive.head(5)"
   ]
  },
  {
   "cell_type": "code",
   "execution_count": 331,
   "metadata": {},
   "outputs": [
    {
     "data": {
      "text/plain": [
       "0"
      ]
     },
     "execution_count": 331,
     "metadata": {},
     "output_type": "execute_result"
    }
   ],
   "source": [
    "archive[\"dog_stages\"].isnull().sum()"
   ]
  },
  {
   "cell_type": "markdown",
   "metadata": {},
   "source": [
    "#### Tidiness Issue 3: The add_info dataframe should be merged with archive. Both are talking about the tweet.\n",
    "#### Define\n",
    "Concatenate archive and add_info dataframes and delete duplicated column"
   ]
  },
  {
   "cell_type": "markdown",
   "metadata": {},
   "source": [
    "#### Code"
   ]
  },
  {
   "cell_type": "code",
   "execution_count": 332,
   "metadata": {},
   "outputs": [],
   "source": [
    "#Concatenate archive and add_info dataframes and delete duplicated column\n",
    "archive_comb = pd.concat([archive, add_info], axis=1, join=\"inner\")\n",
    "archive_comb = archive_comb.loc[:,~archive_comb.columns.duplicated()]"
   ]
  },
  {
   "cell_type": "markdown",
   "metadata": {},
   "source": [
    "#### Test"
   ]
  },
  {
   "cell_type": "code",
   "execution_count": 333,
   "metadata": {},
   "outputs": [
    {
     "data": {
      "text/html": [
       "<div>\n",
       "<style scoped>\n",
       "    .dataframe tbody tr th:only-of-type {\n",
       "        vertical-align: middle;\n",
       "    }\n",
       "\n",
       "    .dataframe tbody tr th {\n",
       "        vertical-align: top;\n",
       "    }\n",
       "\n",
       "    .dataframe thead th {\n",
       "        text-align: right;\n",
       "    }\n",
       "</style>\n",
       "<table border=\"1\" class=\"dataframe\">\n",
       "  <thead>\n",
       "    <tr style=\"text-align: right;\">\n",
       "      <th></th>\n",
       "      <th>tweet_id</th>\n",
       "      <th>timestamp</th>\n",
       "      <th>source</th>\n",
       "      <th>text</th>\n",
       "      <th>retweeted_status_id</th>\n",
       "      <th>retweeted_status_user_id</th>\n",
       "      <th>retweeted_status_timestamp</th>\n",
       "      <th>expanded_urls</th>\n",
       "      <th>rating_numerator</th>\n",
       "      <th>rating_denominator</th>\n",
       "      <th>name</th>\n",
       "      <th>dog_stages</th>\n",
       "      <th>retweets</th>\n",
       "      <th>likes_count</th>\n",
       "    </tr>\n",
       "  </thead>\n",
       "  <tbody>\n",
       "    <tr>\n",
       "      <th>0</th>\n",
       "      <td>892420643555336193</td>\n",
       "      <td>2017-08-01 16:23:56 +0000</td>\n",
       "      <td>&lt;a href=\"http://twitter.com/download/iphone\" r...</td>\n",
       "      <td>This is Phineas. He's a mystical boy. Only eve...</td>\n",
       "      <td>NaN</td>\n",
       "      <td>NaN</td>\n",
       "      <td>NaN</td>\n",
       "      <td>https://twitter.com/dog_rates/status/892420643...</td>\n",
       "      <td>13</td>\n",
       "      <td>10</td>\n",
       "      <td>Phineas</td>\n",
       "      <td></td>\n",
       "      <td>8853</td>\n",
       "      <td>39467</td>\n",
       "    </tr>\n",
       "    <tr>\n",
       "      <th>1</th>\n",
       "      <td>892177421306343426</td>\n",
       "      <td>2017-08-01 00:17:27 +0000</td>\n",
       "      <td>&lt;a href=\"http://twitter.com/download/iphone\" r...</td>\n",
       "      <td>This is Tilly. She's just checking pup on you....</td>\n",
       "      <td>NaN</td>\n",
       "      <td>NaN</td>\n",
       "      <td>NaN</td>\n",
       "      <td>https://twitter.com/dog_rates/status/892177421...</td>\n",
       "      <td>13</td>\n",
       "      <td>10</td>\n",
       "      <td>Tilly</td>\n",
       "      <td></td>\n",
       "      <td>6514</td>\n",
       "      <td>33819</td>\n",
       "    </tr>\n",
       "    <tr>\n",
       "      <th>2</th>\n",
       "      <td>891815181378084864</td>\n",
       "      <td>2017-07-31 00:18:03 +0000</td>\n",
       "      <td>&lt;a href=\"http://twitter.com/download/iphone\" r...</td>\n",
       "      <td>This is Archie. He is a rare Norwegian Pouncin...</td>\n",
       "      <td>NaN</td>\n",
       "      <td>NaN</td>\n",
       "      <td>NaN</td>\n",
       "      <td>https://twitter.com/dog_rates/status/891815181...</td>\n",
       "      <td>12</td>\n",
       "      <td>10</td>\n",
       "      <td>Archie</td>\n",
       "      <td></td>\n",
       "      <td>4328</td>\n",
       "      <td>25461</td>\n",
       "    </tr>\n",
       "    <tr>\n",
       "      <th>3</th>\n",
       "      <td>891689557279858688</td>\n",
       "      <td>2017-07-30 15:58:51 +0000</td>\n",
       "      <td>&lt;a href=\"http://twitter.com/download/iphone\" r...</td>\n",
       "      <td>This is Darla. She commenced a snooze mid meal...</td>\n",
       "      <td>NaN</td>\n",
       "      <td>NaN</td>\n",
       "      <td>NaN</td>\n",
       "      <td>https://twitter.com/dog_rates/status/891689557...</td>\n",
       "      <td>13</td>\n",
       "      <td>10</td>\n",
       "      <td>Darla</td>\n",
       "      <td></td>\n",
       "      <td>8964</td>\n",
       "      <td>42908</td>\n",
       "    </tr>\n",
       "    <tr>\n",
       "      <th>4</th>\n",
       "      <td>891327558926688256</td>\n",
       "      <td>2017-07-29 16:00:24 +0000</td>\n",
       "      <td>&lt;a href=\"http://twitter.com/download/iphone\" r...</td>\n",
       "      <td>This is Franklin. He would like you to stop ca...</td>\n",
       "      <td>NaN</td>\n",
       "      <td>NaN</td>\n",
       "      <td>NaN</td>\n",
       "      <td>https://twitter.com/dog_rates/status/891327558...</td>\n",
       "      <td>12</td>\n",
       "      <td>10</td>\n",
       "      <td>Franklin</td>\n",
       "      <td></td>\n",
       "      <td>9774</td>\n",
       "      <td>41048</td>\n",
       "    </tr>\n",
       "  </tbody>\n",
       "</table>\n",
       "</div>"
      ],
      "text/plain": [
       "             tweet_id                  timestamp  \\\n",
       "0  892420643555336193  2017-08-01 16:23:56 +0000   \n",
       "1  892177421306343426  2017-08-01 00:17:27 +0000   \n",
       "2  891815181378084864  2017-07-31 00:18:03 +0000   \n",
       "3  891689557279858688  2017-07-30 15:58:51 +0000   \n",
       "4  891327558926688256  2017-07-29 16:00:24 +0000   \n",
       "\n",
       "                                              source  \\\n",
       "0  <a href=\"http://twitter.com/download/iphone\" r...   \n",
       "1  <a href=\"http://twitter.com/download/iphone\" r...   \n",
       "2  <a href=\"http://twitter.com/download/iphone\" r...   \n",
       "3  <a href=\"http://twitter.com/download/iphone\" r...   \n",
       "4  <a href=\"http://twitter.com/download/iphone\" r...   \n",
       "\n",
       "                                                text  retweeted_status_id  \\\n",
       "0  This is Phineas. He's a mystical boy. Only eve...                  NaN   \n",
       "1  This is Tilly. She's just checking pup on you....                  NaN   \n",
       "2  This is Archie. He is a rare Norwegian Pouncin...                  NaN   \n",
       "3  This is Darla. She commenced a snooze mid meal...                  NaN   \n",
       "4  This is Franklin. He would like you to stop ca...                  NaN   \n",
       "\n",
       "   retweeted_status_user_id retweeted_status_timestamp  \\\n",
       "0                       NaN                        NaN   \n",
       "1                       NaN                        NaN   \n",
       "2                       NaN                        NaN   \n",
       "3                       NaN                        NaN   \n",
       "4                       NaN                        NaN   \n",
       "\n",
       "                                       expanded_urls  rating_numerator  \\\n",
       "0  https://twitter.com/dog_rates/status/892420643...                13   \n",
       "1  https://twitter.com/dog_rates/status/892177421...                13   \n",
       "2  https://twitter.com/dog_rates/status/891815181...                12   \n",
       "3  https://twitter.com/dog_rates/status/891689557...                13   \n",
       "4  https://twitter.com/dog_rates/status/891327558...                12   \n",
       "\n",
       "   rating_denominator      name dog_stages  retweets  likes_count  \n",
       "0                  10   Phineas                 8853        39467  \n",
       "1                  10     Tilly                 6514        33819  \n",
       "2                  10    Archie                 4328        25461  \n",
       "3                  10     Darla                 8964        42908  \n",
       "4                  10  Franklin                 9774        41048  "
      ]
     },
     "execution_count": 333,
     "metadata": {},
     "output_type": "execute_result"
    }
   ],
   "source": [
    "archive_comb.head()"
   ]
  },
  {
   "cell_type": "code",
   "execution_count": 334,
   "metadata": {},
   "outputs": [
    {
     "data": {
      "text/plain": [
       "(2075, 14)"
      ]
     },
     "execution_count": 334,
     "metadata": {},
     "output_type": "execute_result"
    }
   ],
   "source": [
    "archive_comb.shape"
   ]
  },
  {
   "cell_type": "markdown",
   "metadata": {},
   "source": [
    "#### Tidiness Issue 4: The archive_comb dataset should only include tweets, not retweets"
   ]
  },
  {
   "cell_type": "markdown",
   "metadata": {},
   "source": [
    "#### Define\n",
    "Rows with a retweeted_status_id, retweeted_status_user_id, or retweeted_status_timestamp should be dropped."
   ]
  },
  {
   "cell_type": "code",
   "execution_count": 335,
   "metadata": {},
   "outputs": [
    {
     "data": {
      "text/plain": [
       "(2075, 14)"
      ]
     },
     "execution_count": 335,
     "metadata": {},
     "output_type": "execute_result"
    }
   ],
   "source": [
    "archive_comb.shape"
   ]
  },
  {
   "cell_type": "markdown",
   "metadata": {},
   "source": [
    "#### Code"
   ]
  },
  {
   "cell_type": "code",
   "execution_count": 336,
   "metadata": {},
   "outputs": [],
   "source": [
    "# Drop rows with a retweet_status_id\n",
    "archive_comb.drop(archive_comb[archive_comb[\"retweeted_status_id\"] > 0].index, inplace = True) "
   ]
  },
  {
   "cell_type": "markdown",
   "metadata": {},
   "source": [
    "#### Test"
   ]
  },
  {
   "cell_type": "code",
   "execution_count": 337,
   "metadata": {},
   "outputs": [
    {
     "data": {
      "text/plain": [
       "(1896, 14)"
      ]
     },
     "execution_count": 337,
     "metadata": {},
     "output_type": "execute_result"
    }
   ],
   "source": [
    "archive_comb.shape"
   ]
  },
  {
   "cell_type": "code",
   "execution_count": 338,
   "metadata": {
    "scrolled": true
   },
   "outputs": [
    {
     "data": {
      "text/html": [
       "<div>\n",
       "<style scoped>\n",
       "    .dataframe tbody tr th:only-of-type {\n",
       "        vertical-align: middle;\n",
       "    }\n",
       "\n",
       "    .dataframe tbody tr th {\n",
       "        vertical-align: top;\n",
       "    }\n",
       "\n",
       "    .dataframe thead th {\n",
       "        text-align: right;\n",
       "    }\n",
       "</style>\n",
       "<table border=\"1\" class=\"dataframe\">\n",
       "  <thead>\n",
       "    <tr style=\"text-align: right;\">\n",
       "      <th></th>\n",
       "      <th>tweet_id</th>\n",
       "      <th>timestamp</th>\n",
       "      <th>source</th>\n",
       "      <th>text</th>\n",
       "      <th>retweeted_status_id</th>\n",
       "      <th>retweeted_status_user_id</th>\n",
       "      <th>retweeted_status_timestamp</th>\n",
       "      <th>expanded_urls</th>\n",
       "      <th>rating_numerator</th>\n",
       "      <th>rating_denominator</th>\n",
       "      <th>name</th>\n",
       "      <th>dog_stages</th>\n",
       "      <th>retweets</th>\n",
       "      <th>likes_count</th>\n",
       "    </tr>\n",
       "  </thead>\n",
       "  <tbody>\n",
       "    <tr>\n",
       "      <th>1015</th>\n",
       "      <td>747103485104099331</td>\n",
       "      <td>2016-06-26 16:25:26 +0000</td>\n",
       "      <td>&lt;a href=\"http://twitter.com/download/iphone\" r...</td>\n",
       "      <td>Guys... I said DOGS with \"shark qualities\" or ...</td>\n",
       "      <td>NaN</td>\n",
       "      <td>NaN</td>\n",
       "      <td>NaN</td>\n",
       "      <td>https://twitter.com/dog_rates/status/747103485...</td>\n",
       "      <td>11</td>\n",
       "      <td>10</td>\n",
       "      <td>None</td>\n",
       "      <td></td>\n",
       "      <td>2429</td>\n",
       "      <td>6593</td>\n",
       "    </tr>\n",
       "    <tr>\n",
       "      <th>221</th>\n",
       "      <td>849776966551130114</td>\n",
       "      <td>2017-04-06 00:13:11 +0000</td>\n",
       "      <td>&lt;a href=\"http://twitter.com/download/iphone\" r...</td>\n",
       "      <td>Seriously guys? Again? We only rate dogs. Plea...</td>\n",
       "      <td>NaN</td>\n",
       "      <td>NaN</td>\n",
       "      <td>NaN</td>\n",
       "      <td>https://twitter.com/dog_rates/status/849776966...</td>\n",
       "      <td>12</td>\n",
       "      <td>10</td>\n",
       "      <td>None</td>\n",
       "      <td></td>\n",
       "      <td>5513</td>\n",
       "      <td>0</td>\n",
       "    </tr>\n",
       "    <tr>\n",
       "      <th>1354</th>\n",
       "      <td>703631701117943808</td>\n",
       "      <td>2016-02-27 17:24:05 +0000</td>\n",
       "      <td>&lt;a href=\"http://twitter.com/download/iphone\" r...</td>\n",
       "      <td>This is Bella. Based on this picture she's at ...</td>\n",
       "      <td>NaN</td>\n",
       "      <td>NaN</td>\n",
       "      <td>NaN</td>\n",
       "      <td>https://twitter.com/dog_rates/status/703631701...</td>\n",
       "      <td>11</td>\n",
       "      <td>10</td>\n",
       "      <td>Bella</td>\n",
       "      <td></td>\n",
       "      <td>1559</td>\n",
       "      <td>4162</td>\n",
       "    </tr>\n",
       "    <tr>\n",
       "      <th>1082</th>\n",
       "      <td>738883359779196928</td>\n",
       "      <td>2016-06-04 00:01:35 +0000</td>\n",
       "      <td>&lt;a href=\"http://twitter.com/download/iphone\" r...</td>\n",
       "      <td>When a single soap orb changes your entire per...</td>\n",
       "      <td>NaN</td>\n",
       "      <td>NaN</td>\n",
       "      <td>NaN</td>\n",
       "      <td>https://twitter.com/dog_rates/status/738883359...</td>\n",
       "      <td>10</td>\n",
       "      <td>10</td>\n",
       "      <td>None</td>\n",
       "      <td></td>\n",
       "      <td>955</td>\n",
       "      <td>3599</td>\n",
       "    </tr>\n",
       "    <tr>\n",
       "      <th>271</th>\n",
       "      <td>841077006473256960</td>\n",
       "      <td>2017-03-13 00:02:39 +0000</td>\n",
       "      <td>&lt;a href=\"http://twitter.com/download/iphone\" r...</td>\n",
       "      <td>This is Dawn. She's just checking pup on you. ...</td>\n",
       "      <td>NaN</td>\n",
       "      <td>NaN</td>\n",
       "      <td>NaN</td>\n",
       "      <td>https://twitter.com/dog_rates/status/841077006...</td>\n",
       "      <td>12</td>\n",
       "      <td>10</td>\n",
       "      <td>Dawn</td>\n",
       "      <td></td>\n",
       "      <td>1972</td>\n",
       "      <td>0</td>\n",
       "    </tr>\n",
       "  </tbody>\n",
       "</table>\n",
       "</div>"
      ],
      "text/plain": [
       "                tweet_id                  timestamp  \\\n",
       "1015  747103485104099331  2016-06-26 16:25:26 +0000   \n",
       "221   849776966551130114  2017-04-06 00:13:11 +0000   \n",
       "1354  703631701117943808  2016-02-27 17:24:05 +0000   \n",
       "1082  738883359779196928  2016-06-04 00:01:35 +0000   \n",
       "271   841077006473256960  2017-03-13 00:02:39 +0000   \n",
       "\n",
       "                                                 source  \\\n",
       "1015  <a href=\"http://twitter.com/download/iphone\" r...   \n",
       "221   <a href=\"http://twitter.com/download/iphone\" r...   \n",
       "1354  <a href=\"http://twitter.com/download/iphone\" r...   \n",
       "1082  <a href=\"http://twitter.com/download/iphone\" r...   \n",
       "271   <a href=\"http://twitter.com/download/iphone\" r...   \n",
       "\n",
       "                                                   text  retweeted_status_id  \\\n",
       "1015  Guys... I said DOGS with \"shark qualities\" or ...                  NaN   \n",
       "221   Seriously guys? Again? We only rate dogs. Plea...                  NaN   \n",
       "1354  This is Bella. Based on this picture she's at ...                  NaN   \n",
       "1082  When a single soap orb changes your entire per...                  NaN   \n",
       "271   This is Dawn. She's just checking pup on you. ...                  NaN   \n",
       "\n",
       "      retweeted_status_user_id retweeted_status_timestamp  \\\n",
       "1015                       NaN                        NaN   \n",
       "221                        NaN                        NaN   \n",
       "1354                       NaN                        NaN   \n",
       "1082                       NaN                        NaN   \n",
       "271                        NaN                        NaN   \n",
       "\n",
       "                                          expanded_urls  rating_numerator  \\\n",
       "1015  https://twitter.com/dog_rates/status/747103485...                11   \n",
       "221   https://twitter.com/dog_rates/status/849776966...                12   \n",
       "1354  https://twitter.com/dog_rates/status/703631701...                11   \n",
       "1082  https://twitter.com/dog_rates/status/738883359...                10   \n",
       "271   https://twitter.com/dog_rates/status/841077006...                12   \n",
       "\n",
       "      rating_denominator   name dog_stages  retweets  likes_count  \n",
       "1015                  10   None                 2429         6593  \n",
       "221                   10   None                 5513            0  \n",
       "1354                  10  Bella                 1559         4162  \n",
       "1082                  10   None                  955         3599  \n",
       "271                   10   Dawn                 1972            0  "
      ]
     },
     "execution_count": 338,
     "metadata": {},
     "output_type": "execute_result"
    }
   ],
   "source": [
    "archive_comb.sample(5)"
   ]
  },
  {
   "cell_type": "markdown",
   "metadata": {},
   "source": [
    "#### Tidiness Issue 5: Image predictions has more rows than archive_comb "
   ]
  },
  {
   "cell_type": "markdown",
   "metadata": {},
   "source": [
    "#### Define\n",
    "Drop tweet_id rows in predictions dataset that are not tweet ids in archive_comb tweet_id column"
   ]
  },
  {
   "cell_type": "code",
   "execution_count": 341,
   "metadata": {},
   "outputs": [
    {
     "data": {
      "text/plain": [
       "(1896, 14)"
      ]
     },
     "execution_count": 341,
     "metadata": {},
     "output_type": "execute_result"
    }
   ],
   "source": [
    "archive_comb.shape"
   ]
  },
  {
   "cell_type": "code",
   "execution_count": 342,
   "metadata": {},
   "outputs": [
    {
     "data": {
      "text/html": [
       "<div>\n",
       "<style scoped>\n",
       "    .dataframe tbody tr th:only-of-type {\n",
       "        vertical-align: middle;\n",
       "    }\n",
       "\n",
       "    .dataframe tbody tr th {\n",
       "        vertical-align: top;\n",
       "    }\n",
       "\n",
       "    .dataframe thead th {\n",
       "        text-align: right;\n",
       "    }\n",
       "</style>\n",
       "<table border=\"1\" class=\"dataframe\">\n",
       "  <thead>\n",
       "    <tr style=\"text-align: right;\">\n",
       "      <th></th>\n",
       "      <th>tweet_id</th>\n",
       "      <th>timestamp</th>\n",
       "      <th>source</th>\n",
       "      <th>text</th>\n",
       "      <th>retweeted_status_id</th>\n",
       "      <th>retweeted_status_user_id</th>\n",
       "      <th>retweeted_status_timestamp</th>\n",
       "      <th>expanded_urls</th>\n",
       "      <th>rating_numerator</th>\n",
       "      <th>rating_denominator</th>\n",
       "      <th>name</th>\n",
       "      <th>dog_stages</th>\n",
       "      <th>retweets</th>\n",
       "      <th>likes_count</th>\n",
       "    </tr>\n",
       "  </thead>\n",
       "  <tbody>\n",
       "    <tr>\n",
       "      <th>0</th>\n",
       "      <td>892420643555336193</td>\n",
       "      <td>2017-08-01 16:23:56 +0000</td>\n",
       "      <td>&lt;a href=\"http://twitter.com/download/iphone\" r...</td>\n",
       "      <td>This is Phineas. He's a mystical boy. Only eve...</td>\n",
       "      <td>NaN</td>\n",
       "      <td>NaN</td>\n",
       "      <td>NaN</td>\n",
       "      <td>https://twitter.com/dog_rates/status/892420643...</td>\n",
       "      <td>13</td>\n",
       "      <td>10</td>\n",
       "      <td>Phineas</td>\n",
       "      <td></td>\n",
       "      <td>8853</td>\n",
       "      <td>39467</td>\n",
       "    </tr>\n",
       "  </tbody>\n",
       "</table>\n",
       "</div>"
      ],
      "text/plain": [
       "             tweet_id                  timestamp  \\\n",
       "0  892420643555336193  2017-08-01 16:23:56 +0000   \n",
       "\n",
       "                                              source  \\\n",
       "0  <a href=\"http://twitter.com/download/iphone\" r...   \n",
       "\n",
       "                                                text  retweeted_status_id  \\\n",
       "0  This is Phineas. He's a mystical boy. Only eve...                  NaN   \n",
       "\n",
       "   retweeted_status_user_id retweeted_status_timestamp  \\\n",
       "0                       NaN                        NaN   \n",
       "\n",
       "                                       expanded_urls  rating_numerator  \\\n",
       "0  https://twitter.com/dog_rates/status/892420643...                13   \n",
       "\n",
       "   rating_denominator     name dog_stages  retweets  likes_count  \n",
       "0                  10  Phineas                 8853        39467  "
      ]
     },
     "execution_count": 342,
     "metadata": {},
     "output_type": "execute_result"
    }
   ],
   "source": [
    "archive_comb.head(1)"
   ]
  },
  {
   "cell_type": "code",
   "execution_count": 343,
   "metadata": {},
   "outputs": [
    {
     "data": {
      "text/plain": [
       "(2075, 12)"
      ]
     },
     "execution_count": 343,
     "metadata": {},
     "output_type": "execute_result"
    }
   ],
   "source": [
    "predictions.shape"
   ]
  },
  {
   "cell_type": "markdown",
   "metadata": {},
   "source": [
    "#### Code"
   ]
  },
  {
   "cell_type": "code",
   "execution_count": 344,
   "metadata": {},
   "outputs": [],
   "source": [
    "# Create a dataframe only with tweet_ids from archive_comb table, and change name of column to tweet_id3\n",
    "ac_twid = pd.DataFrame(archive_comb[\"tweet_id\"])\n",
    "ac_twid = ac_twid.rename(columns={\"tweet_id\": \"tweet_id3\"})"
   ]
  },
  {
   "cell_type": "code",
   "execution_count": 345,
   "metadata": {},
   "outputs": [],
   "source": [
    "# Concatenate ac_twid and predictions with an inner join.\n",
    "predictions = pd.concat([predictions, ac_twid], axis=1, join=\"inner\")"
   ]
  },
  {
   "cell_type": "code",
   "execution_count": 346,
   "metadata": {},
   "outputs": [],
   "source": [
    "# Drop ac_twid (tweet_id3) data from predictions\n",
    "predictions.drop(\"tweet_id3\", axis=1, inplace=True)"
   ]
  },
  {
   "cell_type": "markdown",
   "metadata": {},
   "source": [
    "#### Test"
   ]
  },
  {
   "cell_type": "code",
   "execution_count": 347,
   "metadata": {
    "scrolled": true
   },
   "outputs": [
    {
     "data": {
      "text/plain": [
       "(1896, 12)"
      ]
     },
     "execution_count": 347,
     "metadata": {},
     "output_type": "execute_result"
    }
   ],
   "source": [
    "predictions.shape"
   ]
  },
  {
   "cell_type": "markdown",
   "metadata": {},
   "source": [
    "#### Columns retweeted_status_id, retweeted_status_user_id, or retweeted_status_timestamp should be dropped"
   ]
  },
  {
   "cell_type": "markdown",
   "metadata": {},
   "source": [
    "#### Define\n",
    "Drop columns retweeted_status_id, retweeted_status_user_id, or retweeted_status_timestamp"
   ]
  },
  {
   "cell_type": "markdown",
   "metadata": {},
   "source": [
    "#### Code"
   ]
  },
  {
   "cell_type": "code",
   "execution_count": 348,
   "metadata": {},
   "outputs": [],
   "source": [
    "# Drop columns\n",
    "archive_comb.drop(['retweeted_status_id', 'retweeted_status_user_id', 'retweeted_status_timestamp'], axis=1, inplace=True)"
   ]
  },
  {
   "cell_type": "markdown",
   "metadata": {},
   "source": [
    "#### Test"
   ]
  },
  {
   "cell_type": "code",
   "execution_count": 349,
   "metadata": {},
   "outputs": [
    {
     "data": {
      "text/html": [
       "<div>\n",
       "<style scoped>\n",
       "    .dataframe tbody tr th:only-of-type {\n",
       "        vertical-align: middle;\n",
       "    }\n",
       "\n",
       "    .dataframe tbody tr th {\n",
       "        vertical-align: top;\n",
       "    }\n",
       "\n",
       "    .dataframe thead th {\n",
       "        text-align: right;\n",
       "    }\n",
       "</style>\n",
       "<table border=\"1\" class=\"dataframe\">\n",
       "  <thead>\n",
       "    <tr style=\"text-align: right;\">\n",
       "      <th></th>\n",
       "      <th>tweet_id</th>\n",
       "      <th>timestamp</th>\n",
       "      <th>source</th>\n",
       "      <th>text</th>\n",
       "      <th>expanded_urls</th>\n",
       "      <th>rating_numerator</th>\n",
       "      <th>rating_denominator</th>\n",
       "      <th>name</th>\n",
       "      <th>dog_stages</th>\n",
       "      <th>retweets</th>\n",
       "      <th>likes_count</th>\n",
       "    </tr>\n",
       "  </thead>\n",
       "  <tbody>\n",
       "    <tr>\n",
       "      <th>0</th>\n",
       "      <td>892420643555336193</td>\n",
       "      <td>2017-08-01 16:23:56 +0000</td>\n",
       "      <td>&lt;a href=\"http://twitter.com/download/iphone\" r...</td>\n",
       "      <td>This is Phineas. He's a mystical boy. Only eve...</td>\n",
       "      <td>https://twitter.com/dog_rates/status/892420643...</td>\n",
       "      <td>13</td>\n",
       "      <td>10</td>\n",
       "      <td>Phineas</td>\n",
       "      <td></td>\n",
       "      <td>8853</td>\n",
       "      <td>39467</td>\n",
       "    </tr>\n",
       "  </tbody>\n",
       "</table>\n",
       "</div>"
      ],
      "text/plain": [
       "             tweet_id                  timestamp  \\\n",
       "0  892420643555336193  2017-08-01 16:23:56 +0000   \n",
       "\n",
       "                                              source  \\\n",
       "0  <a href=\"http://twitter.com/download/iphone\" r...   \n",
       "\n",
       "                                                text  \\\n",
       "0  This is Phineas. He's a mystical boy. Only eve...   \n",
       "\n",
       "                                       expanded_urls  rating_numerator  \\\n",
       "0  https://twitter.com/dog_rates/status/892420643...                13   \n",
       "\n",
       "   rating_denominator     name dog_stages  retweets  likes_count  \n",
       "0                  10  Phineas                 8853        39467  "
      ]
     },
     "execution_count": 349,
     "metadata": {},
     "output_type": "execute_result"
    }
   ],
   "source": [
    "archive_comb.head(1)"
   ]
  },
  {
   "cell_type": "code",
   "execution_count": 350,
   "metadata": {},
   "outputs": [
    {
     "data": {
      "text/plain": [
       "(1896, 11)"
      ]
     },
     "execution_count": 350,
     "metadata": {},
     "output_type": "execute_result"
    }
   ],
   "source": [
    "archive_comb.shape"
   ]
  },
  {
   "cell_type": "markdown",
   "metadata": {},
   "source": [
    "<a id='dirty'></a>\n",
    "### Data Quality Issues"
   ]
  },
  {
   "cell_type": "markdown",
   "metadata": {},
   "source": [
    "#### Quality Issue 4: In archive_comb (before, in archive), timestamp and retweeted_status_timestamp columns have object as data type instead of datetime\n",
    "#### Define\n",
    "Use to_datetime to change data type for timestamp and retweeted_status_timestamp columns"
   ]
  },
  {
   "cell_type": "markdown",
   "metadata": {},
   "source": [
    "#### Code"
   ]
  },
  {
   "cell_type": "code",
   "execution_count": 353,
   "metadata": {},
   "outputs": [],
   "source": [
    "# Change data type for timestamp column\n",
    "archive_comb[\"timestamp\"] =  pd.to_datetime(archive_comb[\"timestamp\"])"
   ]
  },
  {
   "cell_type": "markdown",
   "metadata": {},
   "source": [
    "#### Test"
   ]
  },
  {
   "cell_type": "code",
   "execution_count": 354,
   "metadata": {},
   "outputs": [
    {
     "name": "stdout",
     "output_type": "stream",
     "text": [
      "<class 'pandas.core.frame.DataFrame'>\n",
      "Int64Index: 1896 entries, 0 to 2074\n",
      "Data columns (total 11 columns):\n",
      " #   Column              Non-Null Count  Dtype              \n",
      "---  ------              --------------  -----              \n",
      " 0   tweet_id            1896 non-null   int64              \n",
      " 1   timestamp           1896 non-null   datetime64[ns, UTC]\n",
      " 2   source              1896 non-null   object             \n",
      " 3   text                1896 non-null   object             \n",
      " 4   expanded_urls       1841 non-null   object             \n",
      " 5   rating_numerator    1896 non-null   int64              \n",
      " 6   rating_denominator  1896 non-null   int64              \n",
      " 7   name                1896 non-null   object             \n",
      " 8   dog_stages          1896 non-null   object             \n",
      " 9   retweets            1896 non-null   int64              \n",
      " 10  likes_count         1896 non-null   int64              \n",
      "dtypes: datetime64[ns, UTC](1), int64(5), object(5)\n",
      "memory usage: 177.8+ KB\n"
     ]
    }
   ],
   "source": [
    "archive_comb.info()"
   ]
  },
  {
   "cell_type": "markdown",
   "metadata": {},
   "source": [
    "#### Quality Issue 5:  In archive_comb, missing values are not considered empty in the dog_stage column, but as blank values.\n",
    "#### Define\n",
    "Replace \"\" values in dog_stages column with np.nan, so they are actually considered as empty."
   ]
  },
  {
   "cell_type": "markdown",
   "metadata": {},
   "source": [
    "#### Code"
   ]
  },
  {
   "cell_type": "code",
   "execution_count": 355,
   "metadata": {},
   "outputs": [],
   "source": [
    "# Replace \"\" with np.nan in dog_stages column\n",
    "archive_comb[\"dog_stages\"] = archive_comb[\"dog_stages\"].replace(\"\", np.nan)"
   ]
  },
  {
   "cell_type": "markdown",
   "metadata": {},
   "source": [
    "#### Test"
   ]
  },
  {
   "cell_type": "code",
   "execution_count": 356,
   "metadata": {},
   "outputs": [
    {
     "data": {
      "text/plain": [
       "tweet_id                 0\n",
       "timestamp                0\n",
       "source                   0\n",
       "text                     0\n",
       "expanded_urls           55\n",
       "rating_numerator         0\n",
       "rating_denominator       0\n",
       "name                     0\n",
       "dog_stages            1552\n",
       "retweets                 0\n",
       "likes_count              0\n",
       "dtype: int64"
      ]
     },
     "execution_count": 356,
     "metadata": {},
     "output_type": "execute_result"
    }
   ],
   "source": [
    "archive_comb.isnull().sum()"
   ]
  },
  {
   "cell_type": "markdown",
   "metadata": {},
   "source": [
    "#### Quality Issue 6: In archive_comb, the dog_stages column has two dog stages for some tweets."
   ]
  },
  {
   "cell_type": "markdown",
   "metadata": {},
   "source": [
    "#### Define\n",
    "Replace dog_stage values that have 2 stages with \"multiple.\""
   ]
  },
  {
   "cell_type": "code",
   "execution_count": 357,
   "metadata": {},
   "outputs": [
    {
     "data": {
      "text/plain": [
       "pupper           224\n",
       "doggo             75\n",
       "puppo             24\n",
       "doggo,pupper      10\n",
       "floofer            9\n",
       "doggo,floofer      1\n",
       "doggo,puppo        1\n",
       "Name: dog_stages, dtype: int64"
      ]
     },
     "execution_count": 357,
     "metadata": {},
     "output_type": "execute_result"
    }
   ],
   "source": [
    "# Confirm double-dog-stage values\n",
    "archive_comb[\"dog_stages\"].value_counts()"
   ]
  },
  {
   "cell_type": "markdown",
   "metadata": {},
   "source": [
    "#### Code"
   ]
  },
  {
   "cell_type": "code",
   "execution_count": 358,
   "metadata": {},
   "outputs": [],
   "source": [
    "# Replace double-dog-stage values with \"multiple\"\n",
    "archive_comb[\"dog_stages\"] = archive_comb[\"dog_stages\"].replace([\"doggo,pupper\",\"doggo,puppo\",\"doggo,floofer\"], \"multiple\")"
   ]
  },
  {
   "cell_type": "markdown",
   "metadata": {},
   "source": [
    "#### Test"
   ]
  },
  {
   "cell_type": "code",
   "execution_count": 359,
   "metadata": {},
   "outputs": [
    {
     "data": {
      "text/plain": [
       "pupper      224\n",
       "doggo        75\n",
       "puppo        24\n",
       "multiple     12\n",
       "floofer       9\n",
       "Name: dog_stages, dtype: int64"
      ]
     },
     "execution_count": 359,
     "metadata": {},
     "output_type": "execute_result"
    }
   ],
   "source": [
    "archive_comb[\"dog_stages\"].value_counts()"
   ]
  },
  {
   "cell_type": "markdown",
   "metadata": {},
   "source": [
    "#### Quality Issue 7: Column names are unclear for whom has not gotten a previous explanation in predictions table"
   ]
  },
  {
   "cell_type": "markdown",
   "metadata": {},
   "source": [
    "#### Define\n",
    "Rename column names of predictions table for something clearer."
   ]
  },
  {
   "cell_type": "code",
   "execution_count": 360,
   "metadata": {
    "scrolled": true
   },
   "outputs": [
    {
     "data": {
      "text/plain": [
       "Index(['tweet_id', 'jpg_url', 'img_num', 'p1', 'p1_conf', 'p1_dog', 'p2',\n",
       "       'p2_conf', 'p2_dog', 'p3', 'p3_conf', 'p3_dog'],\n",
       "      dtype='object')"
      ]
     },
     "execution_count": 360,
     "metadata": {},
     "output_type": "execute_result"
    }
   ],
   "source": [
    "# Double-check previous column names\n",
    "predictions.columns"
   ]
  },
  {
   "cell_type": "markdown",
   "metadata": {},
   "source": [
    "#### Code"
   ]
  },
  {
   "cell_type": "code",
   "execution_count": 361,
   "metadata": {},
   "outputs": [],
   "source": [
    "# Rename columns\n",
    "predictions.rename(columns={\"jpg_url\":\"image_url\",\"img_num\":\"number_images\",\"p1\":\"prediction1\",\"p1_conf\":\"CI_prediction1\",\n",
    "                           \"p1_dog\":\"prediction1_is_dog\",\"p2\":\"prediction2\",\"p2_conf\":\"CI_prediction2\",\n",
    "                            \"p2_dog\":\"prediction2_is_dog\",\"p3\":\"prediction3\",\"p3_conf\":\"CI_prediction3\",\n",
    "                            \"p3_dog\":\"prediction3_is_dog\"}, inplace=True)"
   ]
  },
  {
   "cell_type": "markdown",
   "metadata": {},
   "source": [
    "#### Test"
   ]
  },
  {
   "cell_type": "code",
   "execution_count": 362,
   "metadata": {},
   "outputs": [
    {
     "data": {
      "text/plain": [
       "Index(['tweet_id', 'image_url', 'number_images', 'prediction1',\n",
       "       'CI_prediction1', 'prediction1_is_dog', 'prediction2', 'CI_prediction2',\n",
       "       'prediction2_is_dog', 'prediction3', 'CI_prediction3',\n",
       "       'prediction3_is_dog'],\n",
       "      dtype='object')"
      ]
     },
     "execution_count": 362,
     "metadata": {},
     "output_type": "execute_result"
    }
   ],
   "source": [
    "predictions.columns"
   ]
  },
  {
   "cell_type": "markdown",
   "metadata": {},
   "source": [
    "#### Quality Issue 8: Some predictions are capitalized and some are not in predictions table"
   ]
  },
  {
   "cell_type": "markdown",
   "metadata": {},
   "source": [
    "#### Define\n",
    "Lower-case all values in predictions."
   ]
  },
  {
   "cell_type": "markdown",
   "metadata": {},
   "source": [
    "#### Code"
   ]
  },
  {
   "cell_type": "code",
   "execution_count": 363,
   "metadata": {},
   "outputs": [],
   "source": [
    "# Lower-case all values in predicitons 1,2 and 3\n",
    "predictions[\"prediction1\"] = predictions[\"prediction1\"].str.lower()\n",
    "predictions[\"prediction2\"] = predictions[\"prediction2\"].str.lower()\n",
    "predictions[\"prediction3\"] = predictions[\"prediction3\"].str.lower()"
   ]
  },
  {
   "cell_type": "markdown",
   "metadata": {},
   "source": [
    "#### Test"
   ]
  },
  {
   "cell_type": "code",
   "execution_count": 364,
   "metadata": {},
   "outputs": [
    {
     "data": {
      "text/html": [
       "<div>\n",
       "<style scoped>\n",
       "    .dataframe tbody tr th:only-of-type {\n",
       "        vertical-align: middle;\n",
       "    }\n",
       "\n",
       "    .dataframe tbody tr th {\n",
       "        vertical-align: top;\n",
       "    }\n",
       "\n",
       "    .dataframe thead th {\n",
       "        text-align: right;\n",
       "    }\n",
       "</style>\n",
       "<table border=\"1\" class=\"dataframe\">\n",
       "  <thead>\n",
       "    <tr style=\"text-align: right;\">\n",
       "      <th></th>\n",
       "      <th>tweet_id</th>\n",
       "      <th>image_url</th>\n",
       "      <th>number_images</th>\n",
       "      <th>prediction1</th>\n",
       "      <th>CI_prediction1</th>\n",
       "      <th>prediction1_is_dog</th>\n",
       "      <th>prediction2</th>\n",
       "      <th>CI_prediction2</th>\n",
       "      <th>prediction2_is_dog</th>\n",
       "      <th>prediction3</th>\n",
       "      <th>CI_prediction3</th>\n",
       "      <th>prediction3_is_dog</th>\n",
       "    </tr>\n",
       "  </thead>\n",
       "  <tbody>\n",
       "    <tr>\n",
       "      <th>28</th>\n",
       "      <td>666407126856765440</td>\n",
       "      <td>https://pbs.twimg.com/media/CT-NvwmW4AAugGZ.jpg</td>\n",
       "      <td>1</td>\n",
       "      <td>black-and-tan_coonhound</td>\n",
       "      <td>0.529139</td>\n",
       "      <td>True</td>\n",
       "      <td>bloodhound</td>\n",
       "      <td>0.244220</td>\n",
       "      <td>True</td>\n",
       "      <td>flat-coated_retriever</td>\n",
       "      <td>0.173810</td>\n",
       "      <td>True</td>\n",
       "    </tr>\n",
       "    <tr>\n",
       "      <th>1332</th>\n",
       "      <td>757725642876129280</td>\n",
       "      <td>https://pbs.twimg.com/media/CoP7c4bWcAAr55g.jpg</td>\n",
       "      <td>2</td>\n",
       "      <td>seat_belt</td>\n",
       "      <td>0.425176</td>\n",
       "      <td>False</td>\n",
       "      <td>labrador_retriever</td>\n",
       "      <td>0.128128</td>\n",
       "      <td>True</td>\n",
       "      <td>siamese_cat</td>\n",
       "      <td>0.091241</td>\n",
       "      <td>False</td>\n",
       "    </tr>\n",
       "    <tr>\n",
       "      <th>470</th>\n",
       "      <td>675113801096802304</td>\n",
       "      <td>https://pbs.twimg.com/media/CV58a4nXAAApywo.jpg</td>\n",
       "      <td>1</td>\n",
       "      <td>bow</td>\n",
       "      <td>0.168020</td>\n",
       "      <td>False</td>\n",
       "      <td>quill</td>\n",
       "      <td>0.108807</td>\n",
       "      <td>False</td>\n",
       "      <td>joystick</td>\n",
       "      <td>0.043312</td>\n",
       "      <td>False</td>\n",
       "    </tr>\n",
       "    <tr>\n",
       "      <th>1280</th>\n",
       "      <td>750132105863102464</td>\n",
       "      <td>https://pbs.twimg.com/media/CmkBKuwWgAAamOI.jpg</td>\n",
       "      <td>1</td>\n",
       "      <td>toy_poodle</td>\n",
       "      <td>0.478018</td>\n",
       "      <td>True</td>\n",
       "      <td>miniature_poodle</td>\n",
       "      <td>0.207458</td>\n",
       "      <td>True</td>\n",
       "      <td>croquet_ball</td>\n",
       "      <td>0.085879</td>\n",
       "      <td>False</td>\n",
       "    </tr>\n",
       "    <tr>\n",
       "      <th>1650</th>\n",
       "      <td>809220051211603969</td>\n",
       "      <td>https://pbs.twimg.com/media/CzrtWDbWEAAmIhy.jpg</td>\n",
       "      <td>1</td>\n",
       "      <td>pomeranian</td>\n",
       "      <td>0.819511</td>\n",
       "      <td>True</td>\n",
       "      <td>samoyed</td>\n",
       "      <td>0.141241</td>\n",
       "      <td>True</td>\n",
       "      <td>pembroke</td>\n",
       "      <td>0.013455</td>\n",
       "      <td>True</td>\n",
       "    </tr>\n",
       "    <tr>\n",
       "      <th>1452</th>\n",
       "      <td>776813020089548800</td>\n",
       "      <td>https://pbs.twimg.com/media/CsfLUDbXEAAu0VF.jpg</td>\n",
       "      <td>1</td>\n",
       "      <td>toy_poodle</td>\n",
       "      <td>0.516610</td>\n",
       "      <td>True</td>\n",
       "      <td>miniature_poodle</td>\n",
       "      <td>0.255033</td>\n",
       "      <td>True</td>\n",
       "      <td>standard_poodle</td>\n",
       "      <td>0.168989</td>\n",
       "      <td>True</td>\n",
       "    </tr>\n",
       "    <tr>\n",
       "      <th>2011</th>\n",
       "      <td>879008229531029506</td>\n",
       "      <td>https://pbs.twimg.com/media/DDLdUrqXYAMOVzY.jpg</td>\n",
       "      <td>1</td>\n",
       "      <td>vizsla</td>\n",
       "      <td>0.960513</td>\n",
       "      <td>True</td>\n",
       "      <td>miniature_pinscher</td>\n",
       "      <td>0.009431</td>\n",
       "      <td>True</td>\n",
       "      <td>american_staffordshire_terrier</td>\n",
       "      <td>0.008711</td>\n",
       "      <td>True</td>\n",
       "    </tr>\n",
       "    <tr>\n",
       "      <th>1179</th>\n",
       "      <td>738156290900254721</td>\n",
       "      <td>https://pbs.twimg.com/media/Cj51Oj3VAAEVe4O.jpg</td>\n",
       "      <td>1</td>\n",
       "      <td>pug</td>\n",
       "      <td>0.751758</td>\n",
       "      <td>True</td>\n",
       "      <td>tub</td>\n",
       "      <td>0.110748</td>\n",
       "      <td>False</td>\n",
       "      <td>bathtub</td>\n",
       "      <td>0.104132</td>\n",
       "      <td>False</td>\n",
       "    </tr>\n",
       "    <tr>\n",
       "      <th>1068</th>\n",
       "      <td>715928423106027520</td>\n",
       "      <td>https://pbs.twimg.com/media/Ce99GhLW8AAHG38.jpg</td>\n",
       "      <td>1</td>\n",
       "      <td>pug</td>\n",
       "      <td>0.976685</td>\n",
       "      <td>True</td>\n",
       "      <td>french_bulldog</td>\n",
       "      <td>0.019663</td>\n",
       "      <td>True</td>\n",
       "      <td>bull_mastiff</td>\n",
       "      <td>0.002278</td>\n",
       "      <td>True</td>\n",
       "    </tr>\n",
       "    <tr>\n",
       "      <th>2031</th>\n",
       "      <td>883117836046086144</td>\n",
       "      <td>https://pbs.twimg.com/media/DEF2-_hXoAAs62q.jpg</td>\n",
       "      <td>2</td>\n",
       "      <td>golden_retriever</td>\n",
       "      <td>0.949562</td>\n",
       "      <td>True</td>\n",
       "      <td>labrador_retriever</td>\n",
       "      <td>0.045948</td>\n",
       "      <td>True</td>\n",
       "      <td>kuvasz</td>\n",
       "      <td>0.002471</td>\n",
       "      <td>True</td>\n",
       "    </tr>\n",
       "  </tbody>\n",
       "</table>\n",
       "</div>"
      ],
      "text/plain": [
       "                tweet_id                                        image_url  \\\n",
       "28    666407126856765440  https://pbs.twimg.com/media/CT-NvwmW4AAugGZ.jpg   \n",
       "1332  757725642876129280  https://pbs.twimg.com/media/CoP7c4bWcAAr55g.jpg   \n",
       "470   675113801096802304  https://pbs.twimg.com/media/CV58a4nXAAApywo.jpg   \n",
       "1280  750132105863102464  https://pbs.twimg.com/media/CmkBKuwWgAAamOI.jpg   \n",
       "1650  809220051211603969  https://pbs.twimg.com/media/CzrtWDbWEAAmIhy.jpg   \n",
       "1452  776813020089548800  https://pbs.twimg.com/media/CsfLUDbXEAAu0VF.jpg   \n",
       "2011  879008229531029506  https://pbs.twimg.com/media/DDLdUrqXYAMOVzY.jpg   \n",
       "1179  738156290900254721  https://pbs.twimg.com/media/Cj51Oj3VAAEVe4O.jpg   \n",
       "1068  715928423106027520  https://pbs.twimg.com/media/Ce99GhLW8AAHG38.jpg   \n",
       "2031  883117836046086144  https://pbs.twimg.com/media/DEF2-_hXoAAs62q.jpg   \n",
       "\n",
       "      number_images              prediction1  CI_prediction1  \\\n",
       "28                1  black-and-tan_coonhound        0.529139   \n",
       "1332              2                seat_belt        0.425176   \n",
       "470               1                      bow        0.168020   \n",
       "1280              1               toy_poodle        0.478018   \n",
       "1650              1               pomeranian        0.819511   \n",
       "1452              1               toy_poodle        0.516610   \n",
       "2011              1                   vizsla        0.960513   \n",
       "1179              1                      pug        0.751758   \n",
       "1068              1                      pug        0.976685   \n",
       "2031              2         golden_retriever        0.949562   \n",
       "\n",
       "      prediction1_is_dog         prediction2  CI_prediction2  \\\n",
       "28                  True          bloodhound        0.244220   \n",
       "1332               False  labrador_retriever        0.128128   \n",
       "470                False               quill        0.108807   \n",
       "1280                True    miniature_poodle        0.207458   \n",
       "1650                True             samoyed        0.141241   \n",
       "1452                True    miniature_poodle        0.255033   \n",
       "2011                True  miniature_pinscher        0.009431   \n",
       "1179                True                 tub        0.110748   \n",
       "1068                True      french_bulldog        0.019663   \n",
       "2031                True  labrador_retriever        0.045948   \n",
       "\n",
       "      prediction2_is_dog                     prediction3  CI_prediction3  \\\n",
       "28                  True           flat-coated_retriever        0.173810   \n",
       "1332                True                     siamese_cat        0.091241   \n",
       "470                False                        joystick        0.043312   \n",
       "1280                True                    croquet_ball        0.085879   \n",
       "1650                True                        pembroke        0.013455   \n",
       "1452                True                 standard_poodle        0.168989   \n",
       "2011                True  american_staffordshire_terrier        0.008711   \n",
       "1179               False                         bathtub        0.104132   \n",
       "1068                True                    bull_mastiff        0.002278   \n",
       "2031                True                          kuvasz        0.002471   \n",
       "\n",
       "      prediction3_is_dog  \n",
       "28                  True  \n",
       "1332               False  \n",
       "470                False  \n",
       "1280               False  \n",
       "1650                True  \n",
       "1452                True  \n",
       "2011                True  \n",
       "1179               False  \n",
       "1068                True  \n",
       "2031                True  "
      ]
     },
     "execution_count": 364,
     "metadata": {},
     "output_type": "execute_result"
    }
   ],
   "source": [
    "predictions.sample(10)"
   ]
  },
  {
   "cell_type": "markdown",
   "metadata": {},
   "source": [
    "#### Quality Issue 9: In archive_comb, 1 rating denominator is 0."
   ]
  },
  {
   "cell_type": "markdown",
   "metadata": {},
   "source": [
    "#### Define\n",
    "Extract correct rating from text."
   ]
  },
  {
   "cell_type": "markdown",
   "metadata": {},
   "source": [
    "#### Code"
   ]
  },
  {
   "cell_type": "code",
   "execution_count": 365,
   "metadata": {
    "scrolled": true
   },
   "outputs": [],
   "source": [
    "# Isolate row with 0 as rating_denominator\n",
    "with_zero = archive_comb.query(\"rating_denominator == 0\")"
   ]
  },
  {
   "cell_type": "code",
   "execution_count": 366,
   "metadata": {},
   "outputs": [
    {
     "data": {
      "text/html": [
       "<div>\n",
       "<style scoped>\n",
       "    .dataframe tbody tr th:only-of-type {\n",
       "        vertical-align: middle;\n",
       "    }\n",
       "\n",
       "    .dataframe tbody tr th {\n",
       "        vertical-align: top;\n",
       "    }\n",
       "\n",
       "    .dataframe thead th {\n",
       "        text-align: right;\n",
       "    }\n",
       "</style>\n",
       "<table border=\"1\" class=\"dataframe\">\n",
       "  <thead>\n",
       "    <tr style=\"text-align: right;\">\n",
       "      <th></th>\n",
       "      <th>0</th>\n",
       "    </tr>\n",
       "  </thead>\n",
       "  <tbody>\n",
       "    <tr>\n",
       "      <th>313</th>\n",
       "      <td>13/10</td>\n",
       "    </tr>\n",
       "  </tbody>\n",
       "</table>\n",
       "</div>"
      ],
      "text/plain": [
       "         0\n",
       "313  13/10"
      ]
     },
     "execution_count": 366,
     "metadata": {},
     "output_type": "execute_result"
    }
   ],
   "source": [
    "# Extract alternative rating\n",
    "with_zero[\"text\"].str.extract(r'(\\d\\d/10)')"
   ]
  },
  {
   "cell_type": "code",
   "execution_count": 367,
   "metadata": {},
   "outputs": [],
   "source": [
    "# Replace values in previous rating with new rating.\n",
    "archive_comb.replace({\"rating_numerator\":960}, 13, inplace=True)\n",
    "archive_comb.replace({\"rating_denominator\":0}, 10, inplace=True)"
   ]
  },
  {
   "cell_type": "markdown",
   "metadata": {},
   "source": [
    "#### Test"
   ]
  },
  {
   "cell_type": "code",
   "execution_count": 368,
   "metadata": {
    "scrolled": false
   },
   "outputs": [
    {
     "data": {
      "text/html": [
       "<div>\n",
       "<style scoped>\n",
       "    .dataframe tbody tr th:only-of-type {\n",
       "        vertical-align: middle;\n",
       "    }\n",
       "\n",
       "    .dataframe tbody tr th {\n",
       "        vertical-align: top;\n",
       "    }\n",
       "\n",
       "    .dataframe thead th {\n",
       "        text-align: right;\n",
       "    }\n",
       "</style>\n",
       "<table border=\"1\" class=\"dataframe\">\n",
       "  <thead>\n",
       "    <tr style=\"text-align: right;\">\n",
       "      <th></th>\n",
       "      <th>tweet_id</th>\n",
       "      <th>timestamp</th>\n",
       "      <th>source</th>\n",
       "      <th>text</th>\n",
       "      <th>expanded_urls</th>\n",
       "      <th>rating_numerator</th>\n",
       "      <th>rating_denominator</th>\n",
       "      <th>name</th>\n",
       "      <th>dog_stages</th>\n",
       "      <th>retweets</th>\n",
       "      <th>likes_count</th>\n",
       "    </tr>\n",
       "  </thead>\n",
       "  <tbody>\n",
       "  </tbody>\n",
       "</table>\n",
       "</div>"
      ],
      "text/plain": [
       "Empty DataFrame\n",
       "Columns: [tweet_id, timestamp, source, text, expanded_urls, rating_numerator, rating_denominator, name, dog_stages, retweets, likes_count]\n",
       "Index: []"
      ]
     },
     "execution_count": 368,
     "metadata": {},
     "output_type": "execute_result"
    }
   ],
   "source": [
    "archive_comb.query(\"rating_denominator == 0\")"
   ]
  },
  {
   "cell_type": "markdown",
   "metadata": {},
   "source": [
    "<a id='store'></a>\n",
    "## Storing the data"
   ]
  },
  {
   "cell_type": "code",
   "execution_count": 369,
   "metadata": {},
   "outputs": [],
   "source": [
    "# Export archive_comb dataframe as twitter_archive_master.csv\n",
    "archive_comb.to_csv(\"twitter_archive_master.csv\")"
   ]
  },
  {
   "cell_type": "code",
   "execution_count": 370,
   "metadata": {},
   "outputs": [],
   "source": [
    "# Export predictions dataframe as image_predictions.csv\n",
    "predictions.to_csv(\"image_predictions.csv\")"
   ]
  },
  {
   "cell_type": "markdown",
   "metadata": {},
   "source": [
    "<a id='analysis'></a>\n",
    "## Analyzing and visualizing the data"
   ]
  },
  {
   "cell_type": "markdown",
   "metadata": {},
   "source": [
    "#### Question 1: Do image ratings show any correlation with the time of the day in which these images are tweeted?"
   ]
  },
  {
   "cell_type": "code",
   "execution_count": 371,
   "metadata": {},
   "outputs": [],
   "source": [
    "# Create a function to label time in archive_comb. There are four buckets: morning, afternoon, evening and night. \n",
    "import datetime\n",
    "\n",
    "\n",
    "def label_time(row):\n",
    "    if row[\"timestamp\"].hour >= 6 and row[\"timestamp\"].hour < 12:\n",
    "        time =  \"morning\"\n",
    "    elif row[\"timestamp\"].hour >= 12 and row[\"timestamp\"].hour < 18:\n",
    "        time =  \"afternoon\"\n",
    "    elif row[\"timestamp\"].hour >= 18 and row[\"timestamp\"].hour < 24:\n",
    "        time = \"evening\"\n",
    "    elif row[\"timestamp\"].hour < 6:\n",
    "        time = \"evening\"\n",
    "    return time"
   ]
  },
  {
   "cell_type": "code",
   "execution_count": 372,
   "metadata": {},
   "outputs": [],
   "source": [
    "# Apply function label_time to archive_comb\n",
    "archive_comb[\"time_label\"] = archive_comb.apply(label_time, axis = 1)"
   ]
  },
  {
   "cell_type": "code",
   "execution_count": 373,
   "metadata": {
    "scrolled": true
   },
   "outputs": [
    {
     "data": {
      "text/html": [
       "<div>\n",
       "<style scoped>\n",
       "    .dataframe tbody tr th:only-of-type {\n",
       "        vertical-align: middle;\n",
       "    }\n",
       "\n",
       "    .dataframe tbody tr th {\n",
       "        vertical-align: top;\n",
       "    }\n",
       "\n",
       "    .dataframe thead th {\n",
       "        text-align: right;\n",
       "    }\n",
       "</style>\n",
       "<table border=\"1\" class=\"dataframe\">\n",
       "  <thead>\n",
       "    <tr style=\"text-align: right;\">\n",
       "      <th></th>\n",
       "      <th>tweet_id</th>\n",
       "      <th>timestamp</th>\n",
       "      <th>source</th>\n",
       "      <th>text</th>\n",
       "      <th>expanded_urls</th>\n",
       "      <th>rating_numerator</th>\n",
       "      <th>rating_denominator</th>\n",
       "      <th>name</th>\n",
       "      <th>dog_stages</th>\n",
       "      <th>retweets</th>\n",
       "      <th>likes_count</th>\n",
       "      <th>time_label</th>\n",
       "    </tr>\n",
       "  </thead>\n",
       "  <tbody>\n",
       "    <tr>\n",
       "      <th>0</th>\n",
       "      <td>892420643555336193</td>\n",
       "      <td>2017-08-01 16:23:56+00:00</td>\n",
       "      <td>&lt;a href=\"http://twitter.com/download/iphone\" r...</td>\n",
       "      <td>This is Phineas. He's a mystical boy. Only eve...</td>\n",
       "      <td>https://twitter.com/dog_rates/status/892420643...</td>\n",
       "      <td>13</td>\n",
       "      <td>10</td>\n",
       "      <td>Phineas</td>\n",
       "      <td>NaN</td>\n",
       "      <td>8853</td>\n",
       "      <td>39467</td>\n",
       "      <td>afternoon</td>\n",
       "    </tr>\n",
       "    <tr>\n",
       "      <th>1</th>\n",
       "      <td>892177421306343426</td>\n",
       "      <td>2017-08-01 00:17:27+00:00</td>\n",
       "      <td>&lt;a href=\"http://twitter.com/download/iphone\" r...</td>\n",
       "      <td>This is Tilly. She's just checking pup on you....</td>\n",
       "      <td>https://twitter.com/dog_rates/status/892177421...</td>\n",
       "      <td>13</td>\n",
       "      <td>10</td>\n",
       "      <td>Tilly</td>\n",
       "      <td>NaN</td>\n",
       "      <td>6514</td>\n",
       "      <td>33819</td>\n",
       "      <td>evening</td>\n",
       "    </tr>\n",
       "    <tr>\n",
       "      <th>2</th>\n",
       "      <td>891815181378084864</td>\n",
       "      <td>2017-07-31 00:18:03+00:00</td>\n",
       "      <td>&lt;a href=\"http://twitter.com/download/iphone\" r...</td>\n",
       "      <td>This is Archie. He is a rare Norwegian Pouncin...</td>\n",
       "      <td>https://twitter.com/dog_rates/status/891815181...</td>\n",
       "      <td>12</td>\n",
       "      <td>10</td>\n",
       "      <td>Archie</td>\n",
       "      <td>NaN</td>\n",
       "      <td>4328</td>\n",
       "      <td>25461</td>\n",
       "      <td>evening</td>\n",
       "    </tr>\n",
       "  </tbody>\n",
       "</table>\n",
       "</div>"
      ],
      "text/plain": [
       "             tweet_id                 timestamp  \\\n",
       "0  892420643555336193 2017-08-01 16:23:56+00:00   \n",
       "1  892177421306343426 2017-08-01 00:17:27+00:00   \n",
       "2  891815181378084864 2017-07-31 00:18:03+00:00   \n",
       "\n",
       "                                              source  \\\n",
       "0  <a href=\"http://twitter.com/download/iphone\" r...   \n",
       "1  <a href=\"http://twitter.com/download/iphone\" r...   \n",
       "2  <a href=\"http://twitter.com/download/iphone\" r...   \n",
       "\n",
       "                                                text  \\\n",
       "0  This is Phineas. He's a mystical boy. Only eve...   \n",
       "1  This is Tilly. She's just checking pup on you....   \n",
       "2  This is Archie. He is a rare Norwegian Pouncin...   \n",
       "\n",
       "                                       expanded_urls  rating_numerator  \\\n",
       "0  https://twitter.com/dog_rates/status/892420643...                13   \n",
       "1  https://twitter.com/dog_rates/status/892177421...                13   \n",
       "2  https://twitter.com/dog_rates/status/891815181...                12   \n",
       "\n",
       "   rating_denominator     name dog_stages  retweets  likes_count time_label  \n",
       "0                  10  Phineas        NaN      8853        39467  afternoon  \n",
       "1                  10    Tilly        NaN      6514        33819    evening  \n",
       "2                  10   Archie        NaN      4328        25461    evening  "
      ]
     },
     "execution_count": 373,
     "metadata": {},
     "output_type": "execute_result"
    }
   ],
   "source": [
    "# Confirm it worked (yes, it did!)\n",
    "archive_comb.head(3)"
   ]
  },
  {
   "cell_type": "code",
   "execution_count": 374,
   "metadata": {},
   "outputs": [],
   "source": [
    "# Assign decimal to each rating\n",
    "archive_comb[\"rating_decimal\"] = archive_comb[\"rating_numerator\"]/archive_comb[\"rating_denominator\"]"
   ]
  },
  {
   "cell_type": "code",
   "execution_count": 375,
   "metadata": {},
   "outputs": [
    {
     "data": {
      "text/html": [
       "<div>\n",
       "<style scoped>\n",
       "    .dataframe tbody tr th:only-of-type {\n",
       "        vertical-align: middle;\n",
       "    }\n",
       "\n",
       "    .dataframe tbody tr th {\n",
       "        vertical-align: top;\n",
       "    }\n",
       "\n",
       "    .dataframe thead th {\n",
       "        text-align: right;\n",
       "    }\n",
       "</style>\n",
       "<table border=\"1\" class=\"dataframe\">\n",
       "  <thead>\n",
       "    <tr style=\"text-align: right;\">\n",
       "      <th></th>\n",
       "      <th>tweet_id</th>\n",
       "      <th>timestamp</th>\n",
       "      <th>source</th>\n",
       "      <th>text</th>\n",
       "      <th>expanded_urls</th>\n",
       "      <th>rating_numerator</th>\n",
       "      <th>rating_denominator</th>\n",
       "      <th>name</th>\n",
       "      <th>dog_stages</th>\n",
       "      <th>retweets</th>\n",
       "      <th>likes_count</th>\n",
       "      <th>time_label</th>\n",
       "      <th>rating_decimal</th>\n",
       "    </tr>\n",
       "  </thead>\n",
       "  <tbody>\n",
       "    <tr>\n",
       "      <th>0</th>\n",
       "      <td>892420643555336193</td>\n",
       "      <td>2017-08-01 16:23:56+00:00</td>\n",
       "      <td>&lt;a href=\"http://twitter.com/download/iphone\" r...</td>\n",
       "      <td>This is Phineas. He's a mystical boy. Only eve...</td>\n",
       "      <td>https://twitter.com/dog_rates/status/892420643...</td>\n",
       "      <td>13</td>\n",
       "      <td>10</td>\n",
       "      <td>Phineas</td>\n",
       "      <td>NaN</td>\n",
       "      <td>8853</td>\n",
       "      <td>39467</td>\n",
       "      <td>afternoon</td>\n",
       "      <td>1.3</td>\n",
       "    </tr>\n",
       "    <tr>\n",
       "      <th>1</th>\n",
       "      <td>892177421306343426</td>\n",
       "      <td>2017-08-01 00:17:27+00:00</td>\n",
       "      <td>&lt;a href=\"http://twitter.com/download/iphone\" r...</td>\n",
       "      <td>This is Tilly. She's just checking pup on you....</td>\n",
       "      <td>https://twitter.com/dog_rates/status/892177421...</td>\n",
       "      <td>13</td>\n",
       "      <td>10</td>\n",
       "      <td>Tilly</td>\n",
       "      <td>NaN</td>\n",
       "      <td>6514</td>\n",
       "      <td>33819</td>\n",
       "      <td>evening</td>\n",
       "      <td>1.3</td>\n",
       "    </tr>\n",
       "    <tr>\n",
       "      <th>2</th>\n",
       "      <td>891815181378084864</td>\n",
       "      <td>2017-07-31 00:18:03+00:00</td>\n",
       "      <td>&lt;a href=\"http://twitter.com/download/iphone\" r...</td>\n",
       "      <td>This is Archie. He is a rare Norwegian Pouncin...</td>\n",
       "      <td>https://twitter.com/dog_rates/status/891815181...</td>\n",
       "      <td>12</td>\n",
       "      <td>10</td>\n",
       "      <td>Archie</td>\n",
       "      <td>NaN</td>\n",
       "      <td>4328</td>\n",
       "      <td>25461</td>\n",
       "      <td>evening</td>\n",
       "      <td>1.2</td>\n",
       "    </tr>\n",
       "  </tbody>\n",
       "</table>\n",
       "</div>"
      ],
      "text/plain": [
       "             tweet_id                 timestamp  \\\n",
       "0  892420643555336193 2017-08-01 16:23:56+00:00   \n",
       "1  892177421306343426 2017-08-01 00:17:27+00:00   \n",
       "2  891815181378084864 2017-07-31 00:18:03+00:00   \n",
       "\n",
       "                                              source  \\\n",
       "0  <a href=\"http://twitter.com/download/iphone\" r...   \n",
       "1  <a href=\"http://twitter.com/download/iphone\" r...   \n",
       "2  <a href=\"http://twitter.com/download/iphone\" r...   \n",
       "\n",
       "                                                text  \\\n",
       "0  This is Phineas. He's a mystical boy. Only eve...   \n",
       "1  This is Tilly. She's just checking pup on you....   \n",
       "2  This is Archie. He is a rare Norwegian Pouncin...   \n",
       "\n",
       "                                       expanded_urls  rating_numerator  \\\n",
       "0  https://twitter.com/dog_rates/status/892420643...                13   \n",
       "1  https://twitter.com/dog_rates/status/892177421...                13   \n",
       "2  https://twitter.com/dog_rates/status/891815181...                12   \n",
       "\n",
       "   rating_denominator     name dog_stages  retweets  likes_count time_label  \\\n",
       "0                  10  Phineas        NaN      8853        39467  afternoon   \n",
       "1                  10    Tilly        NaN      6514        33819    evening   \n",
       "2                  10   Archie        NaN      4328        25461    evening   \n",
       "\n",
       "   rating_decimal  \n",
       "0             1.3  \n",
       "1             1.3  \n",
       "2             1.2  "
      ]
     },
     "execution_count": 375,
     "metadata": {},
     "output_type": "execute_result"
    }
   ],
   "source": [
    "# Confirm it worked (yes, it did!)\n",
    "archive_comb.head(3)"
   ]
  },
  {
   "cell_type": "code",
   "execution_count": 376,
   "metadata": {},
   "outputs": [
    {
     "data": {
      "text/plain": [
       "evening      1426\n",
       "afternoon     466\n",
       "morning         4\n",
       "Name: time_label, dtype: int64"
      ]
     },
     "execution_count": 376,
     "metadata": {},
     "output_type": "execute_result"
    }
   ],
   "source": [
    "archive_comb[\"time_label\"].value_counts()"
   ]
  },
  {
   "cell_type": "code",
   "execution_count": 377,
   "metadata": {
    "scrolled": true
   },
   "outputs": [
    {
     "data": {
      "text/html": [
       "<div>\n",
       "<style scoped>\n",
       "    .dataframe tbody tr th:only-of-type {\n",
       "        vertical-align: middle;\n",
       "    }\n",
       "\n",
       "    .dataframe tbody tr th {\n",
       "        vertical-align: top;\n",
       "    }\n",
       "\n",
       "    .dataframe thead th {\n",
       "        text-align: right;\n",
       "    }\n",
       "</style>\n",
       "<table border=\"1\" class=\"dataframe\">\n",
       "  <thead>\n",
       "    <tr style=\"text-align: right;\">\n",
       "      <th></th>\n",
       "      <th>time_label</th>\n",
       "      <th>rating_decimal</th>\n",
       "    </tr>\n",
       "  </thead>\n",
       "  <tbody>\n",
       "    <tr>\n",
       "      <th>0</th>\n",
       "      <td>afternoon</td>\n",
       "      <td>1.504584</td>\n",
       "    </tr>\n",
       "    <tr>\n",
       "      <th>1</th>\n",
       "      <td>evening</td>\n",
       "      <td>1.196129</td>\n",
       "    </tr>\n",
       "    <tr>\n",
       "      <th>2</th>\n",
       "      <td>morning</td>\n",
       "      <td>1.262500</td>\n",
       "    </tr>\n",
       "  </tbody>\n",
       "</table>\n",
       "</div>"
      ],
      "text/plain": [
       "  time_label  rating_decimal\n",
       "0  afternoon        1.504584\n",
       "1    evening        1.196129\n",
       "2    morning        1.262500"
      ]
     },
     "execution_count": 377,
     "metadata": {},
     "output_type": "execute_result"
    }
   ],
   "source": [
    "# Check average ratings for each time label\n",
    "archive_comb.groupby([\"time_label\"], as_index = False)[\"rating_decimal\"].mean()"
   ]
  },
  {
   "cell_type": "markdown",
   "metadata": {},
   "source": [
    "No tweets between 00 am and 6 am, and almost none between 6 am and 12 pm. Most happen in the evening. Are these two groups of ratings significantly higher? (afternoon and evening)"
   ]
  },
  {
   "cell_type": "code",
   "execution_count": 378,
   "metadata": {},
   "outputs": [],
   "source": [
    "# Check for outliers below "
   ]
  },
  {
   "cell_type": "code",
   "execution_count": 379,
   "metadata": {},
   "outputs": [],
   "source": [
    "# Create two dataframes with the groupby rows for time_labels evening and afternoon\n",
    "aft_df = archive_comb.query(\"time_label == 'afternoon'\")\n",
    "ev_df = archive_comb.query(\"time_label == 'evening'\")"
   ]
  },
  {
   "cell_type": "code",
   "execution_count": 380,
   "metadata": {},
   "outputs": [],
   "source": [
    "# Transform dataframes into numpy arrays\n",
    "aft_array = aft_df[\"rating_decimal\"].to_numpy(dtype=float)\n",
    "ev_array = ev_df[\"rating_decimal\"].to_numpy(dtype=float)"
   ]
  },
  {
   "cell_type": "code",
   "execution_count": 381,
   "metadata": {
    "scrolled": true
   },
   "outputs": [
    {
     "data": {
      "image/png": "[encoded data removed]",
      "text/plain": [
       "<Figure size 432x288 with 1 Axes>"
      ]
     },
     "metadata": {
      "needs_background": "light"
     },
     "output_type": "display_data"
    }
   ],
   "source": [
    "plt.boxplot(aft_array);"
   ]
  },
  {
   "cell_type": "code",
   "execution_count": 382,
   "metadata": {
    "scrolled": false
   },
   "outputs": [
    {
     "data": {
      "image/png": "[encoded data removed]",
      "text/plain": [
       "<Figure size 432x288 with 1 Axes>"
      ]
     },
     "metadata": {
      "needs_background": "light"
     },
     "output_type": "display_data"
    }
   ],
   "source": [
    "plt.boxplot(ev_array);"
   ]
  },
  {
   "cell_type": "code",
   "execution_count": 383,
   "metadata": {},
   "outputs": [
    {
     "name": "stderr",
     "output_type": "stream",
     "text": [
      "/opt/anaconda3/lib/python3.7/site-packages/ipykernel_launcher.py:7: SettingWithCopyWarning: \n",
      "A value is trying to be set on a copy of a slice from a DataFrame.\n",
      "Try using .loc[row_indexer,col_indexer] = value instead\n",
      "\n",
      "See the caveats in the documentation: https://pandas.pydata.org/pandas-docs/stable/user_guide/indexing.html#returning-a-view-versus-a-copy\n",
      "  import sys\n"
     ]
    }
   ],
   "source": [
    "# Calculate outliers in rating_decimals in afternoon dataframe (aft_df)\n",
    "Q1 = aft_df[\"rating_decimal\"].quantile(0.25)\n",
    "Q3 = aft_df[\"rating_decimal\"].quantile(0.75)\n",
    "IQR = Q3 - Q1\n",
    "minimum = Q1 - (1.5 * IQR)\n",
    "maximum = Q3 + (1.5 * IQR)\n",
    "aft_df[\"rating_outlier\"] = False\n",
    "\n",
    "for index, row in aft_df.iterrows():\n",
    "    if row[\"rating_decimal\"] > maximum:\n",
    "        aft_df.at[index, \"rating_outlier\"] =  True"
   ]
  },
  {
   "cell_type": "code",
   "execution_count": 384,
   "metadata": {},
   "outputs": [],
   "source": [
    "# Delete outliers in afternoon dataframe\n",
    "aft_df = aft_df.query(\"rating_outlier == False\")"
   ]
  },
  {
   "cell_type": "code",
   "execution_count": 385,
   "metadata": {},
   "outputs": [
    {
     "name": "stderr",
     "output_type": "stream",
     "text": [
      "/opt/anaconda3/lib/python3.7/site-packages/ipykernel_launcher.py:7: SettingWithCopyWarning: \n",
      "A value is trying to be set on a copy of a slice from a DataFrame.\n",
      "Try using .loc[row_indexer,col_indexer] = value instead\n",
      "\n",
      "See the caveats in the documentation: https://pandas.pydata.org/pandas-docs/stable/user_guide/indexing.html#returning-a-view-versus-a-copy\n",
      "  import sys\n"
     ]
    }
   ],
   "source": [
    "# Calculate outliers in rating_decimals in evening dataframe (ev_df)\n",
    "Q1 = ev_df[\"rating_decimal\"].quantile(0.25)\n",
    "Q3 = ev_df[\"rating_decimal\"].quantile(0.75)\n",
    "IQR = Q3 - Q1\n",
    "minimum = Q1 - (1.5 * IQR)\n",
    "maximum = Q3 + (1.5 * IQR)\n",
    "ev_df[\"rating_outlier\"] = False\n",
    "\n",
    "for index, row in ev_df.iterrows():\n",
    "    if row[\"rating_decimal\"] > maximum:\n",
    "        ev_df.at[index, \"rating_outlier\"] =  True"
   ]
  },
  {
   "cell_type": "code",
   "execution_count": 386,
   "metadata": {},
   "outputs": [],
   "source": [
    "# Delete outliers in evening dataframe\n",
    "ev_df = ev_df.query(\"rating_outlier == False\")"
   ]
  },
  {
   "cell_type": "markdown",
   "metadata": {},
   "source": [
    "After discarding outliers, we establish our hypotheses:\n",
    "\n",
    ">$H_{0}$ = Rt_afternoon = Rt_evening\n",
    "\n",
    ">$H_{1}$ = Rt_afternoon ≠ Rt_evening"
   ]
  },
  {
   "cell_type": "code",
   "execution_count": 387,
   "metadata": {},
   "outputs": [
    {
     "data": {
      "text/plain": [
       "(1.1133401430030643, 1.0719488462607742)"
      ]
     },
     "execution_count": 387,
     "metadata": {},
     "output_type": "execute_result"
    }
   ],
   "source": [
    "# Calculate means for each rating_decimal column (in each dataframe)\n",
    "aft_df[\"rating_decimal\"].mean(), ev_df[\"rating_decimal\"].mean()"
   ]
  },
  {
   "cell_type": "code",
   "execution_count": 388,
   "metadata": {},
   "outputs": [],
   "source": [
    "# Convert dataframes with no outliers into array\n",
    "aft_array_no_out = aft_df[\"rating_decimal\"].to_numpy(dtype=float)\n",
    "ev_array_no_out = ev_df[\"rating_decimal\"].to_numpy(dtype=float)"
   ]
  },
  {
   "cell_type": "code",
   "execution_count": 389,
   "metadata": {},
   "outputs": [
    {
     "data": {
      "text/plain": [
       "Ttest_indResult(statistic=3.7440233641473544, pvalue=0.00018660244508241302)"
      ]
     },
     "execution_count": 389,
     "metadata": {},
     "output_type": "execute_result"
    }
   ],
   "source": [
    "# Calculate p-value for the difference between evening and afternoon ratings.\n",
    "from scipy.stats import ttest_ind\n",
    "\n",
    "ttest_ind(aft_array_no_out, ev_array_no_out)"
   ]
  },
  {
   "cell_type": "markdown",
   "metadata": {},
   "source": [
    "> According to the p-value in this test, we reject the Null Hypothesis. This means that the ratings posted in the afternoon are significantly higher that those posted in the evening."
   ]
  },
  {
   "cell_type": "markdown",
   "metadata": {},
   "source": [
    "#### Question 2: Which breeds have the highest confidence intervals for recognition?"
   ]
  },
  {
   "cell_type": "code",
   "execution_count": 390,
   "metadata": {
    "scrolled": true
   },
   "outputs": [],
   "source": [
    "# Discard all images that, according to the data, do not include dogs.\n",
    "pred_dogs = predictions.query(\"prediction1_is_dog == True\")"
   ]
  },
  {
   "cell_type": "code",
   "execution_count": 391,
   "metadata": {
    "scrolled": true
   },
   "outputs": [],
   "source": [
    "# Check average confidence interval for prediction1 (prediction with highest CI)\n",
    "means_pred = pred_dogs.groupby([\"prediction1\"], as_index = False)[\"CI_prediction1\"].mean().sort_values(\"CI_prediction1\", ascending=False)"
   ]
  },
  {
   "cell_type": "code",
   "execution_count": 392,
   "metadata": {},
   "outputs": [
    {
     "data": {
      "text/plain": [
       "0.5578105710452034"
      ]
     },
     "execution_count": 392,
     "metadata": {},
     "output_type": "execute_result"
    }
   ],
   "source": [
    "# Mean of all confidence intervals\n",
    "means_pred[\"CI_prediction1\"].mean()"
   ]
  },
  {
   "cell_type": "code",
   "execution_count": 393,
   "metadata": {},
   "outputs": [],
   "source": [
    "# Create dataframe only with high confidence predictions (upper 20% of predictions)\n",
    "high_ci = means_pred.query(\"CI_prediction1 >= 0.80\")"
   ]
  },
  {
   "cell_type": "code",
   "execution_count": 394,
   "metadata": {
    "scrolled": false
   },
   "outputs": [
    {
     "data": {
      "text/html": [
       "<div>\n",
       "<style scoped>\n",
       "    .dataframe tbody tr th:only-of-type {\n",
       "        vertical-align: middle;\n",
       "    }\n",
       "\n",
       "    .dataframe tbody tr th {\n",
       "        vertical-align: top;\n",
       "    }\n",
       "\n",
       "    .dataframe thead th {\n",
       "        text-align: right;\n",
       "    }\n",
       "</style>\n",
       "<table border=\"1\" class=\"dataframe\">\n",
       "  <thead>\n",
       "    <tr style=\"text-align: right;\">\n",
       "      <th></th>\n",
       "      <th>prediction1</th>\n",
       "      <th>CI_prediction1</th>\n",
       "    </tr>\n",
       "  </thead>\n",
       "  <tbody>\n",
       "    <tr>\n",
       "      <th>56</th>\n",
       "      <td>komondor</td>\n",
       "      <td>0.972531</td>\n",
       "    </tr>\n",
       "    <tr>\n",
       "      <th>54</th>\n",
       "      <td>keeshond</td>\n",
       "      <td>0.956258</td>\n",
       "    </tr>\n",
       "    <tr>\n",
       "      <th>28</th>\n",
       "      <td>clumber</td>\n",
       "      <td>0.946718</td>\n",
       "    </tr>\n",
       "    <tr>\n",
       "      <th>21</th>\n",
       "      <td>brittany_spaniel</td>\n",
       "      <td>0.882231</td>\n",
       "    </tr>\n",
       "    <tr>\n",
       "      <th>22</th>\n",
       "      <td>bull_mastiff</td>\n",
       "      <td>0.815618</td>\n",
       "    </tr>\n",
       "    <tr>\n",
       "      <th>9</th>\n",
       "      <td>bernese_mountain_dog</td>\n",
       "      <td>0.801816</td>\n",
       "    </tr>\n",
       "  </tbody>\n",
       "</table>\n",
       "</div>"
      ],
      "text/plain": [
       "             prediction1  CI_prediction1\n",
       "56              komondor        0.972531\n",
       "54              keeshond        0.956258\n",
       "28               clumber        0.946718\n",
       "21      brittany_spaniel        0.882231\n",
       "22          bull_mastiff        0.815618\n",
       "9   bernese_mountain_dog        0.801816"
      ]
     },
     "execution_count": 394,
     "metadata": {},
     "output_type": "execute_result"
    }
   ],
   "source": [
    "high_ci"
   ]
  },
  {
   "cell_type": "code",
   "execution_count": 395,
   "metadata": {},
   "outputs": [
    {
     "data": {
      "text/html": [
       "<div>\n",
       "<style scoped>\n",
       "    .dataframe tbody tr th:only-of-type {\n",
       "        vertical-align: middle;\n",
       "    }\n",
       "\n",
       "    .dataframe tbody tr th {\n",
       "        vertical-align: top;\n",
       "    }\n",
       "\n",
       "    .dataframe thead th {\n",
       "        text-align: right;\n",
       "    }\n",
       "</style>\n",
       "<table border=\"1\" class=\"dataframe\">\n",
       "  <thead>\n",
       "    <tr style=\"text-align: right;\">\n",
       "      <th></th>\n",
       "      <th>prediction1</th>\n",
       "      <th>CI_prediction1</th>\n",
       "    </tr>\n",
       "  </thead>\n",
       "  <tbody>\n",
       "    <tr>\n",
       "      <th>87</th>\n",
       "      <td>scottish_deerhound</td>\n",
       "      <td>0.111893</td>\n",
       "    </tr>\n",
       "  </tbody>\n",
       "</table>\n",
       "</div>"
      ],
      "text/plain": [
       "           prediction1  CI_prediction1\n",
       "87  scottish_deerhound        0.111893"
      ]
     },
     "execution_count": 395,
     "metadata": {},
     "output_type": "execute_result"
    }
   ],
   "source": [
    "# Check out dataframe only with low confidence predictions (lower 20% of predictions)\n",
    "means_pred.query(\"CI_prediction1 <= 0.20\")"
   ]
  },
  {
   "cell_type": "code",
   "execution_count": 396,
   "metadata": {},
   "outputs": [
    {
     "data": {
      "text/html": [
       "<div style='column-count: 2;'><p>.Aqua Kana: <span style='font-family:.Aqua Kana; font-size: 24px;'>.Aqua Kana</p>\n",
       "<p>.Arabic UI Display: <span style='font-family:.Arabic UI Display; font-size: 24px;'>.Arabic UI Display</p>\n",
       "<p>.Arabic UI Text: <span style='font-family:.Arabic UI Text; font-size: 24px;'>.Arabic UI Text</p>\n",
       "<p>.Helvetica Neue DeskInterface: <span style='font-family:.Helvetica Neue DeskInterface; font-size: 24px;'>.Helvetica Neue DeskInterface</p>\n",
       "<p>.Keyboard: <span style='font-family:.Keyboard; font-size: 24px;'>.Keyboard</p>\n",
       "<p>.New York: <span style='font-family:.New York; font-size: 24px;'>.New York</p>\n",
       "<p>.SF Compact Display: <span style='font-family:.SF Compact Display; font-size: 24px;'>.SF Compact Display</p>\n",
       "<p>.SF Compact Rounded: <span style='font-family:.SF Compact Rounded; font-size: 24px;'>.SF Compact Rounded</p>\n",
       "<p>.SF Compact Text: <span style='font-family:.SF Compact Text; font-size: 24px;'>.SF Compact Text</p>\n",
       "<p>.SF NS Display Condensed: <span style='font-family:.SF NS Display Condensed; font-size: 24px;'>.SF NS Display Condensed</p>\n",
       "<p>.SF NS Mono: <span style='font-family:.SF NS Mono; font-size: 24px;'>.SF NS Mono</p>\n",
       "<p>.SF NS Rounded: <span style='font-family:.SF NS Rounded; font-size: 24px;'>.SF NS Rounded</p>\n",
       "<p>.SF NS Text Condensed: <span style='font-family:.SF NS Text Condensed; font-size: 24px;'>.SF NS Text Condensed</p>\n",
       "<p>Al Bayan: <span style='font-family:Al Bayan; font-size: 24px;'>Al Bayan</p>\n",
       "<p>Al Nile: <span style='font-family:Al Nile; font-size: 24px;'>Al Nile</p>\n",
       "<p>Al Tarikh: <span style='font-family:Al Tarikh; font-size: 24px;'>Al Tarikh</p>\n",
       "<p>Amaranth: <span style='font-family:Amaranth; font-size: 24px;'>Amaranth</p>\n",
       "<p>American Typewriter: <span style='font-family:American Typewriter; font-size: 24px;'>American Typewriter</p>\n",
       "<p>Andale Mono: <span style='font-family:Andale Mono; font-size: 24px;'>Andale Mono</p>\n",
       "<p>Apple Braille: <span style='font-family:Apple Braille; font-size: 24px;'>Apple Braille</p>\n",
       "<p>Apple Chancery: <span style='font-family:Apple Chancery; font-size: 24px;'>Apple Chancery</p>\n",
       "<p>Apple SD Gothic Neo: <span style='font-family:Apple SD Gothic Neo; font-size: 24px;'>Apple SD Gothic Neo</p>\n",
       "<p>Apple Symbols: <span style='font-family:Apple Symbols; font-size: 24px;'>Apple Symbols</p>\n",
       "<p>AppleGothic: <span style='font-family:AppleGothic; font-size: 24px;'>AppleGothic</p>\n",
       "<p>AppleMyungjo: <span style='font-family:AppleMyungjo; font-size: 24px;'>AppleMyungjo</p>\n",
       "<p>Arial: <span style='font-family:Arial; font-size: 24px;'>Arial</p>\n",
       "<p>Arial Black: <span style='font-family:Arial Black; font-size: 24px;'>Arial Black</p>\n",
       "<p>Arial Hebrew: <span style='font-family:Arial Hebrew; font-size: 24px;'>Arial Hebrew</p>\n",
       "<p>Arial Narrow: <span style='font-family:Arial Narrow; font-size: 24px;'>Arial Narrow</p>\n",
       "<p>Arial Rounded MT Bold: <span style='font-family:Arial Rounded MT Bold; font-size: 24px;'>Arial Rounded MT Bold</p>\n",
       "<p>Arial Unicode MS: <span style='font-family:Arial Unicode MS; font-size: 24px;'>Arial Unicode MS</p>\n",
       "<p>Athelas: <span style='font-family:Athelas; font-size: 24px;'>Athelas</p>\n",
       "<p>Avenir: <span style='font-family:Avenir; font-size: 24px;'>Avenir</p>\n",
       "<p>Avenir Next: <span style='font-family:Avenir Next; font-size: 24px;'>Avenir Next</p>\n",
       "<p>Avenir Next Condensed: <span style='font-family:Avenir Next Condensed; font-size: 24px;'>Avenir Next Condensed</p>\n",
       "<p>Ayuthaya: <span style='font-family:Ayuthaya; font-size: 24px;'>Ayuthaya</p>\n",
       "<p>Baghdad: <span style='font-family:Baghdad; font-size: 24px;'>Baghdad</p>\n",
       "<p>Bangla MN: <span style='font-family:Bangla MN; font-size: 24px;'>Bangla MN</p>\n",
       "<p>Bangla Sangam MN: <span style='font-family:Bangla Sangam MN; font-size: 24px;'>Bangla Sangam MN</p>\n",
       "<p>Baskerville: <span style='font-family:Baskerville; font-size: 24px;'>Baskerville</p>\n",
       "<p>Batang: <span style='font-family:Batang; font-size: 24px;'>Batang</p>\n",
       "<p>Beirut: <span style='font-family:Beirut; font-size: 24px;'>Beirut</p>\n",
       "<p>Bickham Script MM: <span style='font-family:Bickham Script MM; font-size: 24px;'>Bickham Script MM</p>\n",
       "<p>Bickham Script MM End: <span style='font-family:Bickham Script MM End; font-size: 24px;'>Bickham Script MM End</p>\n",
       "<p>Big Caslon: <span style='font-family:Big Caslon; font-size: 24px;'>Big Caslon</p>\n",
       "<p>Bitstream Vera Sans: <span style='font-family:Bitstream Vera Sans; font-size: 24px;'>Bitstream Vera Sans</p>\n",
       "<p>Bitstream Vera Sans Mono: <span style='font-family:Bitstream Vera Sans Mono; font-size: 24px;'>Bitstream Vera Sans Mono</p>\n",
       "<p>Bitstream Vera Serif: <span style='font-family:Bitstream Vera Serif; font-size: 24px;'>Bitstream Vera Serif</p>\n",
       "<p>Bodoni 72: <span style='font-family:Bodoni 72; font-size: 24px;'>Bodoni 72</p>\n",
       "<p>Bodoni 72 Oldstyle: <span style='font-family:Bodoni 72 Oldstyle; font-size: 24px;'>Bodoni 72 Oldstyle</p>\n",
       "<p>Bodoni 72 Smallcaps: <span style='font-family:Bodoni 72 Smallcaps; font-size: 24px;'>Bodoni 72 Smallcaps</p>\n",
       "<p>Bodoni Ornaments: <span style='font-family:Bodoni Ornaments; font-size: 24px;'>Bodoni Ornaments</p>\n",
       "<p>Bookshelf Symbol 7: <span style='font-family:Bookshelf Symbol 7; font-size: 24px;'>Bookshelf Symbol 7</p>\n",
       "<p>Bradley Hand: <span style='font-family:Bradley Hand; font-size: 24px;'>Bradley Hand</p>\n",
       "<p>Brandon Grotesque: <span style='font-family:Brandon Grotesque; font-size: 24px;'>Brandon Grotesque</p>\n",
       "<p>Brush Script MT: <span style='font-family:Brush Script MT; font-size: 24px;'>Brush Script MT</p>\n",
       "<p>Calibri: <span style='font-family:Calibri; font-size: 24px;'>Calibri</p>\n",
       "<p>Cambria: <span style='font-family:Cambria; font-size: 24px;'>Cambria</p>\n",
       "<p>Cambria Math: <span style='font-family:Cambria Math; font-size: 24px;'>Cambria Math</p>\n",
       "<p>Candara: <span style='font-family:Candara; font-size: 24px;'>Candara</p>\n",
       "<p>Chalkboard: <span style='font-family:Chalkboard; font-size: 24px;'>Chalkboard</p>\n",
       "<p>Chalkboard SE: <span style='font-family:Chalkboard SE; font-size: 24px;'>Chalkboard SE</p>\n",
       "<p>Chalkduster: <span style='font-family:Chalkduster; font-size: 24px;'>Chalkduster</p>\n",
       "<p>Charis SIL: <span style='font-family:Charis SIL; font-size: 24px;'>Charis SIL</p>\n",
       "<p>Charter: <span style='font-family:Charter; font-size: 24px;'>Charter</p>\n",
       "<p>Cochin: <span style='font-family:Cochin; font-size: 24px;'>Cochin</p>\n",
       "<p>Comic Sans MS: <span style='font-family:Comic Sans MS; font-size: 24px;'>Comic Sans MS</p>\n",
       "<p>Consolas: <span style='font-family:Consolas; font-size: 24px;'>Consolas</p>\n",
       "<p>Constantia: <span style='font-family:Constantia; font-size: 24px;'>Constantia</p>\n",
       "<p>Copperplate: <span style='font-family:Copperplate; font-size: 24px;'>Copperplate</p>\n",
       "<p>Corbel: <span style='font-family:Corbel; font-size: 24px;'>Corbel</p>\n",
       "<p>Corsiva Hebrew: <span style='font-family:Corsiva Hebrew; font-size: 24px;'>Corsiva Hebrew</p>\n",
       "<p>Courier New: <span style='font-family:Courier New; font-size: 24px;'>Courier New</p>\n",
       "<p>DIN Alternate: <span style='font-family:DIN Alternate; font-size: 24px;'>DIN Alternate</p>\n",
       "<p>DIN Condensed: <span style='font-family:DIN Condensed; font-size: 24px;'>DIN Condensed</p>\n",
       "<p>Damascus: <span style='font-family:Damascus; font-size: 24px;'>Damascus</p>\n",
       "<p>DecoType Naskh: <span style='font-family:DecoType Naskh; font-size: 24px;'>DecoType Naskh</p>\n",
       "<p>DejaVu Sans: <span style='font-family:DejaVu Sans; font-size: 24px;'>DejaVu Sans</p>\n",
       "<p>DejaVu Sans Display: <span style='font-family:DejaVu Sans Display; font-size: 24px;'>DejaVu Sans Display</p>\n",
       "<p>DejaVu Sans Mono: <span style='font-family:DejaVu Sans Mono; font-size: 24px;'>DejaVu Sans Mono</p>\n",
       "<p>DejaVu Serif: <span style='font-family:DejaVu Serif; font-size: 24px;'>DejaVu Serif</p>\n",
       "<p>DejaVu Serif Display: <span style='font-family:DejaVu Serif Display; font-size: 24px;'>DejaVu Serif Display</p>\n",
       "<p>Devanagari MT: <span style='font-family:Devanagari MT; font-size: 24px;'>Devanagari MT</p>\n",
       "<p>Devanagari Sangam MN: <span style='font-family:Devanagari Sangam MN; font-size: 24px;'>Devanagari Sangam MN</p>\n",
       "<p>Didot: <span style='font-family:Didot; font-size: 24px;'>Didot</p>\n",
       "<p>Diwan Kufi: <span style='font-family:Diwan Kufi; font-size: 24px;'>Diwan Kufi</p>\n",
       "<p>Diwan Thuluth: <span style='font-family:Diwan Thuluth; font-size: 24px;'>Diwan Thuluth</p>\n",
       "<p>East Syriac Adiabene: <span style='font-family:East Syriac Adiabene; font-size: 24px;'>East Syriac Adiabene</p>\n",
       "<p>East Syriac Ctesiphon: <span style='font-family:East Syriac Ctesiphon; font-size: 24px;'>East Syriac Ctesiphon</p>\n",
       "<p>Estrangelo Antioch: <span style='font-family:Estrangelo Antioch; font-size: 24px;'>Estrangelo Antioch</p>\n",
       "<p>Estrangelo Edessa: <span style='font-family:Estrangelo Edessa; font-size: 24px;'>Estrangelo Edessa</p>\n",
       "<p>Estrangelo Midyat: <span style='font-family:Estrangelo Midyat; font-size: 24px;'>Estrangelo Midyat</p>\n",
       "<p>Estrangelo Nisibin: <span style='font-family:Estrangelo Nisibin; font-size: 24px;'>Estrangelo Nisibin</p>\n",
       "<p>Estrangelo Nisibin Outline: <span style='font-family:Estrangelo Nisibin Outline; font-size: 24px;'>Estrangelo Nisibin Outline</p>\n",
       "<p>Estrangelo Quenneshrin: <span style='font-family:Estrangelo Quenneshrin; font-size: 24px;'>Estrangelo Quenneshrin</p>\n",
       "<p>Estrangelo Talada: <span style='font-family:Estrangelo Talada; font-size: 24px;'>Estrangelo Talada</p>\n",
       "<p>Estrangelo TurAbdin: <span style='font-family:Estrangelo TurAbdin; font-size: 24px;'>Estrangelo TurAbdin</p>\n",
       "<p>Euphemia UCAS: <span style='font-family:Euphemia UCAS; font-size: 24px;'>Euphemia UCAS</p>\n",
       "<p>Farah: <span style='font-family:Farah; font-size: 24px;'>Farah</p>\n",
       "<p>Farisi: <span style='font-family:Farisi; font-size: 24px;'>Farisi</p>\n",
       "<p>Fira Code: <span style='font-family:Fira Code; font-size: 24px;'>Fira Code</p>\n",
       "<p>Franklin Gothic Book: <span style='font-family:Franklin Gothic Book; font-size: 24px;'>Franklin Gothic Book</p>\n",
       "<p>Franklin Gothic Medium: <span style='font-family:Franklin Gothic Medium; font-size: 24px;'>Franklin Gothic Medium</p>\n",
       "<p>Futura: <span style='font-family:Futura; font-size: 24px;'>Futura</p>\n",
       "<p>Gabriola: <span style='font-family:Gabriola; font-size: 24px;'>Gabriola</p>\n",
       "<p>Galvji: <span style='font-family:Galvji; font-size: 24px;'>Galvji</p>\n",
       "<p>Geeza Pro: <span style='font-family:Geeza Pro; font-size: 24px;'>Geeza Pro</p>\n",
       "<p>Georgia: <span style='font-family:Georgia; font-size: 24px;'>Georgia</p>\n",
       "<p>Gill Sans: <span style='font-family:Gill Sans; font-size: 24px;'>Gill Sans</p>\n",
       "<p>Gill Sans MT: <span style='font-family:Gill Sans MT; font-size: 24px;'>Gill Sans MT</p>\n",
       "<p>Goha-Tibeb Zemen: <span style='font-family:Goha-Tibeb Zemen; font-size: 24px;'>Goha-Tibeb Zemen</p>\n",
       "<p>Gotham Book: <span style='font-family:Gotham Book; font-size: 24px;'>Gotham Book</p>\n",
       "<p>Gujarati MT: <span style='font-family:Gujarati MT; font-size: 24px;'>Gujarati MT</p>\n",
       "<p>Gujarati Sangam MN: <span style='font-family:Gujarati Sangam MN; font-size: 24px;'>Gujarati Sangam MN</p>\n",
       "<p>Gulim: <span style='font-family:Gulim; font-size: 24px;'>Gulim</p>\n",
       "<p>Gurmukhi MN: <span style='font-family:Gurmukhi MN; font-size: 24px;'>Gurmukhi MN</p>\n",
       "<p>Gurmukhi MT: <span style='font-family:Gurmukhi MT; font-size: 24px;'>Gurmukhi MT</p>\n",
       "<p>Gurmukhi Sangam MN: <span style='font-family:Gurmukhi Sangam MN; font-size: 24px;'>Gurmukhi Sangam MN</p>\n",
       "<p>Heiti TC: <span style='font-family:Heiti TC; font-size: 24px;'>Heiti TC</p>\n",
       "<p>Helvetica: <span style='font-family:Helvetica; font-size: 24px;'>Helvetica</p>\n",
       "<p>Helvetica Neue: <span style='font-family:Helvetica Neue; font-size: 24px;'>Helvetica Neue</p>\n",
       "<p>Herculanum: <span style='font-family:Herculanum; font-size: 24px;'>Herculanum</p>\n",
       "<p>Hiragino Maru Gothic Pro: <span style='font-family:Hiragino Maru Gothic Pro; font-size: 24px;'>Hiragino Maru Gothic Pro</p>\n",
       "<p>Hiragino Mincho ProN: <span style='font-family:Hiragino Mincho ProN; font-size: 24px;'>Hiragino Mincho ProN</p>\n",
       "<p>Hiragino Sans: <span style='font-family:Hiragino Sans; font-size: 24px;'>Hiragino Sans</p>\n",
       "<p>Hiragino Sans GB: <span style='font-family:Hiragino Sans GB; font-size: 24px;'>Hiragino Sans GB</p>\n",
       "<p>Hoefler Text: <span style='font-family:Hoefler Text; font-size: 24px;'>Hoefler Text</p>\n",
       "<p>ITF Devanagari: <span style='font-family:ITF Devanagari; font-size: 24px;'>ITF Devanagari</p>\n",
       "<p>Impact: <span style='font-family:Impact; font-size: 24px;'>Impact</p>\n",
       "<p>InaiMathi: <span style='font-family:InaiMathi; font-size: 24px;'>InaiMathi</p>\n",
       "<p>Iowan Old Style: <span style='font-family:Iowan Old Style; font-size: 24px;'>Iowan Old Style</p>\n",
       "<p>Journal: <span style='font-family:Journal; font-size: 24px;'>Journal</p>\n",
       "<p>Kailasa: <span style='font-family:Kailasa; font-size: 24px;'>Kailasa</p>\n",
       "<p>Kannada MN: <span style='font-family:Kannada MN; font-size: 24px;'>Kannada MN</p>\n",
       "<p>Kannada Sangam MN: <span style='font-family:Kannada Sangam MN; font-size: 24px;'>Kannada Sangam MN</p>\n",
       "<p>Kefa: <span style='font-family:Kefa; font-size: 24px;'>Kefa</p>\n",
       "<p>Khmer MN: <span style='font-family:Khmer MN; font-size: 24px;'>Khmer MN</p>\n",
       "<p>Khmer Sangam MN: <span style='font-family:Khmer Sangam MN; font-size: 24px;'>Khmer Sangam MN</p>\n",
       "<p>Kohinoor Bangla: <span style='font-family:Kohinoor Bangla; font-size: 24px;'>Kohinoor Bangla</p>\n",
       "<p>Kohinoor Devanagari: <span style='font-family:Kohinoor Devanagari; font-size: 24px;'>Kohinoor Devanagari</p>\n",
       "<p>Kohinoor Gujarati: <span style='font-family:Kohinoor Gujarati; font-size: 24px;'>Kohinoor Gujarati</p>\n",
       "<p>Kohinoor Telugu: <span style='font-family:Kohinoor Telugu; font-size: 24px;'>Kohinoor Telugu</p>\n",
       "<p>Kokonor: <span style='font-family:Kokonor; font-size: 24px;'>Kokonor</p>\n",
       "<p>Krungthep: <span style='font-family:Krungthep; font-size: 24px;'>Krungthep</p>\n",
       "<p>KufiStandardGK: <span style='font-family:KufiStandardGK; font-size: 24px;'>KufiStandardGK</p>\n",
       "<p>Lao MN: <span style='font-family:Lao MN; font-size: 24px;'>Lao MN</p>\n",
       "<p>Lao Sangam MN: <span style='font-family:Lao Sangam MN; font-size: 24px;'>Lao Sangam MN</p>\n",
       "<p>Liberation Mono: <span style='font-family:Liberation Mono; font-size: 24px;'>Liberation Mono</p>\n",
       "<p>Liberation Sans: <span style='font-family:Liberation Sans; font-size: 24px;'>Liberation Sans</p>\n",
       "<p>Liberation Serif: <span style='font-family:Liberation Serif; font-size: 24px;'>Liberation Serif</p>\n",
       "<p>Lucida Console: <span style='font-family:Lucida Console; font-size: 24px;'>Lucida Console</p>\n",
       "<p>Lucida Grande: <span style='font-family:Lucida Grande; font-size: 24px;'>Lucida Grande</p>\n",
       "<p>Lucida Sans Unicode: <span style='font-family:Lucida Sans Unicode; font-size: 24px;'>Lucida Sans Unicode</p>\n",
       "<p>Luminari: <span style='font-family:Luminari; font-size: 24px;'>Luminari</p>\n",
       "<p>Luxi Mono: <span style='font-family:Luxi Mono; font-size: 24px;'>Luxi Mono</p>\n",
       "<p>Luxi Sans: <span style='font-family:Luxi Sans; font-size: 24px;'>Luxi Sans</p>\n",
       "<p>Luxi Serif: <span style='font-family:Luxi Serif; font-size: 24px;'>Luxi Serif</p>\n",
       "<p>MS Gothic: <span style='font-family:MS Gothic; font-size: 24px;'>MS Gothic</p>\n",
       "<p>MS Mincho: <span style='font-family:MS Mincho; font-size: 24px;'>MS Mincho</p>\n",
       "<p>MS PGothic: <span style='font-family:MS PGothic; font-size: 24px;'>MS PGothic</p>\n",
       "<p>MS PMincho: <span style='font-family:MS PMincho; font-size: 24px;'>MS PMincho</p>\n",
       "<p>MS Reference Sans Serif: <span style='font-family:MS Reference Sans Serif; font-size: 24px;'>MS Reference Sans Serif</p>\n",
       "<p>MS Reference Specialty: <span style='font-family:MS Reference Specialty; font-size: 24px;'>MS Reference Specialty</p>\n",
       "<p>MagmaIIW01-Bold: <span style='font-family:MagmaIIW01-Bold; font-size: 24px;'>MagmaIIW01-Bold</p>\n",
       "<p>Malayalam MN: <span style='font-family:Malayalam MN; font-size: 24px;'>Malayalam MN</p>\n",
       "<p>Malayalam Sangam MN: <span style='font-family:Malayalam Sangam MN; font-size: 24px;'>Malayalam Sangam MN</p>\n",
       "<p>Marion: <span style='font-family:Marion; font-size: 24px;'>Marion</p>\n",
       "<p>Marker Felt: <span style='font-family:Marker Felt; font-size: 24px;'>Marker Felt</p>\n",
       "<p>Marlett: <span style='font-family:Marlett; font-size: 24px;'>Marlett</p>\n",
       "<p>Meiryo: <span style='font-family:Meiryo; font-size: 24px;'>Meiryo</p>\n",
       "<p>Menlo: <span style='font-family:Menlo; font-size: 24px;'>Menlo</p>\n",
       "<p>Microsoft Himalaya: <span style='font-family:Microsoft Himalaya; font-size: 24px;'>Microsoft Himalaya</p>\n",
       "<p>Microsoft Sans Serif: <span style='font-family:Microsoft Sans Serif; font-size: 24px;'>Microsoft Sans Serif</p>\n",
       "<p>Microsoft Tai Le: <span style='font-family:Microsoft Tai Le; font-size: 24px;'>Microsoft Tai Le</p>\n",
       "<p>Microsoft Yi Baiti: <span style='font-family:Microsoft Yi Baiti; font-size: 24px;'>Microsoft Yi Baiti</p>\n",
       "<p>MingLiU: <span style='font-family:MingLiU; font-size: 24px;'>MingLiU</p>\n",
       "<p>MingLiU-ExtB: <span style='font-family:MingLiU-ExtB; font-size: 24px;'>MingLiU-ExtB</p>\n",
       "<p>MingLiU_HKSCS: <span style='font-family:MingLiU_HKSCS; font-size: 24px;'>MingLiU_HKSCS</p>\n",
       "<p>MingLiU_HKSCS-ExtB: <span style='font-family:MingLiU_HKSCS-ExtB; font-size: 24px;'>MingLiU_HKSCS-ExtB</p>\n",
       "<p>Mishafi: <span style='font-family:Mishafi; font-size: 24px;'>Mishafi</p>\n",
       "<p>Mishafi Gold: <span style='font-family:Mishafi Gold; font-size: 24px;'>Mishafi Gold</p>\n",
       "<p>Mongolian Baiti: <span style='font-family:Mongolian Baiti; font-size: 24px;'>Mongolian Baiti</p>\n",
       "<p>Mshtakan: <span style='font-family:Mshtakan; font-size: 24px;'>Mshtakan</p>\n",
       "<p>Mukta Mahee: <span style='font-family:Mukta Mahee; font-size: 24px;'>Mukta Mahee</p>\n",
       "<p>Muna: <span style='font-family:Muna; font-size: 24px;'>Muna</p>\n",
       "<p>Myanmar MN: <span style='font-family:Myanmar MN; font-size: 24px;'>Myanmar MN</p>\n",
       "<p>Myanmar Sangam MN: <span style='font-family:Myanmar Sangam MN; font-size: 24px;'>Myanmar Sangam MN</p>\n",
       "<p>Nadeem: <span style='font-family:Nadeem; font-size: 24px;'>Nadeem</p>\n",
       "<p>New Peninim MT: <span style='font-family:New Peninim MT; font-size: 24px;'>New Peninim MT</p>\n",
       "<p>Noteworthy: <span style='font-family:Noteworthy; font-size: 24px;'>Noteworthy</p>\n",
       "<p>Noto Nastaliq Urdu: <span style='font-family:Noto Nastaliq Urdu; font-size: 24px;'>Noto Nastaliq Urdu</p>\n",
       "<p>Noto Sans Armenian: <span style='font-family:Noto Sans Armenian; font-size: 24px;'>Noto Sans Armenian</p>\n",
       "<p>Noto Sans Avestan: <span style='font-family:Noto Sans Avestan; font-size: 24px;'>Noto Sans Avestan</p>\n",
       "<p>Noto Sans Bamum: <span style='font-family:Noto Sans Bamum; font-size: 24px;'>Noto Sans Bamum</p>\n",
       "<p>Noto Sans Batak: <span style='font-family:Noto Sans Batak; font-size: 24px;'>Noto Sans Batak</p>\n",
       "<p>Noto Sans Brahmi: <span style='font-family:Noto Sans Brahmi; font-size: 24px;'>Noto Sans Brahmi</p>\n",
       "<p>Noto Sans Buginese: <span style='font-family:Noto Sans Buginese; font-size: 24px;'>Noto Sans Buginese</p>\n",
       "<p>Noto Sans Buhid: <span style='font-family:Noto Sans Buhid; font-size: 24px;'>Noto Sans Buhid</p>\n",
       "<p>Noto Sans Carian: <span style='font-family:Noto Sans Carian; font-size: 24px;'>Noto Sans Carian</p>\n",
       "<p>Noto Sans Chakma: <span style='font-family:Noto Sans Chakma; font-size: 24px;'>Noto Sans Chakma</p>\n",
       "<p>Noto Sans Cham: <span style='font-family:Noto Sans Cham; font-size: 24px;'>Noto Sans Cham</p>\n",
       "<p>Noto Sans Coptic: <span style='font-family:Noto Sans Coptic; font-size: 24px;'>Noto Sans Coptic</p>\n",
       "<p>Noto Sans Cuneiform: <span style='font-family:Noto Sans Cuneiform; font-size: 24px;'>Noto Sans Cuneiform</p>\n",
       "<p>Noto Sans Cypriot: <span style='font-family:Noto Sans Cypriot; font-size: 24px;'>Noto Sans Cypriot</p>\n",
       "<p>Noto Sans Egyptian Hieroglyphs: <span style='font-family:Noto Sans Egyptian Hieroglyphs; font-size: 24px;'>Noto Sans Egyptian Hieroglyphs</p>\n",
       "<p>Noto Sans Glagolitic: <span style='font-family:Noto Sans Glagolitic; font-size: 24px;'>Noto Sans Glagolitic</p>\n",
       "<p>Noto Sans Gothic: <span style='font-family:Noto Sans Gothic; font-size: 24px;'>Noto Sans Gothic</p>\n",
       "<p>Noto Sans Hanunoo: <span style='font-family:Noto Sans Hanunoo; font-size: 24px;'>Noto Sans Hanunoo</p>\n",
       "<p>Noto Sans Imperial Aramaic: <span style='font-family:Noto Sans Imperial Aramaic; font-size: 24px;'>Noto Sans Imperial Aramaic</p>\n",
       "<p>Noto Sans Inscriptional Pahlavi: <span style='font-family:Noto Sans Inscriptional Pahlavi; font-size: 24px;'>Noto Sans Inscriptional Pahlavi</p>\n",
       "<p>Noto Sans Inscriptional Parthian: <span style='font-family:Noto Sans Inscriptional Parthian; font-size: 24px;'>Noto Sans Inscriptional Parthian</p>\n",
       "<p>Noto Sans Javanese: <span style='font-family:Noto Sans Javanese; font-size: 24px;'>Noto Sans Javanese</p>\n",
       "<p>Noto Sans Kaithi: <span style='font-family:Noto Sans Kaithi; font-size: 24px;'>Noto Sans Kaithi</p>\n",
       "<p>Noto Sans Kannada: <span style='font-family:Noto Sans Kannada; font-size: 24px;'>Noto Sans Kannada</p>\n",
       "<p>Noto Sans Kayah Li: <span style='font-family:Noto Sans Kayah Li; font-size: 24px;'>Noto Sans Kayah Li</p>\n",
       "<p>Noto Sans Kharoshthi: <span style='font-family:Noto Sans Kharoshthi; font-size: 24px;'>Noto Sans Kharoshthi</p>\n",
       "<p>Noto Sans Lepcha: <span style='font-family:Noto Sans Lepcha; font-size: 24px;'>Noto Sans Lepcha</p>\n",
       "<p>Noto Sans Limbu: <span style='font-family:Noto Sans Limbu; font-size: 24px;'>Noto Sans Limbu</p>\n",
       "<p>Noto Sans Linear B: <span style='font-family:Noto Sans Linear B; font-size: 24px;'>Noto Sans Linear B</p>\n",
       "<p>Noto Sans Lisu: <span style='font-family:Noto Sans Lisu; font-size: 24px;'>Noto Sans Lisu</p>\n",
       "<p>Noto Sans Lycian: <span style='font-family:Noto Sans Lycian; font-size: 24px;'>Noto Sans Lycian</p>\n",
       "<p>Noto Sans Lydian: <span style='font-family:Noto Sans Lydian; font-size: 24px;'>Noto Sans Lydian</p>\n",
       "<p>Noto Sans Mandaic: <span style='font-family:Noto Sans Mandaic; font-size: 24px;'>Noto Sans Mandaic</p>\n",
       "<p>Noto Sans Meetei Mayek: <span style='font-family:Noto Sans Meetei Mayek; font-size: 24px;'>Noto Sans Meetei Mayek</p>\n",
       "<p>Noto Sans Mongolian: <span style='font-family:Noto Sans Mongolian; font-size: 24px;'>Noto Sans Mongolian</p>\n",
       "<p>Noto Sans Myanmar: <span style='font-family:Noto Sans Myanmar; font-size: 24px;'>Noto Sans Myanmar</p>\n",
       "<p>Noto Sans NKo: <span style='font-family:Noto Sans NKo; font-size: 24px;'>Noto Sans NKo</p>\n",
       "<p>Noto Sans New Tai Lue: <span style='font-family:Noto Sans New Tai Lue; font-size: 24px;'>Noto Sans New Tai Lue</p>\n",
       "<p>Noto Sans Ogham: <span style='font-family:Noto Sans Ogham; font-size: 24px;'>Noto Sans Ogham</p>\n",
       "<p>Noto Sans Ol Chiki: <span style='font-family:Noto Sans Ol Chiki; font-size: 24px;'>Noto Sans Ol Chiki</p>\n",
       "<p>Noto Sans Old Italic: <span style='font-family:Noto Sans Old Italic; font-size: 24px;'>Noto Sans Old Italic</p>\n",
       "<p>Noto Sans Old Persian: <span style='font-family:Noto Sans Old Persian; font-size: 24px;'>Noto Sans Old Persian</p>\n",
       "<p>Noto Sans Old South Arabian: <span style='font-family:Noto Sans Old South Arabian; font-size: 24px;'>Noto Sans Old South Arabian</p>\n",
       "<p>Noto Sans Old Turkic: <span style='font-family:Noto Sans Old Turkic; font-size: 24px;'>Noto Sans Old Turkic</p>\n",
       "<p>Noto Sans Oriya: <span style='font-family:Noto Sans Oriya; font-size: 24px;'>Noto Sans Oriya</p>\n",
       "<p>Noto Sans Osmanya: <span style='font-family:Noto Sans Osmanya; font-size: 24px;'>Noto Sans Osmanya</p>\n",
       "<p>Noto Sans PhagsPa: <span style='font-family:Noto Sans PhagsPa; font-size: 24px;'>Noto Sans PhagsPa</p>\n",
       "<p>Noto Sans Phoenician: <span style='font-family:Noto Sans Phoenician; font-size: 24px;'>Noto Sans Phoenician</p>\n",
       "<p>Noto Sans Rejang: <span style='font-family:Noto Sans Rejang; font-size: 24px;'>Noto Sans Rejang</p>\n",
       "<p>Noto Sans Runic: <span style='font-family:Noto Sans Runic; font-size: 24px;'>Noto Sans Runic</p>\n",
       "<p>Noto Sans Samaritan: <span style='font-family:Noto Sans Samaritan; font-size: 24px;'>Noto Sans Samaritan</p>\n",
       "<p>Noto Sans Saurashtra: <span style='font-family:Noto Sans Saurashtra; font-size: 24px;'>Noto Sans Saurashtra</p>\n",
       "<p>Noto Sans Shavian: <span style='font-family:Noto Sans Shavian; font-size: 24px;'>Noto Sans Shavian</p>\n",
       "<p>Noto Sans Sundanese: <span style='font-family:Noto Sans Sundanese; font-size: 24px;'>Noto Sans Sundanese</p>\n",
       "<p>Noto Sans Syloti Nagri: <span style='font-family:Noto Sans Syloti Nagri; font-size: 24px;'>Noto Sans Syloti Nagri</p>\n",
       "<p>Noto Sans Syriac: <span style='font-family:Noto Sans Syriac; font-size: 24px;'>Noto Sans Syriac</p>\n",
       "<p>Noto Sans Tagalog: <span style='font-family:Noto Sans Tagalog; font-size: 24px;'>Noto Sans Tagalog</p>\n",
       "<p>Noto Sans Tagbanwa: <span style='font-family:Noto Sans Tagbanwa; font-size: 24px;'>Noto Sans Tagbanwa</p>\n",
       "<p>Noto Sans Tai Le: <span style='font-family:Noto Sans Tai Le; font-size: 24px;'>Noto Sans Tai Le</p>\n",
       "<p>Noto Sans Tai Tham: <span style='font-family:Noto Sans Tai Tham; font-size: 24px;'>Noto Sans Tai Tham</p>\n",
       "<p>Noto Sans Tai Viet: <span style='font-family:Noto Sans Tai Viet; font-size: 24px;'>Noto Sans Tai Viet</p>\n",
       "<p>Noto Sans Thaana: <span style='font-family:Noto Sans Thaana; font-size: 24px;'>Noto Sans Thaana</p>\n",
       "<p>Noto Sans Tifinagh: <span style='font-family:Noto Sans Tifinagh; font-size: 24px;'>Noto Sans Tifinagh</p>\n",
       "<p>Noto Sans Ugaritic: <span style='font-family:Noto Sans Ugaritic; font-size: 24px;'>Noto Sans Ugaritic</p>\n",
       "<p>Noto Sans Vai: <span style='font-family:Noto Sans Vai; font-size: 24px;'>Noto Sans Vai</p>\n",
       "<p>Noto Sans Yi: <span style='font-family:Noto Sans Yi; font-size: 24px;'>Noto Sans Yi</p>\n",
       "<p>Noto Serif Balinese: <span style='font-family:Noto Serif Balinese; font-size: 24px;'>Noto Serif Balinese</p>\n",
       "<p>Noto Serif Myanmar: <span style='font-family:Noto Serif Myanmar; font-size: 24px;'>Noto Serif Myanmar</p>\n",
       "<p>Optima: <span style='font-family:Optima; font-size: 24px;'>Optima</p>\n",
       "<p>Oriya MN: <span style='font-family:Oriya MN; font-size: 24px;'>Oriya MN</p>\n",
       "<p>Oriya Sangam MN: <span style='font-family:Oriya Sangam MN; font-size: 24px;'>Oriya Sangam MN</p>\n",
       "<p>PMingLiU: <span style='font-family:PMingLiU; font-size: 24px;'>PMingLiU</p>\n",
       "<p>PMingLiU-ExtB: <span style='font-family:PMingLiU-ExtB; font-size: 24px;'>PMingLiU-ExtB</p>\n",
       "<p>PT Mono: <span style='font-family:PT Mono; font-size: 24px;'>PT Mono</p>\n",
       "<p>PT Sans: <span style='font-family:PT Sans; font-size: 24px;'>PT Sans</p>\n",
       "<p>PT Serif: <span style='font-family:PT Serif; font-size: 24px;'>PT Serif</p>\n",
       "<p>PT Serif Caption: <span style='font-family:PT Serif Caption; font-size: 24px;'>PT Serif Caption</p>\n",
       "<p>Palatino: <span style='font-family:Palatino; font-size: 24px;'>Palatino</p>\n",
       "<p>Palatino Linotype: <span style='font-family:Palatino Linotype; font-size: 24px;'>Palatino Linotype</p>\n",
       "<p>Papyrus: <span style='font-family:Papyrus; font-size: 24px;'>Papyrus</p>\n",
       "<p>Perpetua: <span style='font-family:Perpetua; font-size: 24px;'>Perpetua</p>\n",
       "<p>Phosphate: <span style='font-family:Phosphate; font-size: 24px;'>Phosphate</p>\n",
       "<p>PingFang HK: <span style='font-family:PingFang HK; font-size: 24px;'>PingFang HK</p>\n",
       "<p>Plantagenet Cherokee: <span style='font-family:Plantagenet Cherokee; font-size: 24px;'>Plantagenet Cherokee</p>\n",
       "<p>Questrial: <span style='font-family:Questrial; font-size: 24px;'>Questrial</p>\n",
       "<p>Raanana: <span style='font-family:Raanana; font-size: 24px;'>Raanana</p>\n",
       "<p>Rockwell: <span style='font-family:Rockwell; font-size: 24px;'>Rockwell</p>\n",
       "<p>STIXGeneral: <span style='font-family:STIXGeneral; font-size: 24px;'>STIXGeneral</p>\n",
       "<p>STIXIntegralsD: <span style='font-family:STIXIntegralsD; font-size: 24px;'>STIXIntegralsD</p>\n",
       "<p>STIXIntegralsSm: <span style='font-family:STIXIntegralsSm; font-size: 24px;'>STIXIntegralsSm</p>\n",
       "<p>STIXIntegralsUp: <span style='font-family:STIXIntegralsUp; font-size: 24px;'>STIXIntegralsUp</p>\n",
       "<p>STIXIntegralsUpD: <span style='font-family:STIXIntegralsUpD; font-size: 24px;'>STIXIntegralsUpD</p>\n",
       "<p>STIXIntegralsUpSm: <span style='font-family:STIXIntegralsUpSm; font-size: 24px;'>STIXIntegralsUpSm</p>\n",
       "<p>STIXNonUnicode: <span style='font-family:STIXNonUnicode; font-size: 24px;'>STIXNonUnicode</p>\n",
       "<p>STIXSizeFiveSym: <span style='font-family:STIXSizeFiveSym; font-size: 24px;'>STIXSizeFiveSym</p>\n",
       "<p>STIXSizeFourSym: <span style='font-family:STIXSizeFourSym; font-size: 24px;'>STIXSizeFourSym</p>\n",
       "<p>STIXSizeOneSym: <span style='font-family:STIXSizeOneSym; font-size: 24px;'>STIXSizeOneSym</p>\n",
       "<p>STIXSizeThreeSym: <span style='font-family:STIXSizeThreeSym; font-size: 24px;'>STIXSizeThreeSym</p>\n",
       "<p>STIXSizeTwoSym: <span style='font-family:STIXSizeTwoSym; font-size: 24px;'>STIXSizeTwoSym</p>\n",
       "<p>STIXVariants: <span style='font-family:STIXVariants; font-size: 24px;'>STIXVariants</p>\n",
       "<p>Sana: <span style='font-family:Sana; font-size: 24px;'>Sana</p>\n",
       "<p>Sathu: <span style='font-family:Sathu; font-size: 24px;'>Sathu</p>\n",
       "<p>Savoye LET: <span style='font-family:Savoye LET; font-size: 24px;'>Savoye LET</p>\n",
       "<p>Seravek: <span style='font-family:Seravek; font-size: 24px;'>Seravek</p>\n",
       "<p>Serto Batnan: <span style='font-family:Serto Batnan; font-size: 24px;'>Serto Batnan</p>\n",
       "<p>Serto Jerusalem: <span style='font-family:Serto Jerusalem; font-size: 24px;'>Serto Jerusalem</p>\n",
       "<p>Serto Jerusalem Outline: <span style='font-family:Serto Jerusalem Outline; font-size: 24px;'>Serto Jerusalem Outline</p>\n",
       "<p>Serto Kharput: <span style='font-family:Serto Kharput; font-size: 24px;'>Serto Kharput</p>\n",
       "<p>Serto Malankara: <span style='font-family:Serto Malankara; font-size: 24px;'>Serto Malankara</p>\n",
       "<p>Serto Mardin: <span style='font-family:Serto Mardin; font-size: 24px;'>Serto Mardin</p>\n",
       "<p>Serto Urhoy: <span style='font-family:Serto Urhoy; font-size: 24px;'>Serto Urhoy</p>\n",
       "<p>Shree Devanagari 714: <span style='font-family:Shree Devanagari 714; font-size: 24px;'>Shree Devanagari 714</p>\n",
       "<p>SignPainter: <span style='font-family:SignPainter; font-size: 24px;'>SignPainter</p>\n",
       "<p>Silom: <span style='font-family:Silom; font-size: 24px;'>Silom</p>\n",
       "<p>SimHei: <span style='font-family:SimHei; font-size: 24px;'>SimHei</p>\n",
       "<p>SimSun: <span style='font-family:SimSun; font-size: 24px;'>SimSun</p>\n",
       "<p>SimSun-ExtB: <span style='font-family:SimSun-ExtB; font-size: 24px;'>SimSun-ExtB</p>\n",
       "<p>Sinhala MN: <span style='font-family:Sinhala MN; font-size: 24px;'>Sinhala MN</p>\n",
       "<p>Sinhala Sangam MN: <span style='font-family:Sinhala Sangam MN; font-size: 24px;'>Sinhala Sangam MN</p>\n",
       "<p>Skia: <span style='font-family:Skia; font-size: 24px;'>Skia</p>\n",
       "<p>Snell Roundhand: <span style='font-family:Snell Roundhand; font-size: 24px;'>Snell Roundhand</p>\n",
       "<p>Songti SC: <span style='font-family:Songti SC; font-size: 24px;'>Songti SC</p>\n",
       "<p>Sukhumvit Set: <span style='font-family:Sukhumvit Set; font-size: 24px;'>Sukhumvit Set</p>\n",
       "<p>Superclarendon: <span style='font-family:Superclarendon; font-size: 24px;'>Superclarendon</p>\n",
       "<p>Symbol: <span style='font-family:Symbol; font-size: 24px;'>Symbol</p>\n",
       "<p>System Font: <span style='font-family:System Font; font-size: 24px;'>System Font</p>\n",
       "<p>Tahoma: <span style='font-family:Tahoma; font-size: 24px;'>Tahoma</p>\n",
       "<p>Tamil MN: <span style='font-family:Tamil MN; font-size: 24px;'>Tamil MN</p>\n",
       "<p>Tamil Sangam MN: <span style='font-family:Tamil Sangam MN; font-size: 24px;'>Tamil Sangam MN</p>\n",
       "<p>Telugu MN: <span style='font-family:Telugu MN; font-size: 24px;'>Telugu MN</p>\n",
       "<p>Telugu Sangam MN: <span style='font-family:Telugu Sangam MN; font-size: 24px;'>Telugu Sangam MN</p>\n",
       "<p>Thonburi: <span style='font-family:Thonburi; font-size: 24px;'>Thonburi</p>\n",
       "<p>Times: <span style='font-family:Times; font-size: 24px;'>Times</p>\n",
       "<p>Times New Roman: <span style='font-family:Times New Roman; font-size: 24px;'>Times New Roman</p>\n",
       "<p>Trade Gothic LT Std: <span style='font-family:Trade Gothic LT Std; font-size: 24px;'>Trade Gothic LT Std</p>\n",
       "<p>TradeGothic LT: <span style='font-family:TradeGothic LT; font-size: 24px;'>TradeGothic LT</p>\n",
       "<p>TradeGothicNo.18-Condensed: <span style='font-family:TradeGothicNo.18-Condensed; font-size: 24px;'>TradeGothicNo.18-Condensed</p>\n",
       "<p>Trattatello: <span style='font-family:Trattatello; font-size: 24px;'>Trattatello</p>\n",
       "<p>Trebuchet MS: <span style='font-family:Trebuchet MS; font-size: 24px;'>Trebuchet MS</p>\n",
       "<p>Tw Cen MT: <span style='font-family:Tw Cen MT; font-size: 24px;'>Tw Cen MT</p>\n",
       "<p>Utopia: <span style='font-family:Utopia; font-size: 24px;'>Utopia</p>\n",
       "<p>Verdana: <span style='font-family:Verdana; font-size: 24px;'>Verdana</p>\n",
       "<p>Warnock Pro: <span style='font-family:Warnock Pro; font-size: 24px;'>Warnock Pro</p>\n",
       "<p>Waseem: <span style='font-family:Waseem; font-size: 24px;'>Waseem</p>\n",
       "<p>Webdings: <span style='font-family:Webdings; font-size: 24px;'>Webdings</p>\n",
       "<p>Wingdings: <span style='font-family:Wingdings; font-size: 24px;'>Wingdings</p>\n",
       "<p>Wingdings 2: <span style='font-family:Wingdings 2; font-size: 24px;'>Wingdings 2</p>\n",
       "<p>Wingdings 3: <span style='font-family:Wingdings 3; font-size: 24px;'>Wingdings 3</p>\n",
       "<p>Worstveld Sling: <span style='font-family:Worstveld Sling; font-size: 24px;'>Worstveld Sling</p>\n",
       "<p>Worstveld Sling Oblique: <span style='font-family:Worstveld Sling Oblique; font-size: 24px;'>Worstveld Sling Oblique</p>\n",
       "<p>Zapf Dingbats: <span style='font-family:Zapf Dingbats; font-size: 24px;'>Zapf Dingbats</p>\n",
       "<p>Zapfino: <span style='font-family:Zapfino; font-size: 24px;'>Zapfino</p>\n",
       "<p>cmb10: <span style='font-family:cmb10; font-size: 24px;'>cmb10</p>\n",
       "<p>cmex10: <span style='font-family:cmex10; font-size: 24px;'>cmex10</p>\n",
       "<p>cmmi10: <span style='font-family:cmmi10; font-size: 24px;'>cmmi10</p>\n",
       "<p>cmr10: <span style='font-family:cmr10; font-size: 24px;'>cmr10</p>\n",
       "<p>cmss10: <span style='font-family:cmss10; font-size: 24px;'>cmss10</p>\n",
       "<p>cmsy10: <span style='font-family:cmsy10; font-size: 24px;'>cmsy10</p>\n",
       "<p>cmtt10: <span style='font-family:cmtt10; font-size: 24px;'>cmtt10</p></div>"
      ],
      "text/plain": [
       "<IPython.core.display.HTML object>"
      ]
     },
     "execution_count": 396,
     "metadata": {},
     "output_type": "execute_result"
    }
   ],
   "source": [
    "# To have more fonts available\n",
    "import matplotlib.font_manager\n",
    "from IPython.core.display import HTML\n",
    "\n",
    "def make_html(fontname):\n",
    "    return \"<p>{font}: <span style='font-family:{font}; font-size: 24px;'>{font}</p>\".format(font=fontname)\n",
    "\n",
    "code = \"\\n\".join([make_html(font) for font in sorted(set([f.name for f in matplotlib.font_manager.fontManager.ttflist]))])\n",
    "\n",
    "HTML(\"<div style='column-count: 2;'>{}</div>\".format(code))"
   ]
  },
  {
   "cell_type": "code",
   "execution_count": 398,
   "metadata": {},
   "outputs": [
    {
     "data": {
      "image/png": "[encoded data removed]",
      "text/plain": [
       "<Figure size 432x288 with 1 Axes>"
      ]
     },
     "metadata": {
      "needs_background": "light"
     },
     "output_type": "display_data"
    }
   ],
   "source": [
    "# Creating line plot with high_ci\n",
    "x = ['Komondor', 'Clumber','Brittany Spaniel', 'Keeshond', 'Bull Mastiff', 'Bernese Mountain Dog']\n",
    "height = high_ci[\"CI_prediction1\"]\n",
    "\n",
    "fig = plt.figure()\n",
    "plt.plot(x, height, color= '#ff6e54')\n",
    "plt.title(\"Confidence of Breed Predictions from Doggy Images\", fontname='Droid Sans', fontsize=14)\n",
    "plt.xticks(rotation = 75, fontname='Droid Sans', fontsize=12);"
   ]
  },
  {
   "cell_type": "markdown",
   "metadata": {},
   "source": [
    "#### Question 3: Are the breeds above also among the most common?"
   ]
  },
  {
   "cell_type": "code",
   "execution_count": 399,
   "metadata": {},
   "outputs": [
    {
     "data": {
      "text/plain": [
       "prediction1\n",
       "golden_retriever      143\n",
       "labrador_retriever     90\n",
       "pembroke               78\n",
       "chihuahua              77\n",
       "pug                    55\n",
       "                     ... \n",
       "scottish_deerhound      1\n",
       "scotch_terrier          1\n",
       "japanese_spaniel        1\n",
       "clumber                 1\n",
       "silky_terrier           1\n",
       "Name: prediction1, Length: 109, dtype: int64"
      ]
     },
     "execution_count": 399,
     "metadata": {},
     "output_type": "execute_result"
    }
   ],
   "source": [
    "# Count of occurrences of all breeds in prediction1\n",
    "pred_dogs.groupby(\"prediction1\")[\"prediction1\"].count().sort_values(ascending=False)"
   ]
  },
  {
   "cell_type": "code",
   "execution_count": 400,
   "metadata": {},
   "outputs": [
    {
     "data": {
      "text/plain": [
       "12.944954128440367"
      ]
     },
     "execution_count": 400,
     "metadata": {},
     "output_type": "execute_result"
    }
   ],
   "source": [
    "# Mean calculation of breed count\n",
    "(pred_dogs.groupby(\"prediction1\")[\"prediction1\"].count().sort_values(ascending=False)).mean()"
   ]
  },
  {
   "cell_type": "code",
   "execution_count": 401,
   "metadata": {},
   "outputs": [
    {
     "data": {
      "text/plain": [
       "7.0"
      ]
     },
     "execution_count": 401,
     "metadata": {},
     "output_type": "execute_result"
    }
   ],
   "source": [
    "# Median calculation of breed count\n",
    "(pred_dogs.groupby(\"prediction1\")[\"prediction1\"].count().sort_values(ascending=False)).median()"
   ]
  },
  {
   "cell_type": "code",
   "execution_count": 402,
   "metadata": {},
   "outputs": [],
   "source": [
    "# Create a dataframe with breed occurrences of dogs in the high_ci data set\n",
    "breeds = [\"komondor\", \"clumber\", \"brittany_spaniel\", \"keeshond\", \"bull_mastiff\", \"bernese_mountain_dog\"]\n",
    "high_ci_token = pred_dogs[pred_dogs[\"prediction1\"].isin(breeds)]"
   ]
  },
  {
   "cell_type": "code",
   "execution_count": 403,
   "metadata": {},
   "outputs": [
    {
     "data": {
      "text/plain": [
       "(28, 12)"
      ]
     },
     "execution_count": 403,
     "metadata": {},
     "output_type": "execute_result"
    }
   ],
   "source": [
    "high_ci_token.shape"
   ]
  },
  {
   "cell_type": "code",
   "execution_count": 404,
   "metadata": {},
   "outputs": [],
   "source": [
    "high_ci_count = high_ci_token.groupby(\"prediction1\", as_index=False )[\"CI_prediction1\"].count()"
   ]
  },
  {
   "cell_type": "code",
   "execution_count": 405,
   "metadata": {
    "scrolled": false
   },
   "outputs": [],
   "source": [
    "high_ci_count[\"order\"] = [6, 3, 5, 2, 4, 1]"
   ]
  },
  {
   "cell_type": "code",
   "execution_count": 406,
   "metadata": {},
   "outputs": [],
   "source": [
    "high_ci_count = high_ci_count.sort_values(\"order\")"
   ]
  },
  {
   "cell_type": "code",
   "execution_count": 407,
   "metadata": {},
   "outputs": [
    {
     "data": {
      "text/html": [
       "<div>\n",
       "<style scoped>\n",
       "    .dataframe tbody tr th:only-of-type {\n",
       "        vertical-align: middle;\n",
       "    }\n",
       "\n",
       "    .dataframe tbody tr th {\n",
       "        vertical-align: top;\n",
       "    }\n",
       "\n",
       "    .dataframe thead th {\n",
       "        text-align: right;\n",
       "    }\n",
       "</style>\n",
       "<table border=\"1\" class=\"dataframe\">\n",
       "  <thead>\n",
       "    <tr style=\"text-align: right;\">\n",
       "      <th></th>\n",
       "      <th>prediction1</th>\n",
       "      <th>CI_prediction1</th>\n",
       "      <th>order</th>\n",
       "    </tr>\n",
       "  </thead>\n",
       "  <tbody>\n",
       "    <tr>\n",
       "      <th>5</th>\n",
       "      <td>komondor</td>\n",
       "      <td>3</td>\n",
       "      <td>1</td>\n",
       "    </tr>\n",
       "    <tr>\n",
       "      <th>3</th>\n",
       "      <td>clumber</td>\n",
       "      <td>1</td>\n",
       "      <td>2</td>\n",
       "    </tr>\n",
       "    <tr>\n",
       "      <th>1</th>\n",
       "      <td>brittany_spaniel</td>\n",
       "      <td>6</td>\n",
       "      <td>3</td>\n",
       "    </tr>\n",
       "    <tr>\n",
       "      <th>4</th>\n",
       "      <td>keeshond</td>\n",
       "      <td>3</td>\n",
       "      <td>4</td>\n",
       "    </tr>\n",
       "    <tr>\n",
       "      <th>2</th>\n",
       "      <td>bull_mastiff</td>\n",
       "      <td>5</td>\n",
       "      <td>5</td>\n",
       "    </tr>\n",
       "    <tr>\n",
       "      <th>0</th>\n",
       "      <td>bernese_mountain_dog</td>\n",
       "      <td>10</td>\n",
       "      <td>6</td>\n",
       "    </tr>\n",
       "  </tbody>\n",
       "</table>\n",
       "</div>"
      ],
      "text/plain": [
       "            prediction1  CI_prediction1  order\n",
       "5              komondor               3      1\n",
       "3               clumber               1      2\n",
       "1      brittany_spaniel               6      3\n",
       "4              keeshond               3      4\n",
       "2          bull_mastiff               5      5\n",
       "0  bernese_mountain_dog              10      6"
      ]
     },
     "execution_count": 407,
     "metadata": {},
     "output_type": "execute_result"
    }
   ],
   "source": [
    "high_ci_count"
   ]
  },
  {
   "cell_type": "code",
   "execution_count": 408,
   "metadata": {},
   "outputs": [
    {
     "data": {
      "image/png": "[encoded data removed]",
      "text/plain": [
       "<Figure size 432x288 with 1 Axes>"
      ]
     },
     "metadata": {
      "needs_background": "light"
     },
     "output_type": "display_data"
    }
   ],
   "source": [
    "# Creating bar plot with high_ci_count\n",
    "x1 = high_ci_count[\"prediction1\"]\n",
    "height1 = high_ci_count[\"CI_prediction1\"]\n",
    "breeds=['Komondor', 'Clumber','Brittany Spaniel', 'Keeshond', 'Bull Mastiff', 'Bernese Mountain Dog']\n",
    "colors= [\"#003f5c\",\"#444e86\", \"#955196\", \"#dd5182\", \"#ff6e54\", \"#ffa600\"]\n",
    "\n",
    "plt.bar(x1, height1, color=colors, tick_label=breeds)\n",
    "plt.title(\"Number of Breed Occurrences\", fontname='Droid Sans', fontsize=14)\n",
    "plt.xticks(rotation = 75, fontname='Droid Sans', fontsize=12);"
   ]
  },
  {
   "cell_type": "code",
   "execution_count": null,
   "metadata": {},
   "outputs": [],
   "source": []
  }
 ],
 "metadata": {
  "kernelspec": {
   "display_name": "Python 3",
   "language": "python",
   "name": "python3"
  },
  "language_info": {
   "codemirror_mode": {
    "name": "ipython",
    "version": 3
   },
   "file_extension": ".py",
   "mimetype": "text/x-python",
   "name": "python",
   "nbconvert_exporter": "python",
   "pygments_lexer": "ipython3",
   "version": "3.7.9"
  }
 },
 "nbformat": 4,
 "nbformat_minor": 4
}
